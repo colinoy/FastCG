{
  "cells": [
    {
      "cell_type": "markdown",
      "metadata": {
        "id": "view-in-github",
        "colab_type": "text"
      },
      "source": [
        "<a href=\"https://colab.research.google.com/github/colinoy/CounterfactualGenrator/blob/vera/adult_data_predictions.ipynb\" target=\"_parent\"><img src=\"https://colab.research.google.com/assets/colab-badge.svg\" alt=\"Open In Colab\"/></a>"
      ]
    },
    {
      "cell_type": "code",
      "execution_count": 269,
      "metadata": {
        "id": "iqtgCgJj_S11"
      },
      "outputs": [],
      "source": [
        "import numpy as np\n",
        "import pandas as pd\n",
        "import matplotlib.pyplot as plt\n",
        "import seaborn as sns\n",
        "from sklearn.model_selection import train_test_split\n",
        "from sklearn.linear_model import LogisticRegression\n",
        "import warnings \n",
        "warnings.filterwarnings('ignore')\n",
        "from IPython.display import Markdown, display\n",
        "\n",
        "\n",
        "# Load the dataset from url and store it in a pandas dataframe \n",
        "\n",
        "url = \"https://archive.ics.uci.edu/ml/machine-learning-databases/adult/adult.data\"\n",
        "df = pd.read_csv(url, header=None)\n"
      ]
    },
    {
      "cell_type": "code",
      "execution_count": null,
      "metadata": {
        "id": "r-TSdjeE_S13"
      },
      "outputs": [],
      "source": [
        "def printmd(string):\n",
        "    display(Markdown(string))"
      ]
    },
    {
      "cell_type": "code",
      "execution_count": 270,
      "metadata": {
        "colab": {
          "base_uri": "https://localhost:8080/",
          "height": 443
        },
        "id": "ir_BzImv_S14",
        "outputId": "cf9d1cb7-135b-4480-e561-843bf2280034"
      },
      "outputs": [
        {
          "output_type": "execute_result",
          "data": {
            "text/plain": [
              "   age          workclass  fnlwgt   education  educational-num  \\\n",
              "0   39          State-gov   77516   Bachelors               13   \n",
              "1   50   Self-emp-not-inc   83311   Bachelors               13   \n",
              "2   38            Private  215646     HS-grad                9   \n",
              "3   53            Private  234721        11th                7   \n",
              "4   28            Private  338409   Bachelors               13   \n",
              "\n",
              "        marital-status          occupation    relationship    race   gender  \\\n",
              "0        Never-married        Adm-clerical   Not-in-family   White     Male   \n",
              "1   Married-civ-spouse     Exec-managerial         Husband   White     Male   \n",
              "2             Divorced   Handlers-cleaners   Not-in-family   White     Male   \n",
              "3   Married-civ-spouse   Handlers-cleaners         Husband   Black     Male   \n",
              "4   Married-civ-spouse      Prof-specialty            Wife   Black   Female   \n",
              "\n",
              "   capital-gain  capital-loss  hours-per-week  native-country  income  \n",
              "0          2174             0              40   United-States   <=50K  \n",
              "1             0             0              13   United-States   <=50K  \n",
              "2             0             0              40   United-States   <=50K  \n",
              "3             0             0              40   United-States   <=50K  \n",
              "4             0             0              40            Cuba   <=50K  "
            ],
            "text/html": [
              "\n",
              "  <div id=\"df-3ea00808-bdd0-4f01-85a3-c3cd3f00313d\">\n",
              "    <div class=\"colab-df-container\">\n",
              "      <div>\n",
              "<style scoped>\n",
              "    .dataframe tbody tr th:only-of-type {\n",
              "        vertical-align: middle;\n",
              "    }\n",
              "\n",
              "    .dataframe tbody tr th {\n",
              "        vertical-align: top;\n",
              "    }\n",
              "\n",
              "    .dataframe thead th {\n",
              "        text-align: right;\n",
              "    }\n",
              "</style>\n",
              "<table border=\"1\" class=\"dataframe\">\n",
              "  <thead>\n",
              "    <tr style=\"text-align: right;\">\n",
              "      <th></th>\n",
              "      <th>age</th>\n",
              "      <th>workclass</th>\n",
              "      <th>fnlwgt</th>\n",
              "      <th>education</th>\n",
              "      <th>educational-num</th>\n",
              "      <th>marital-status</th>\n",
              "      <th>occupation</th>\n",
              "      <th>relationship</th>\n",
              "      <th>race</th>\n",
              "      <th>gender</th>\n",
              "      <th>capital-gain</th>\n",
              "      <th>capital-loss</th>\n",
              "      <th>hours-per-week</th>\n",
              "      <th>native-country</th>\n",
              "      <th>income</th>\n",
              "    </tr>\n",
              "  </thead>\n",
              "  <tbody>\n",
              "    <tr>\n",
              "      <th>0</th>\n",
              "      <td>39</td>\n",
              "      <td>State-gov</td>\n",
              "      <td>77516</td>\n",
              "      <td>Bachelors</td>\n",
              "      <td>13</td>\n",
              "      <td>Never-married</td>\n",
              "      <td>Adm-clerical</td>\n",
              "      <td>Not-in-family</td>\n",
              "      <td>White</td>\n",
              "      <td>Male</td>\n",
              "      <td>2174</td>\n",
              "      <td>0</td>\n",
              "      <td>40</td>\n",
              "      <td>United-States</td>\n",
              "      <td>&lt;=50K</td>\n",
              "    </tr>\n",
              "    <tr>\n",
              "      <th>1</th>\n",
              "      <td>50</td>\n",
              "      <td>Self-emp-not-inc</td>\n",
              "      <td>83311</td>\n",
              "      <td>Bachelors</td>\n",
              "      <td>13</td>\n",
              "      <td>Married-civ-spouse</td>\n",
              "      <td>Exec-managerial</td>\n",
              "      <td>Husband</td>\n",
              "      <td>White</td>\n",
              "      <td>Male</td>\n",
              "      <td>0</td>\n",
              "      <td>0</td>\n",
              "      <td>13</td>\n",
              "      <td>United-States</td>\n",
              "      <td>&lt;=50K</td>\n",
              "    </tr>\n",
              "    <tr>\n",
              "      <th>2</th>\n",
              "      <td>38</td>\n",
              "      <td>Private</td>\n",
              "      <td>215646</td>\n",
              "      <td>HS-grad</td>\n",
              "      <td>9</td>\n",
              "      <td>Divorced</td>\n",
              "      <td>Handlers-cleaners</td>\n",
              "      <td>Not-in-family</td>\n",
              "      <td>White</td>\n",
              "      <td>Male</td>\n",
              "      <td>0</td>\n",
              "      <td>0</td>\n",
              "      <td>40</td>\n",
              "      <td>United-States</td>\n",
              "      <td>&lt;=50K</td>\n",
              "    </tr>\n",
              "    <tr>\n",
              "      <th>3</th>\n",
              "      <td>53</td>\n",
              "      <td>Private</td>\n",
              "      <td>234721</td>\n",
              "      <td>11th</td>\n",
              "      <td>7</td>\n",
              "      <td>Married-civ-spouse</td>\n",
              "      <td>Handlers-cleaners</td>\n",
              "      <td>Husband</td>\n",
              "      <td>Black</td>\n",
              "      <td>Male</td>\n",
              "      <td>0</td>\n",
              "      <td>0</td>\n",
              "      <td>40</td>\n",
              "      <td>United-States</td>\n",
              "      <td>&lt;=50K</td>\n",
              "    </tr>\n",
              "    <tr>\n",
              "      <th>4</th>\n",
              "      <td>28</td>\n",
              "      <td>Private</td>\n",
              "      <td>338409</td>\n",
              "      <td>Bachelors</td>\n",
              "      <td>13</td>\n",
              "      <td>Married-civ-spouse</td>\n",
              "      <td>Prof-specialty</td>\n",
              "      <td>Wife</td>\n",
              "      <td>Black</td>\n",
              "      <td>Female</td>\n",
              "      <td>0</td>\n",
              "      <td>0</td>\n",
              "      <td>40</td>\n",
              "      <td>Cuba</td>\n",
              "      <td>&lt;=50K</td>\n",
              "    </tr>\n",
              "  </tbody>\n",
              "</table>\n",
              "</div>\n",
              "      <button class=\"colab-df-convert\" onclick=\"convertToInteractive('df-3ea00808-bdd0-4f01-85a3-c3cd3f00313d')\"\n",
              "              title=\"Convert this dataframe to an interactive table.\"\n",
              "              style=\"display:none;\">\n",
              "        \n",
              "  <svg xmlns=\"http://www.w3.org/2000/svg\" height=\"24px\"viewBox=\"0 0 24 24\"\n",
              "       width=\"24px\">\n",
              "    <path d=\"M0 0h24v24H0V0z\" fill=\"none\"/>\n",
              "    <path d=\"M18.56 5.44l.94 2.06.94-2.06 2.06-.94-2.06-.94-.94-2.06-.94 2.06-2.06.94zm-11 1L8.5 8.5l.94-2.06 2.06-.94-2.06-.94L8.5 2.5l-.94 2.06-2.06.94zm10 10l.94 2.06.94-2.06 2.06-.94-2.06-.94-.94-2.06-.94 2.06-2.06.94z\"/><path d=\"M17.41 7.96l-1.37-1.37c-.4-.4-.92-.59-1.43-.59-.52 0-1.04.2-1.43.59L10.3 9.45l-7.72 7.72c-.78.78-.78 2.05 0 2.83L4 21.41c.39.39.9.59 1.41.59.51 0 1.02-.2 1.41-.59l7.78-7.78 2.81-2.81c.8-.78.8-2.07 0-2.86zM5.41 20L4 18.59l7.72-7.72 1.47 1.35L5.41 20z\"/>\n",
              "  </svg>\n",
              "      </button>\n",
              "      \n",
              "  <style>\n",
              "    .colab-df-container {\n",
              "      display:flex;\n",
              "      flex-wrap:wrap;\n",
              "      gap: 12px;\n",
              "    }\n",
              "\n",
              "    .colab-df-convert {\n",
              "      background-color: #E8F0FE;\n",
              "      border: none;\n",
              "      border-radius: 50%;\n",
              "      cursor: pointer;\n",
              "      display: none;\n",
              "      fill: #1967D2;\n",
              "      height: 32px;\n",
              "      padding: 0 0 0 0;\n",
              "      width: 32px;\n",
              "    }\n",
              "\n",
              "    .colab-df-convert:hover {\n",
              "      background-color: #E2EBFA;\n",
              "      box-shadow: 0px 1px 2px rgba(60, 64, 67, 0.3), 0px 1px 3px 1px rgba(60, 64, 67, 0.15);\n",
              "      fill: #174EA6;\n",
              "    }\n",
              "\n",
              "    [theme=dark] .colab-df-convert {\n",
              "      background-color: #3B4455;\n",
              "      fill: #D2E3FC;\n",
              "    }\n",
              "\n",
              "    [theme=dark] .colab-df-convert:hover {\n",
              "      background-color: #434B5C;\n",
              "      box-shadow: 0px 1px 3px 1px rgba(0, 0, 0, 0.15);\n",
              "      filter: drop-shadow(0px 1px 2px rgba(0, 0, 0, 0.3));\n",
              "      fill: #FFFFFF;\n",
              "    }\n",
              "  </style>\n",
              "\n",
              "      <script>\n",
              "        const buttonEl =\n",
              "          document.querySelector('#df-3ea00808-bdd0-4f01-85a3-c3cd3f00313d button.colab-df-convert');\n",
              "        buttonEl.style.display =\n",
              "          google.colab.kernel.accessAllowed ? 'block' : 'none';\n",
              "\n",
              "        async function convertToInteractive(key) {\n",
              "          const element = document.querySelector('#df-3ea00808-bdd0-4f01-85a3-c3cd3f00313d');\n",
              "          const dataTable =\n",
              "            await google.colab.kernel.invokeFunction('convertToInteractive',\n",
              "                                                     [key], {});\n",
              "          if (!dataTable) return;\n",
              "\n",
              "          const docLinkHtml = 'Like what you see? Visit the ' +\n",
              "            '<a target=\"_blank\" href=https://colab.research.google.com/notebooks/data_table.ipynb>data table notebook</a>'\n",
              "            + ' to learn more about interactive tables.';\n",
              "          element.innerHTML = '';\n",
              "          dataTable['output_type'] = 'display_data';\n",
              "          await google.colab.output.renderOutput(dataTable, element);\n",
              "          const docLink = document.createElement('div');\n",
              "          docLink.innerHTML = docLinkHtml;\n",
              "          element.appendChild(docLink);\n",
              "        }\n",
              "      </script>\n",
              "    </div>\n",
              "  </div>\n",
              "  "
            ]
          },
          "metadata": {},
          "execution_count": 270
        }
      ],
      "source": [
        "# change the column names\n",
        "\n",
        "df = df.rename({0: \"age\", \n",
        "                1: \"workclass\",\n",
        "                2: \"fnlwgt\", \n",
        "                3: \"education\",\n",
        "                4: \"educational-num\",\n",
        "                5: \"marital-status\",\n",
        "                6: \"occupation\",\n",
        "                7: \"relationship\",\n",
        "                8: \"race\",\n",
        "                9: \"gender\",\n",
        "                10: \"capital-gain\",\n",
        "                11: \"capital-loss\",\n",
        "                12: \"hours-per-week\",\n",
        "                13: \"native-country\",\n",
        "                14: \"income\"}, axis=1)\n",
        "\n",
        "df.head()\n"
      ]
    },
    {
      "cell_type": "code",
      "execution_count": null,
      "metadata": {
        "colab": {
          "base_uri": "https://localhost:8080/"
        },
        "id": "skqGYw8n_S14",
        "outputId": "f61c8dc7-7d0c-494d-a520-71dc59c132ac"
      },
      "outputs": [
        {
          "output_type": "stream",
          "name": "stdout",
          "text": [
            "Rows: 32561 Columns: 15\n"
          ]
        }
      ],
      "source": [
        "# Shape of dataset\n",
        "print('Rows: {} Columns: {}'.format(df.shape[0], df.shape[1]))"
      ]
    },
    {
      "cell_type": "code",
      "execution_count": 248,
      "metadata": {
        "colab": {
          "base_uri": "https://localhost:8080/"
        },
        "id": "hxRSCq0q_S15",
        "outputId": "c45d7e52-6b86-42a2-e6b3-63a2a6ab7dae"
      },
      "outputs": [
        {
          "output_type": "stream",
          "name": "stdout",
          "text": [
            "<class 'pandas.core.frame.DataFrame'>\n",
            "RangeIndex: 32561 entries, 0 to 32560\n",
            "Data columns (total 15 columns):\n",
            " #   Column           Non-Null Count  Dtype \n",
            "---  ------           --------------  ----- \n",
            " 0   age              32561 non-null  int64 \n",
            " 1   workclass        32561 non-null  object\n",
            " 2   fnlwgt           32561 non-null  int64 \n",
            " 3   education        32561 non-null  object\n",
            " 4   educational-num  32561 non-null  int64 \n",
            " 5   marital-status   32561 non-null  object\n",
            " 6   occupation       32561 non-null  object\n",
            " 7   relationship     32561 non-null  object\n",
            " 8   race             32561 non-null  object\n",
            " 9   gender           32561 non-null  object\n",
            " 10  capital-gain     32561 non-null  int64 \n",
            " 11  capital-loss     32561 non-null  int64 \n",
            " 12  hours-per-week   32561 non-null  int64 \n",
            " 13  native-country   32561 non-null  object\n",
            " 14  income           32561 non-null  object\n",
            "dtypes: int64(6), object(9)\n",
            "memory usage: 3.7+ MB\n"
          ]
        }
      ],
      "source": [
        "df.info()"
      ]
    },
    {
      "cell_type": "code",
      "execution_count": null,
      "metadata": {
        "colab": {
          "base_uri": "https://localhost:8080/"
        },
        "id": "MmmGW364_S15",
        "outputId": "70a04c1c-46c9-4dcb-a898-184815f3c3bd"
      },
      "outputs": [
        {
          "output_type": "execute_result",
          "data": {
            "text/plain": [
              "count      32561\n",
              "unique         2\n",
              "top        <=50K\n",
              "freq       24720\n",
              "Name: income, dtype: object"
            ]
          },
          "metadata": {},
          "execution_count": 49
        }
      ],
      "source": [
        "df.income.describe()"
      ]
    },
    {
      "cell_type": "code",
      "execution_count": null,
      "metadata": {
        "colab": {
          "base_uri": "https://localhost:8080/"
        },
        "id": "SWbeFj6w_S15",
        "outputId": "d58a1de9-2404-4395-8c6f-cae4616c11ba"
      },
      "outputs": [
        {
          "output_type": "execute_result",
          "data": {
            "text/plain": [
              "age                0.0 %\n",
              "workclass          0.0 %\n",
              "fnlwgt             0.0 %\n",
              "education          0.0 %\n",
              "educational-num    0.0 %\n",
              "marital-status     0.0 %\n",
              "occupation         0.0 %\n",
              "relationship       0.0 %\n",
              "race               0.0 %\n",
              "gender             0.0 %\n",
              "capital-gain       0.0 %\n",
              "capital-loss       0.0 %\n",
              "hours-per-week     0.0 %\n",
              "native-country     0.0 %\n",
              "income             0.0 %\n",
              "dtype: object"
            ]
          },
          "metadata": {},
          "execution_count": 7
        }
      ],
      "source": [
        "# Check for null values\n",
        "round((df.isnull().sum() / df.shape[0]) * 100, 2).astype(str) + ' %'"
      ]
    },
    {
      "cell_type": "code",
      "execution_count": null,
      "metadata": {
        "colab": {
          "base_uri": "https://localhost:8080/"
        },
        "id": "2xpc0MZn_S16",
        "outputId": "8b985d77-ce88-497e-cfa8-801a5ee1d52d"
      },
      "outputs": [
        {
          "output_type": "execute_result",
          "data": {
            "text/plain": [
              " <=50K    75.92 %\n",
              " >50K     24.08 %\n",
              "Name: income, dtype: object"
            ]
          },
          "metadata": {},
          "execution_count": 50
        }
      ],
      "source": [
        "# Checking the counts of label categories\n",
        "income = df['income'].value_counts(normalize=True)\n",
        "round(income * 100, 2).astype('str') + ' %'"
      ]
    },
    {
      "cell_type": "code",
      "execution_count": 271,
      "metadata": {
        "id": "amyl7B2z_S16"
      },
      "outputs": [],
      "source": [
        "df.age = df.age.astype(float)\n",
        "df['hours-per-week'] = df['hours-per-week'].astype(float)"
      ]
    },
    {
      "cell_type": "markdown",
      "metadata": {
        "id": "7JY4UTmf_S16"
      },
      "source": [
        "## Visualizition of the data "
      ]
    },
    {
      "cell_type": "code",
      "execution_count": null,
      "metadata": {
        "colab": {
          "base_uri": "https://localhost:8080/",
          "height": 315
        },
        "id": "4_898D05_S17",
        "outputId": "8dc884f2-7e77-400d-b751-120eb16f2a31"
      },
      "outputs": [
        {
          "output_type": "execute_result",
          "data": {
            "text/plain": [
              "<Axes: xlabel='income', ylabel='count'>"
            ]
          },
          "metadata": {},
          "execution_count": 10
        },
        {
          "output_type": "display_data",
          "data": {
            "text/plain": [
              "<Figure size 1440x360 with 1 Axes>"
            ],
            "image/png": "[encoded data removed]"
          },
          "metadata": {
            "needs_background": "light"
          }
        }
      ],
      "source": [
        "fig = plt.figure(figsize=(20,5))\n",
        "plt.style.use('seaborn-ticks')\n",
        "sns.countplot(x='income', data=df)"
      ]
    },
    {
      "cell_type": "code",
      "execution_count": null,
      "metadata": {
        "colab": {
          "base_uri": "https://localhost:8080/",
          "height": 337
        },
        "id": "fU_4bXJM_S17",
        "outputId": "a1c656f6-6ed5-44e0-9740-5968be798424"
      },
      "outputs": [
        {
          "output_type": "execute_result",
          "data": {
            "text/plain": [
              "Text(0, 0.5, 'Count')"
            ]
          },
          "metadata": {},
          "execution_count": 11
        },
        {
          "output_type": "display_data",
          "data": {
            "text/plain": [
              "<Figure size 1440x360 with 1 Axes>"
            ],
            "image/png": "[encoded data removed]"
          },
          "metadata": {}
        }
      ],
      "source": [
        "# Plotting the distribution of age \n",
        "plt.figure(figsize=(20,5))\n",
        "sns.distplot(df.age, bins=20, kde=False, color='red')\n",
        "plt.title('Distribution of Age', fontsize=20)\n",
        "plt.xlabel('Age', fontsize=15)  \n",
        "plt.ylabel('Count', fontsize=15)"
      ]
    },
    {
      "cell_type": "code",
      "execution_count": null,
      "metadata": {
        "colab": {
          "base_uri": "https://localhost:8080/",
          "height": 536
        },
        "id": "ETknlF3V_S18",
        "outputId": "e1dc85b2-9165-4b42-8f78-04fb7f75f225"
      },
      "outputs": [
        {
          "output_type": "display_data",
          "data": {
            "text/plain": [
              "<IPython.core.display.Markdown object>"
            ],
            "text/markdown": "## Correlation Matrix"
          },
          "metadata": {}
        },
        {
          "output_type": "display_data",
          "data": {
            "text/plain": [
              "<Figure size 432x432 with 2 Axes>"
            ],
            "image/png": "[encoded data removed]"
          },
          "metadata": {}
        },
        {
          "output_type": "display_data",
          "data": {
            "text/plain": [
              "<IPython.core.display.Markdown object>"
            ],
            "text/markdown": "We see that none of the columns are highly correlated."
          },
          "metadata": {}
        }
      ],
      "source": [
        "## correlation matrix \n",
        "printmd('## Correlation Matrix')\n",
        "\n",
        "corr = df.corr()\n",
        "plt.figure(figsize=(6,6))\n",
        "sns.heatmap(corr, annot=True, cmap='coolwarm', linewidths=0.2)\n",
        "fig=plt.gcf()\n",
        "fig.set_size_inches(6,6)\n",
        "plt.xticks(fontsize=12)\n",
        "plt.yticks(fontsize=12)\n",
        "plt.show()\n",
        "\n",
        "\n",
        "printmd('We see that none of the columns are highly correlated.')\n",
        "\n",
        "\n"
      ]
    },
    {
      "cell_type": "code",
      "execution_count": null,
      "metadata": {
        "colab": {
          "base_uri": "https://localhost:8080/"
        },
        "id": "IV7bDp0t_S18",
        "outputId": "87a6a0b8-b9f5-4e76-b30c-dd719dd943d3"
      },
      "outputs": [
        {
          "output_type": "execute_result",
          "data": {
            "text/plain": [
              "Index(['age', 'workclass', 'fnlwgt', 'education', 'educational-num',\n",
              "       'marital-status', 'occupation', 'relationship', 'race', 'gender',\n",
              "       'capital-gain', 'capital-loss', 'hours-per-week', 'native-country',\n",
              "       'income'],\n",
              "      dtype='object')"
            ]
          },
          "metadata": {},
          "execution_count": 13
        }
      ],
      "source": [
        "df.columns"
      ]
    },
    {
      "cell_type": "code",
      "execution_count": null,
      "metadata": {
        "id": "GHGIK7dC_S18",
        "outputId": "d63bdce9-74e3-4b3e-be4a-310490255453"
      },
      "outputs": [
        {
          "data": {
            "text/markdown": [
              "## Education vs Income"
            ],
            "text/plain": [
              "<IPython.core.display.Markdown object>"
            ]
          },
          "metadata": {},
          "output_type": "display_data"
        },
        {
          "data": {
            "text/markdown": [
              "We see from the bar graph below that as the         education level increase, the proportion of people who earn more than 50k a year also         increase. It is interesting to note that only after a master's degree, the proportion of         people earning more than 50k a year, is a majority."
            ],
            "text/plain": [
              "<IPython.core.display.Markdown object>"
            ]
          },
          "metadata": {},
          "output_type": "display_data"
        },
        {
          "data": {
            "image/png": "[encoded data removed]",
            "text/plain": [
              "<Figure size 1000x800 with 1 Axes>"
            ]
          },
          "metadata": {},
          "output_type": "display_data"
        }
      ],
      "source": [
        "printmd('## Education vs Income') \n",
        "\n",
        "edu_level = {}\n",
        "for x,y in df[['educational-num','education']].drop_duplicates().itertuples(index=False):\n",
        "    edu_level[y] = x \n",
        "\n",
        "education = round(pd.crosstab(df.education, df.income).div(pd.crosstab(df.education, df.income).apply(sum,1),0),2)\n",
        "education = education.reindex(sorted(edu_level, key=edu_level.get, reverse=False))\n",
        "\n",
        "ax = education.plot(kind ='bar', title = 'Proportion distribution across education levels', figsize = (10,8))\n",
        "ax.set_xlabel('Education level')\n",
        "ax.set_ylabel('Proportion of population')\n",
        "\n",
        "printmd('We see from the bar graph below that as the \\\n",
        "        education level increase, the proportion of people who earn more than 50k a year also \\\n",
        "        increase. It is interesting to note that only after a master\\'s degree, the proportion of \\\n",
        "        people earning more than 50k a year, is a majority.')\n"
      ]
    },
    {
      "cell_type": "code",
      "execution_count": null,
      "metadata": {
        "colab": {
          "base_uri": "https://localhost:8080/",
          "height": 430
        },
        "id": "sIu8MvzE_S19",
        "outputId": "40177e17-7dbc-4b47-c555-9ac2b40609af"
      },
      "outputs": [
        {
          "output_type": "display_data",
          "data": {
            "text/plain": [
              "<IPython.core.display.Markdown object>"
            ],
            "text/markdown": "## Gender vs Income"
          },
          "metadata": {}
        },
        {
          "output_type": "display_data",
          "data": {
            "text/plain": [
              "<IPython.core.display.Markdown object>"
            ],
            "text/markdown": "Bar graph showing the proportion of income classes across the genders in figure         below. From the graph, at an overall view, there exists a wage gap between females and males.         Since we do not have the exactly value of the income, we are limited to only observing that the         proportion of males earning more than 50k a year is more than double of their female counterparts.         "
          },
          "metadata": {}
        },
        {
          "output_type": "display_data",
          "data": {
            "text/plain": [
              "<Figure size 432x288 with 1 Axes>"
            ],
            "image/png": "[encoded data removed]"
          },
          "metadata": {}
        }
      ],
      "source": [
        "printmd('## Gender vs Income')\n",
        "\n",
        "gender = round(pd.crosstab(df.gender, df.income).div(pd.crosstab(df.gender, df.income).apply(sum,1),0),2)\n",
        "\n",
        "ax = gender.plot(kind ='bar', title = 'Proportion distribution across gender levels')\n",
        "ax.set_xlabel('Gender level')\n",
        "ax.set_ylabel('Proportion of population')\n",
        "\n",
        "printmd('Bar graph showing the proportion of income classes across the genders in figure \\\n",
        "        below. From the graph, at an overall view, there exists a wage gap between females and males. \\\n",
        "        Since we do not have the exactly value of the income, we are limited to only observing that the \\\n",
        "        proportion of males earning more than 50k a year is more than double of their female counterparts. \\\n",
        "        ')"
      ]
    },
    {
      "cell_type": "code",
      "execution_count": null,
      "metadata": {
        "id": "E_fU_TOw_S19",
        "outputId": "c2ef1db7-28f5-40c5-d29c-149e7f99ed27"
      },
      "outputs": [
        {
          "data": {
            "text/markdown": [
              "## Occupation vs Income"
            ],
            "text/plain": [
              "<IPython.core.display.Markdown object>"
            ]
          },
          "metadata": {},
          "output_type": "display_data"
        },
        {
          "name": "stdout",
          "output_type": "stream",
          "text": [
            "\n"
          ]
        },
        {
          "data": {
            "image/png": "[encoded data removed]",
            "text/plain": [
              "<Figure size 1000x800 with 1 Axes>"
            ]
          },
          "metadata": {},
          "output_type": "display_data"
        }
      ],
      "source": [
        "printmd('## Occupation vs Income')\n",
        "\n",
        "occupation = round(pd.crosstab(df.occupation, df.income).div(pd.crosstab(df.occupation, df.income).apply(sum,1),0),2)\n",
        "occupation.sort_values(by= ' >50K', ascending=False, inplace=True)\n",
        "ax = occupation.plot(kind ='bar', title = 'Proportion distribution across Occupation levels', figsize = (10,8))\n",
        "ax.set_xlabel('Occupation level')\n",
        "ax.set_ylabel('Proportion of population')\n",
        "\n",
        "print()"
      ]
    },
    {
      "cell_type": "code",
      "execution_count": null,
      "metadata": {
        "colab": {
          "base_uri": "https://localhost:8080/",
          "height": 628
        },
        "id": "asHfir-R_S19",
        "outputId": "90773b52-f974-4930-dfaf-3cd344ac4fbe"
      },
      "outputs": [
        {
          "output_type": "display_data",
          "data": {
            "text/plain": [
              "<IPython.core.display.Markdown object>"
            ],
            "text/markdown": "Workclass vs Income"
          },
          "metadata": {}
        },
        {
          "output_type": "stream",
          "name": "stdout",
          "text": [
            "\n"
          ]
        },
        {
          "output_type": "display_data",
          "data": {
            "text/plain": [
              "<Figure size 720x576 with 1 Axes>"
            ],
            "image/png": "[encoded data removed]"
          },
          "metadata": {}
        }
      ],
      "source": [
        "printmd('Workclass vs Income')\n",
        "\n",
        "workclass = round(pd.crosstab(df.workclass, df.income).div(pd.crosstab(df.workclass, df.income).apply(sum,1),0),2)\n",
        "workclass.sort_values(by = ' >50K', inplace = True)\n",
        "ax = workclass.plot(kind ='bar', title = 'Proportion distribution across workclass levels', figsize = (10,8))\n",
        "ax.set_xlabel('Workclass level')\n",
        "ax.set_ylabel('Proportion of population')\n",
        "\n",
        "print()"
      ]
    },
    {
      "cell_type": "code",
      "execution_count": null,
      "metadata": {
        "id": "e8Tb0Q0m_S19",
        "outputId": "25c21ab3-8a5f-4344-a6d2-aa06fca3570f"
      },
      "outputs": [
        {
          "data": {
            "text/markdown": [
              "## Box plot"
            ],
            "text/plain": [
              "<IPython.core.display.Markdown object>"
            ]
          },
          "metadata": {},
          "output_type": "display_data"
        },
        {
          "data": {
            "text/plain": [
              "<Axes: >"
            ]
          },
          "execution_count": 19,
          "metadata": {},
          "output_type": "execute_result"
        },
        {
          "data": {
            "image/png": "[encoded data removed]",
            "text/plain": [
              "<Figure size 1000x800 with 1 Axes>"
            ]
          },
          "metadata": {},
          "output_type": "display_data"
        }
      ],
      "source": [
        "printmd('## Box plot')\n",
        "df.select_dtypes(exclude = 'category').plot(kind = 'box', figsize = (10,8))"
      ]
    },
    {
      "cell_type": "markdown",
      "metadata": {
        "id": "aGI7TnhW_S1-"
      },
      "source": [
        "## Data Preparation's\n",
        "\n",
        "### Normalization \n",
        "\n",
        "Normalization is a statistical method that helps mathematical-based algorithms to interpret features with different magnitudes and distributions equally. We use MinMaxScaler to normalize our dataset. \n",
        "\n",
        "### One Hot Encoding \n",
        "\n",
        "One hot encoding is a process by which categorical variables are converted into a form that could be provided to ML algorithms to do a better job in prediction.\n"
      ]
    },
    {
      "cell_type": "code",
      "execution_count": null,
      "metadata": {
        "id": "c9nyW2PE_S1-"
      },
      "outputs": [],
      "source": [
        "from sklearn.preprocessing import StandardScaler\n",
        "from sklearn.preprocessing import LabelEncoder"
      ]
    },
    {
      "cell_type": "code",
      "source": [
        "#label encoding the target variable\n",
        "df[\"income\"] = df[\"income\"].map({\" <=50K\": 0, \" >50K\": 1})\n",
        "\n",
        "# One hot encoding the categorical variables\n",
        "#le = LabelEncoder()\n",
        "#df = df.apply(le.fit_transform)\n",
        "\n",
        "#df1 = pd.get_dummies(df[])\n"
      ],
      "metadata": {
        "id": "CDhmZPCxIyKf"
      },
      "execution_count": 272,
      "outputs": []
    },
    {
      "cell_type": "code",
      "source": [
        "df1.info()"
      ],
      "metadata": {
        "colab": {
          "base_uri": "https://localhost:8080/"
        },
        "id": "TwhaUAeFJIeT",
        "outputId": "69da65a3-70c6-4ea6-fb2b-468ec59c0997"
      },
      "execution_count": 275,
      "outputs": [
        {
          "output_type": "stream",
          "name": "stdout",
          "text": [
            "<class 'pandas.core.frame.DataFrame'>\n",
            "RangeIndex: 32561 entries, 0 to 32560\n",
            "Data columns (total 15 columns):\n",
            " #   Column           Non-Null Count  Dtype  \n",
            "---  ------           --------------  -----  \n",
            " 0   age              32561 non-null  float64\n",
            " 1   workclass        32561 non-null  object \n",
            " 2   fnlwgt           32561 non-null  int64  \n",
            " 3   education        32561 non-null  object \n",
            " 4   educational-num  32561 non-null  int64  \n",
            " 5   marital-status   32561 non-null  object \n",
            " 6   occupation       32561 non-null  object \n",
            " 7   relationship     32561 non-null  object \n",
            " 8   race             32561 non-null  object \n",
            " 9   gender           32561 non-null  object \n",
            " 10  capital-gain     32561 non-null  int64  \n",
            " 11  capital-loss     32561 non-null  int64  \n",
            " 12  hours-per-week   32561 non-null  float64\n",
            " 13  native-country   32561 non-null  object \n",
            " 14  income           32561 non-null  int64  \n",
            "dtypes: float64(2), int64(5), object(8)\n",
            "memory usage: 3.7+ MB\n"
          ]
        }
      ]
    },
    {
      "cell_type": "code",
      "source": [
        "df1 = df.copy()"
      ],
      "metadata": {
        "id": "VKsz5cBgLWT8"
      },
      "execution_count": 277,
      "outputs": []
    },
    {
      "cell_type": "code",
      "source": [
        "columns_cat = []\n",
        "for col in df1.columns:\n",
        "    if df1[col].dtype == 'object':\n",
        "        columns_cat.append(col)\n",
        "columns_cat\n"
      ],
      "metadata": {
        "colab": {
          "base_uri": "https://localhost:8080/"
        },
        "id": "K6RMk1UXJjEs",
        "outputId": "45ce1419-297e-4904-b80d-899176542354"
      },
      "execution_count": 278,
      "outputs": [
        {
          "output_type": "execute_result",
          "data": {
            "text/plain": [
              "['workclass',\n",
              " 'education',\n",
              " 'marital-status',\n",
              " 'occupation',\n",
              " 'relationship',\n",
              " 'race',\n",
              " 'gender',\n",
              " 'native-country']"
            ]
          },
          "metadata": {},
          "execution_count": 278
        }
      ]
    },
    {
      "cell_type": "code",
      "source": [
        "df_onehot = pd.get_dummies(df1)"
      ],
      "metadata": {
        "id": "N8talrYoM4FD"
      },
      "execution_count": 291,
      "outputs": []
    },
    {
      "cell_type": "code",
      "source": [
        "df_onehot.info()"
      ],
      "metadata": {
        "colab": {
          "base_uri": "https://localhost:8080/"
        },
        "id": "MjeovdOfJjI6",
        "outputId": "62667d31-890f-4b61-b999-8886ed829790"
      },
      "execution_count": 292,
      "outputs": [
        {
          "output_type": "stream",
          "name": "stdout",
          "text": [
            "<class 'pandas.core.frame.DataFrame'>\n",
            "RangeIndex: 32561 entries, 0 to 32560\n",
            "Columns: 109 entries, age to native-country_ Yugoslavia\n",
            "dtypes: float64(2), int64(5), uint8(102)\n",
            "memory usage: 4.9 MB\n"
          ]
        }
      ]
    },
    {
      "cell_type": "code",
      "execution_count": 293,
      "metadata": {
        "id": "S1MTkx4b_S1-"
      },
      "outputs": [],
      "source": [
        "\n",
        "\n",
        "# Split the data into training and testing sets \n",
        "X_train, X_test, y_train, y_test = train_test_split(df_onehot.drop('income', axis=1), df_onehot['income'], test_size=0.2, random_state=42)\n",
        "\n",
        "#normalize the data \n",
        "scaler = StandardScaler()\n",
        "X_train = scaler.fit_transform(X_train)\n",
        "X_test = scaler.transform(X_test)\n",
        "\n"
      ]
    },
    {
      "cell_type": "code",
      "execution_count": null,
      "metadata": {
        "id": "ggFIyBGb_S1-"
      },
      "outputs": [],
      "source": [
        "def model_eval(actual, pred):\n",
        "    \n",
        "    confusion = pd.crosstab(actual, pred, rownames=['Actual'], colnames=['Predicted'])\n",
        "    TP = confusion.iloc[1,1]\n",
        "    TN = confusion.iloc[0,0]\n",
        "    FP = confusion.iloc[0,1]\n",
        "    FN = confusion.iloc[1,0]\n",
        "    \n",
        "    accuracy = ((TP+TN))/(TP+FN+FP+TN)\n",
        "    precision = (TP)/(TP+FP)\n",
        "    recall = (TP)/(TP+FN)\n",
        "    f_measure = (2*recall*precision)/(recall+precision)\n",
        "    sensitivity = TP / (TP + FN)\n",
        "    specificity = TN / (TN + FP)\n",
        "    error_rate = 1 - accuracy\n",
        "    \n",
        "    out = {}\n",
        "    out['accuracy'] =  accuracy\n",
        "    out['precision'] = precision\n",
        "    out['recall'] = recall\n",
        "    out['f_measure'] = f_measure\n",
        "    out['sensitivity'] = sensitivity\n",
        "    out['specificity'] = specificity\n",
        "    out['error_rate'] = error_rate\n",
        "\n",
        "    return out\n",
        "    "
      ]
    },
    {
      "cell_type": "markdown",
      "metadata": {
        "id": "nnBKmyGn_S1-"
      },
      "source": [
        "## Model Implementation"
      ]
    },
    {
      "cell_type": "code",
      "execution_count": null,
      "metadata": {
        "id": "HAjpKI7k_S1_"
      },
      "outputs": [],
      "source": [
        "from sklearn.linear_model import LogisticRegression \n",
        "from sklearn.tree import DecisionTreeClassifier \n",
        "from sklearn.ensemble import RandomForestClassifier, AdaBoostClassifier, GradientBoostingClassifier\n",
        "from sklearn.neighbors import KNeighborsClassifier\n",
        "from sklearn.svm import SVC\n",
        "from sklearn.metrics import roc_curve\n",
        "from sklearn.preprocessing import label_binarize"
      ]
    },
    {
      "cell_type": "markdown",
      "metadata": {
        "id": "M3LLOgcC_S1_"
      },
      "source": [
        "### Decision Tree Classifier\n",
        "\n",
        "For the decision tree classifier, I experimented with the splitting criteria, minimum samples required to split, max depth of the tree, minimum samples required at the leaf level and the maximum features to consider when looking for the best split. The following values of the parameters attained the best accuracy during classification. Results in the table below.\n",
        "\n",
        "* Splitting criteria: Gini Index (Using Gini Index marginally outperformed Entropy with a higher accuracy.)\n",
        "* Min samples required to split: 5% (Best amongst 1%, 10% and 5%.)\n",
        "* Max Depth: None\n",
        "* Min samples required at leaf: 0.1 % (Best amongst 1%, 5% and 0.1%.)\n",
        "* Max features: number of features (Performs better than 'auto', 'log2' and 'sqrt'.)"
      ]
    },
    {
      "cell_type": "code",
      "execution_count": null,
      "metadata": {
        "colab": {
          "base_uri": "https://localhost:8080/",
          "height": 148
        },
        "id": "wnEIv4yy_S1_",
        "outputId": "5cc6859a-bae1-4c52-ccbd-d66ef9084150"
      },
      "outputs": [
        {
          "output_type": "stream",
          "name": "stdout",
          "text": [
            "Desicion Tree using Gini Index : 84.98 percent.\n",
            "Desicion Tree using Entropy : 85.17 percent.\n"
          ]
        },
        {
          "output_type": "display_data",
          "data": {
            "text/plain": [
              "               accuracy  precision  recall  f_measure  sensitivity  \\\n",
              "DTree_Entropy    0.8517     0.7873  0.5277     0.6319       0.5277   \n",
              "DTree_Gini       0.8498     0.8016  0.5016     0.6171       0.5016   \n",
              "\n",
              "               specificity  error_rate  \n",
              "DTree_Entropy       0.9547      0.1483  \n",
              "DTree_Gini          0.9605      0.1502  "
            ],
            "text/html": [
              "\n",
              "  <div id=\"df-0eb74e2a-fec7-47cf-b48b-23130951bbb9\">\n",
              "    <div class=\"colab-df-container\">\n",
              "      <div>\n",
              "<style scoped>\n",
              "    .dataframe tbody tr th:only-of-type {\n",
              "        vertical-align: middle;\n",
              "    }\n",
              "\n",
              "    .dataframe tbody tr th {\n",
              "        vertical-align: top;\n",
              "    }\n",
              "\n",
              "    .dataframe thead th {\n",
              "        text-align: right;\n",
              "    }\n",
              "</style>\n",
              "<table border=\"1\" class=\"dataframe\">\n",
              "  <thead>\n",
              "    <tr style=\"text-align: right;\">\n",
              "      <th></th>\n",
              "      <th>accuracy</th>\n",
              "      <th>precision</th>\n",
              "      <th>recall</th>\n",
              "      <th>f_measure</th>\n",
              "      <th>sensitivity</th>\n",
              "      <th>specificity</th>\n",
              "      <th>error_rate</th>\n",
              "    </tr>\n",
              "  </thead>\n",
              "  <tbody>\n",
              "    <tr>\n",
              "      <th>DTree_Entropy</th>\n",
              "      <td>0.8517</td>\n",
              "      <td>0.7873</td>\n",
              "      <td>0.5277</td>\n",
              "      <td>0.6319</td>\n",
              "      <td>0.5277</td>\n",
              "      <td>0.9547</td>\n",
              "      <td>0.1483</td>\n",
              "    </tr>\n",
              "    <tr>\n",
              "      <th>DTree_Gini</th>\n",
              "      <td>0.8498</td>\n",
              "      <td>0.8016</td>\n",
              "      <td>0.5016</td>\n",
              "      <td>0.6171</td>\n",
              "      <td>0.5016</td>\n",
              "      <td>0.9605</td>\n",
              "      <td>0.1502</td>\n",
              "    </tr>\n",
              "  </tbody>\n",
              "</table>\n",
              "</div>\n",
              "      <button class=\"colab-df-convert\" onclick=\"convertToInteractive('df-0eb74e2a-fec7-47cf-b48b-23130951bbb9')\"\n",
              "              title=\"Convert this dataframe to an interactive table.\"\n",
              "              style=\"display:none;\">\n",
              "        \n",
              "  <svg xmlns=\"http://www.w3.org/2000/svg\" height=\"24px\"viewBox=\"0 0 24 24\"\n",
              "       width=\"24px\">\n",
              "    <path d=\"M0 0h24v24H0V0z\" fill=\"none\"/>\n",
              "    <path d=\"M18.56 5.44l.94 2.06.94-2.06 2.06-.94-2.06-.94-.94-2.06-.94 2.06-2.06.94zm-11 1L8.5 8.5l.94-2.06 2.06-.94-2.06-.94L8.5 2.5l-.94 2.06-2.06.94zm10 10l.94 2.06.94-2.06 2.06-.94-2.06-.94-.94-2.06-.94 2.06-2.06.94z\"/><path d=\"M17.41 7.96l-1.37-1.37c-.4-.4-.92-.59-1.43-.59-.52 0-1.04.2-1.43.59L10.3 9.45l-7.72 7.72c-.78.78-.78 2.05 0 2.83L4 21.41c.39.39.9.59 1.41.59.51 0 1.02-.2 1.41-.59l7.78-7.78 2.81-2.81c.8-.78.8-2.07 0-2.86zM5.41 20L4 18.59l7.72-7.72 1.47 1.35L5.41 20z\"/>\n",
              "  </svg>\n",
              "      </button>\n",
              "      \n",
              "  <style>\n",
              "    .colab-df-container {\n",
              "      display:flex;\n",
              "      flex-wrap:wrap;\n",
              "      gap: 12px;\n",
              "    }\n",
              "\n",
              "    .colab-df-convert {\n",
              "      background-color: #E8F0FE;\n",
              "      border: none;\n",
              "      border-radius: 50%;\n",
              "      cursor: pointer;\n",
              "      display: none;\n",
              "      fill: #1967D2;\n",
              "      height: 32px;\n",
              "      padding: 0 0 0 0;\n",
              "      width: 32px;\n",
              "    }\n",
              "\n",
              "    .colab-df-convert:hover {\n",
              "      background-color: #E2EBFA;\n",
              "      box-shadow: 0px 1px 2px rgba(60, 64, 67, 0.3), 0px 1px 3px 1px rgba(60, 64, 67, 0.15);\n",
              "      fill: #174EA6;\n",
              "    }\n",
              "\n",
              "    [theme=dark] .colab-df-convert {\n",
              "      background-color: #3B4455;\n",
              "      fill: #D2E3FC;\n",
              "    }\n",
              "\n",
              "    [theme=dark] .colab-df-convert:hover {\n",
              "      background-color: #434B5C;\n",
              "      box-shadow: 0px 1px 3px 1px rgba(0, 0, 0, 0.15);\n",
              "      filter: drop-shadow(0px 1px 2px rgba(0, 0, 0, 0.3));\n",
              "      fill: #FFFFFF;\n",
              "    }\n",
              "  </style>\n",
              "\n",
              "      <script>\n",
              "        const buttonEl =\n",
              "          document.querySelector('#df-0eb74e2a-fec7-47cf-b48b-23130951bbb9 button.colab-df-convert');\n",
              "        buttonEl.style.display =\n",
              "          google.colab.kernel.accessAllowed ? 'block' : 'none';\n",
              "\n",
              "        async function convertToInteractive(key) {\n",
              "          const element = document.querySelector('#df-0eb74e2a-fec7-47cf-b48b-23130951bbb9');\n",
              "          const dataTable =\n",
              "            await google.colab.kernel.invokeFunction('convertToInteractive',\n",
              "                                                     [key], {});\n",
              "          if (!dataTable) return;\n",
              "\n",
              "          const docLinkHtml = 'Like what you see? Visit the ' +\n",
              "            '<a target=\"_blank\" href=https://colab.research.google.com/notebooks/data_table.ipynb>data table notebook</a>'\n",
              "            + ' to learn more about interactive tables.';\n",
              "          element.innerHTML = '';\n",
              "          dataTable['output_type'] = 'display_data';\n",
              "          await google.colab.output.renderOutput(dataTable, element);\n",
              "          const docLink = document.createElement('div');\n",
              "          docLink.innerHTML = docLinkHtml;\n",
              "          element.appendChild(docLink);\n",
              "        }\n",
              "      </script>\n",
              "    </div>\n",
              "  </div>\n",
              "  "
            ]
          },
          "metadata": {}
        }
      ],
      "source": [
        "clf_gini = DecisionTreeClassifier(criterion = 'gini', min_samples_split = 0.05, min_samples_leaf = 0.001)\n",
        "clf_gini = clf_gini.fit(X_train, y_train)\n",
        "clf_gini_pred = clf_gini.predict(X_test)\n",
        "DTree_Gini = model_eval(y_test, clf_gini_pred)\n",
        "print('Desicion Tree using Gini Index : %.2f percent.' % (round(DTree_Gini['accuracy']*100,2)))\n",
        "\n",
        "\n",
        "# Entropy\n",
        "clf_entropy = DecisionTreeClassifier(criterion = 'entropy', min_samples_split = 0.05, min_samples_leaf = 0.001)\n",
        "clf_entropy = clf_entropy.fit(X_train, y_train)\n",
        "clf_entropy_pred = clf_entropy.predict(X_test)\n",
        "DTree_Entropy = model_eval(y_test, clf_entropy_pred)\n",
        "print('Desicion Tree using Entropy : %.2f percent.' % (round(DTree_Entropy['accuracy']*100,2)))\n",
        "\n",
        "\n",
        "#printmd('### 3.1.2. Model Evaulation ')\n",
        "ovl_dtree = round(pd.DataFrame([DTree_Entropy, DTree_Gini], index = ['DTree_Entropy','DTree_Gini']),4)\n",
        "display(ovl_dtree)\n",
        "\n",
        "\n"
      ]
    },
    {
      "cell_type": "markdown",
      "metadata": {
        "id": "18FLrBdX_S1_"
      },
      "source": [
        "## Support Vector Machine \n",
        "\n",
        "\n",
        "For the SVM classifier, I experimented with the various available kernels, the penalty of the error term and the tolerance for stopping criteria. The following values of the parameters attained the best accuracy during classification. Results in the table below.\n",
        "\n",
        "* Kernel: rbf (Marginally outperformed 'linear, 'poly' and 'sigmoid' kernels.)\n",
        "* C, penalty of the error term: 1 (Best amongst 0.1, 0.5, 1 and 10)\n",
        "* Tolerance for stopping criteria: 1e-3 (Best amongst 1e-1, 1e-2, 1e-3, 1e-4 and 1e-5)"
      ]
    },
    {
      "cell_type": "code",
      "execution_count": null,
      "metadata": {
        "colab": {
          "base_uri": "https://localhost:8080/",
          "height": 246
        },
        "id": "By_aoCpi_S1_",
        "outputId": "4a058f34-3f23-4033-df39-97bb78875113"
      },
      "outputs": [
        {
          "output_type": "stream",
          "name": "stdout",
          "text": [
            "SVM using rbf kernel : 85.31 percent.\n",
            "SVM using linear kernel : 80.99 percent.\n",
            "SVM using poly kernel : 84.95 percent.\n",
            "SVM using sigmoid kernel : 73.85 percent.\n"
          ]
        },
        {
          "output_type": "display_data",
          "data": {
            "text/plain": [
              "             accuracy  precision  recall  f_measure  sensitivity  specificity  \\\n",
              "SVM_rbf        0.8531     0.7756  0.5500     0.6436       0.5500       0.9494   \n",
              "SVM_linear     0.8099     0.7573  0.3119     0.4418       0.3119       0.9682   \n",
              "SVM_poly       0.8495     0.7817  0.5220     0.6260       0.5220       0.9537   \n",
              "SVM_sigmoid    0.7385     0.4577  0.4551     0.4564       0.4551       0.8286   \n",
              "\n",
              "             error_rate  \n",
              "SVM_rbf          0.1469  \n",
              "SVM_linear       0.1901  \n",
              "SVM_poly         0.1505  \n",
              "SVM_sigmoid      0.2615  "
            ],
            "text/html": [
              "\n",
              "  <div id=\"df-abb2ea94-16a7-45e0-a11f-34e25171c8a7\">\n",
              "    <div class=\"colab-df-container\">\n",
              "      <div>\n",
              "<style scoped>\n",
              "    .dataframe tbody tr th:only-of-type {\n",
              "        vertical-align: middle;\n",
              "    }\n",
              "\n",
              "    .dataframe tbody tr th {\n",
              "        vertical-align: top;\n",
              "    }\n",
              "\n",
              "    .dataframe thead th {\n",
              "        text-align: right;\n",
              "    }\n",
              "</style>\n",
              "<table border=\"1\" class=\"dataframe\">\n",
              "  <thead>\n",
              "    <tr style=\"text-align: right;\">\n",
              "      <th></th>\n",
              "      <th>accuracy</th>\n",
              "      <th>precision</th>\n",
              "      <th>recall</th>\n",
              "      <th>f_measure</th>\n",
              "      <th>sensitivity</th>\n",
              "      <th>specificity</th>\n",
              "      <th>error_rate</th>\n",
              "    </tr>\n",
              "  </thead>\n",
              "  <tbody>\n",
              "    <tr>\n",
              "      <th>SVM_rbf</th>\n",
              "      <td>0.8531</td>\n",
              "      <td>0.7756</td>\n",
              "      <td>0.5500</td>\n",
              "      <td>0.6436</td>\n",
              "      <td>0.5500</td>\n",
              "      <td>0.9494</td>\n",
              "      <td>0.1469</td>\n",
              "    </tr>\n",
              "    <tr>\n",
              "      <th>SVM_linear</th>\n",
              "      <td>0.8099</td>\n",
              "      <td>0.7573</td>\n",
              "      <td>0.3119</td>\n",
              "      <td>0.4418</td>\n",
              "      <td>0.3119</td>\n",
              "      <td>0.9682</td>\n",
              "      <td>0.1901</td>\n",
              "    </tr>\n",
              "    <tr>\n",
              "      <th>SVM_poly</th>\n",
              "      <td>0.8495</td>\n",
              "      <td>0.7817</td>\n",
              "      <td>0.5220</td>\n",
              "      <td>0.6260</td>\n",
              "      <td>0.5220</td>\n",
              "      <td>0.9537</td>\n",
              "      <td>0.1505</td>\n",
              "    </tr>\n",
              "    <tr>\n",
              "      <th>SVM_sigmoid</th>\n",
              "      <td>0.7385</td>\n",
              "      <td>0.4577</td>\n",
              "      <td>0.4551</td>\n",
              "      <td>0.4564</td>\n",
              "      <td>0.4551</td>\n",
              "      <td>0.8286</td>\n",
              "      <td>0.2615</td>\n",
              "    </tr>\n",
              "  </tbody>\n",
              "</table>\n",
              "</div>\n",
              "      <button class=\"colab-df-convert\" onclick=\"convertToInteractive('df-abb2ea94-16a7-45e0-a11f-34e25171c8a7')\"\n",
              "              title=\"Convert this dataframe to an interactive table.\"\n",
              "              style=\"display:none;\">\n",
              "        \n",
              "  <svg xmlns=\"http://www.w3.org/2000/svg\" height=\"24px\"viewBox=\"0 0 24 24\"\n",
              "       width=\"24px\">\n",
              "    <path d=\"M0 0h24v24H0V0z\" fill=\"none\"/>\n",
              "    <path d=\"M18.56 5.44l.94 2.06.94-2.06 2.06-.94-2.06-.94-.94-2.06-.94 2.06-2.06.94zm-11 1L8.5 8.5l.94-2.06 2.06-.94-2.06-.94L8.5 2.5l-.94 2.06-2.06.94zm10 10l.94 2.06.94-2.06 2.06-.94-2.06-.94-.94-2.06-.94 2.06-2.06.94z\"/><path d=\"M17.41 7.96l-1.37-1.37c-.4-.4-.92-.59-1.43-.59-.52 0-1.04.2-1.43.59L10.3 9.45l-7.72 7.72c-.78.78-.78 2.05 0 2.83L4 21.41c.39.39.9.59 1.41.59.51 0 1.02-.2 1.41-.59l7.78-7.78 2.81-2.81c.8-.78.8-2.07 0-2.86zM5.41 20L4 18.59l7.72-7.72 1.47 1.35L5.41 20z\"/>\n",
              "  </svg>\n",
              "      </button>\n",
              "      \n",
              "  <style>\n",
              "    .colab-df-container {\n",
              "      display:flex;\n",
              "      flex-wrap:wrap;\n",
              "      gap: 12px;\n",
              "    }\n",
              "\n",
              "    .colab-df-convert {\n",
              "      background-color: #E8F0FE;\n",
              "      border: none;\n",
              "      border-radius: 50%;\n",
              "      cursor: pointer;\n",
              "      display: none;\n",
              "      fill: #1967D2;\n",
              "      height: 32px;\n",
              "      padding: 0 0 0 0;\n",
              "      width: 32px;\n",
              "    }\n",
              "\n",
              "    .colab-df-convert:hover {\n",
              "      background-color: #E2EBFA;\n",
              "      box-shadow: 0px 1px 2px rgba(60, 64, 67, 0.3), 0px 1px 3px 1px rgba(60, 64, 67, 0.15);\n",
              "      fill: #174EA6;\n",
              "    }\n",
              "\n",
              "    [theme=dark] .colab-df-convert {\n",
              "      background-color: #3B4455;\n",
              "      fill: #D2E3FC;\n",
              "    }\n",
              "\n",
              "    [theme=dark] .colab-df-convert:hover {\n",
              "      background-color: #434B5C;\n",
              "      box-shadow: 0px 1px 3px 1px rgba(0, 0, 0, 0.15);\n",
              "      filter: drop-shadow(0px 1px 2px rgba(0, 0, 0, 0.3));\n",
              "      fill: #FFFFFF;\n",
              "    }\n",
              "  </style>\n",
              "\n",
              "      <script>\n",
              "        const buttonEl =\n",
              "          document.querySelector('#df-abb2ea94-16a7-45e0-a11f-34e25171c8a7 button.colab-df-convert');\n",
              "        buttonEl.style.display =\n",
              "          google.colab.kernel.accessAllowed ? 'block' : 'none';\n",
              "\n",
              "        async function convertToInteractive(key) {\n",
              "          const element = document.querySelector('#df-abb2ea94-16a7-45e0-a11f-34e25171c8a7');\n",
              "          const dataTable =\n",
              "            await google.colab.kernel.invokeFunction('convertToInteractive',\n",
              "                                                     [key], {});\n",
              "          if (!dataTable) return;\n",
              "\n",
              "          const docLinkHtml = 'Like what you see? Visit the ' +\n",
              "            '<a target=\"_blank\" href=https://colab.research.google.com/notebooks/data_table.ipynb>data table notebook</a>'\n",
              "            + ' to learn more about interactive tables.';\n",
              "          element.innerHTML = '';\n",
              "          dataTable['output_type'] = 'display_data';\n",
              "          await google.colab.output.renderOutput(dataTable, element);\n",
              "          const docLink = document.createElement('div');\n",
              "          docLink.innerHTML = docLinkHtml;\n",
              "          element.appendChild(docLink);\n",
              "        }\n",
              "      </script>\n",
              "    </div>\n",
              "  </div>\n",
              "  "
            ]
          },
          "metadata": {}
        }
      ],
      "source": [
        "# rbf kernal\n",
        "svm_clf_rbf = SVC(kernel = 'rbf', C = 1, tol = 1e-3)\n",
        "svm_clf_rbf.fit(X_train, y_train)\n",
        "svm_clf_rbf_pred = svm_clf_rbf.predict(X_test)\n",
        "SVM_rbf = model_eval(y_test, svm_clf_rbf_pred)\n",
        "print('SVM using rbf kernel : %.2f percent.' % (round(SVM_rbf['accuracy']*100,2)))\n",
        "\n",
        "# Linear kernel\n",
        "svm_clf_linear = SVC(kernel = 'linear')\n",
        "svm_clf_linear.fit(X_train, y_train)\n",
        "svm_clf_linear_pred = svm_clf_linear.predict(X_test)\n",
        "SVM_linear = model_eval(y_test, svm_clf_linear_pred)\n",
        "print('SVM using linear kernel : %.2f percent.' % (round(SVM_linear['accuracy']*100,2)))\n",
        "\n",
        "\n",
        "# Poly kernal\n",
        "svm_clf_poly = SVC(kernel = 'poly')\n",
        "svm_clf_poly.fit(X_train, y_train)\n",
        "svm_clf_poly_pred = svm_clf_poly.predict(X_test)\n",
        "SVM_poly = model_eval(y_test, svm_clf_poly_pred)\n",
        "print('SVM using poly kernel : %.2f percent.' % (round(SVM_poly['accuracy']*100,2)))\n",
        "\n",
        "\n",
        "svm_clf_sigmoid = SVC(kernel = 'sigmoid')\n",
        "svm_clf_sigmoid.fit(X_train, y_train)\n",
        "svm_clf_sigmoid_pred = svm_clf_sigmoid.predict(X_test)\n",
        "SVM_sigmoid = model_eval(y_test, svm_clf_sigmoid_pred)\n",
        "print('SVM using sigmoid kernel : %.2f percent.' % (round(SVM_sigmoid['accuracy']*100,2)))\n",
        "\n",
        "\n",
        "\n",
        "ovl_svm = round(pd.DataFrame([SVM_rbf, SVM_linear, SVM_poly, SVM_sigmoid], index = ['SVM_rbf','SVM_linear', 'SVM_poly', 'SVM_sigmoid']),4)\n",
        "display(ovl_svm)"
      ]
    },
    {
      "cell_type": "markdown",
      "metadata": {
        "id": "-asmLhIg_S2A"
      },
      "source": [
        "## Random Forest\n",
        "For the random forests classifier, I experimented with the number of trees, splitting criteria, minimum samples required to split, max depth of the tree, minimum samples required at the leaf level and the maximum features to consider when looking for the best split. The following values of the parameters attained the best accuracy during classification. Results in the table below.\n",
        "\n",
        "* Num estimators: 100 (Best amongst 10, 50 and 100)\n",
        "* Splitting criteria: Gini Index (Using Gini Index marginally outperformed Entropy with a higher accuracy.)\n",
        "* Min samples required to split: 5% (Best amongst 1%, 10% and 5%.)\n",
        "* Max Depth: None\n",
        "* Min samples required at leaf: 0.1 % (Best amongst 1%, 5% and 0.1%.)\n",
        "* Max features: number of features (Performs better than 'auto', 'log2' and 'sqrt'.)"
      ]
    },
    {
      "cell_type": "code",
      "execution_count": null,
      "metadata": {
        "colab": {
          "base_uri": "https://localhost:8080/",
          "height": 148
        },
        "id": "6VDKsYJO_S2A",
        "outputId": "cd3bd0df-1ab7-40bd-d25d-978c6112b5f0"
      },
      "outputs": [
        {
          "output_type": "stream",
          "name": "stdout",
          "text": [
            "Random Forest using Gini Index : 84.91 percent.\n",
            "Random Forest using Entropy : 84.88 percent.\n"
          ]
        },
        {
          "output_type": "display_data",
          "data": {
            "text/plain": [
              "                 accuracy  precision  recall  f_measure  sensitivity  \\\n",
              "rforest_gini       0.8491     0.8050  0.4940     0.6122       0.4940   \n",
              "rforest_entropy    0.8488     0.8058  0.4914     0.6105       0.4914   \n",
              "\n",
              "                 specificity  error_rate  \n",
              "rforest_gini          0.9620      0.1509  \n",
              "rforest_entropy       0.9624      0.1512  "
            ],
            "text/html": [
              "\n",
              "  <div id=\"df-6e9e0365-7ae7-416b-a381-a4c833da35ce\">\n",
              "    <div class=\"colab-df-container\">\n",
              "      <div>\n",
              "<style scoped>\n",
              "    .dataframe tbody tr th:only-of-type {\n",
              "        vertical-align: middle;\n",
              "    }\n",
              "\n",
              "    .dataframe tbody tr th {\n",
              "        vertical-align: top;\n",
              "    }\n",
              "\n",
              "    .dataframe thead th {\n",
              "        text-align: right;\n",
              "    }\n",
              "</style>\n",
              "<table border=\"1\" class=\"dataframe\">\n",
              "  <thead>\n",
              "    <tr style=\"text-align: right;\">\n",
              "      <th></th>\n",
              "      <th>accuracy</th>\n",
              "      <th>precision</th>\n",
              "      <th>recall</th>\n",
              "      <th>f_measure</th>\n",
              "      <th>sensitivity</th>\n",
              "      <th>specificity</th>\n",
              "      <th>error_rate</th>\n",
              "    </tr>\n",
              "  </thead>\n",
              "  <tbody>\n",
              "    <tr>\n",
              "      <th>rforest_gini</th>\n",
              "      <td>0.8491</td>\n",
              "      <td>0.8050</td>\n",
              "      <td>0.4940</td>\n",
              "      <td>0.6122</td>\n",
              "      <td>0.4940</td>\n",
              "      <td>0.9620</td>\n",
              "      <td>0.1509</td>\n",
              "    </tr>\n",
              "    <tr>\n",
              "      <th>rforest_entropy</th>\n",
              "      <td>0.8488</td>\n",
              "      <td>0.8058</td>\n",
              "      <td>0.4914</td>\n",
              "      <td>0.6105</td>\n",
              "      <td>0.4914</td>\n",
              "      <td>0.9624</td>\n",
              "      <td>0.1512</td>\n",
              "    </tr>\n",
              "  </tbody>\n",
              "</table>\n",
              "</div>\n",
              "      <button class=\"colab-df-convert\" onclick=\"convertToInteractive('df-6e9e0365-7ae7-416b-a381-a4c833da35ce')\"\n",
              "              title=\"Convert this dataframe to an interactive table.\"\n",
              "              style=\"display:none;\">\n",
              "        \n",
              "  <svg xmlns=\"http://www.w3.org/2000/svg\" height=\"24px\"viewBox=\"0 0 24 24\"\n",
              "       width=\"24px\">\n",
              "    <path d=\"M0 0h24v24H0V0z\" fill=\"none\"/>\n",
              "    <path d=\"M18.56 5.44l.94 2.06.94-2.06 2.06-.94-2.06-.94-.94-2.06-.94 2.06-2.06.94zm-11 1L8.5 8.5l.94-2.06 2.06-.94-2.06-.94L8.5 2.5l-.94 2.06-2.06.94zm10 10l.94 2.06.94-2.06 2.06-.94-2.06-.94-.94-2.06-.94 2.06-2.06.94z\"/><path d=\"M17.41 7.96l-1.37-1.37c-.4-.4-.92-.59-1.43-.59-.52 0-1.04.2-1.43.59L10.3 9.45l-7.72 7.72c-.78.78-.78 2.05 0 2.83L4 21.41c.39.39.9.59 1.41.59.51 0 1.02-.2 1.41-.59l7.78-7.78 2.81-2.81c.8-.78.8-2.07 0-2.86zM5.41 20L4 18.59l7.72-7.72 1.47 1.35L5.41 20z\"/>\n",
              "  </svg>\n",
              "      </button>\n",
              "      \n",
              "  <style>\n",
              "    .colab-df-container {\n",
              "      display:flex;\n",
              "      flex-wrap:wrap;\n",
              "      gap: 12px;\n",
              "    }\n",
              "\n",
              "    .colab-df-convert {\n",
              "      background-color: #E8F0FE;\n",
              "      border: none;\n",
              "      border-radius: 50%;\n",
              "      cursor: pointer;\n",
              "      display: none;\n",
              "      fill: #1967D2;\n",
              "      height: 32px;\n",
              "      padding: 0 0 0 0;\n",
              "      width: 32px;\n",
              "    }\n",
              "\n",
              "    .colab-df-convert:hover {\n",
              "      background-color: #E2EBFA;\n",
              "      box-shadow: 0px 1px 2px rgba(60, 64, 67, 0.3), 0px 1px 3px 1px rgba(60, 64, 67, 0.15);\n",
              "      fill: #174EA6;\n",
              "    }\n",
              "\n",
              "    [theme=dark] .colab-df-convert {\n",
              "      background-color: #3B4455;\n",
              "      fill: #D2E3FC;\n",
              "    }\n",
              "\n",
              "    [theme=dark] .colab-df-convert:hover {\n",
              "      background-color: #434B5C;\n",
              "      box-shadow: 0px 1px 3px 1px rgba(0, 0, 0, 0.15);\n",
              "      filter: drop-shadow(0px 1px 2px rgba(0, 0, 0, 0.3));\n",
              "      fill: #FFFFFF;\n",
              "    }\n",
              "  </style>\n",
              "\n",
              "      <script>\n",
              "        const buttonEl =\n",
              "          document.querySelector('#df-6e9e0365-7ae7-416b-a381-a4c833da35ce button.colab-df-convert');\n",
              "        buttonEl.style.display =\n",
              "          google.colab.kernel.accessAllowed ? 'block' : 'none';\n",
              "\n",
              "        async function convertToInteractive(key) {\n",
              "          const element = document.querySelector('#df-6e9e0365-7ae7-416b-a381-a4c833da35ce');\n",
              "          const dataTable =\n",
              "            await google.colab.kernel.invokeFunction('convertToInteractive',\n",
              "                                                     [key], {});\n",
              "          if (!dataTable) return;\n",
              "\n",
              "          const docLinkHtml = 'Like what you see? Visit the ' +\n",
              "            '<a target=\"_blank\" href=https://colab.research.google.com/notebooks/data_table.ipynb>data table notebook</a>'\n",
              "            + ' to learn more about interactive tables.';\n",
              "          element.innerHTML = '';\n",
              "          dataTable['output_type'] = 'display_data';\n",
              "          await google.colab.output.renderOutput(dataTable, element);\n",
              "          const docLink = document.createElement('div');\n",
              "          docLink.innerHTML = docLinkHtml;\n",
              "          element.appendChild(docLink);\n",
              "        }\n",
              "      </script>\n",
              "    </div>\n",
              "  </div>\n",
              "  "
            ]
          },
          "metadata": {}
        }
      ],
      "source": [
        "# Gini\n",
        "r_forest_gini = RandomForestClassifier(n_estimators=100, criterion = 'gini', max_features = None,  min_samples_split = 0.05, min_samples_leaf = 0.001)\n",
        "r_forest_gini.fit(X_train, y_train)\n",
        "r_forest_gini_pred = r_forest_gini.predict(X_test)\n",
        "rforest_gini = model_eval(y_test, r_forest_gini_pred)\n",
        "print('Random Forest using Gini Index : %.2f percent.' % (round(rforest_gini['accuracy']*100,2)))\n",
        "\n",
        "# Entropy\n",
        "r_forest_entropy = RandomForestClassifier(n_estimators=100, criterion = 'entropy', max_features = None,  min_samples_split = 0.05, min_samples_leaf = 0.001)\n",
        "r_forest_entropy.fit(X_train, y_train)\n",
        "r_forest_entropy_pred = r_forest_entropy.predict(X_test)\n",
        "rforest_entropy = model_eval(y_test, r_forest_entropy_pred)\n",
        "print('Random Forest using Entropy : %.2f percent.' % (round(rforest_entropy['accuracy']*100,2)))\n",
        "\n",
        "#printmd('### 3.4.1.2. Model Evaulation ')\n",
        "ovl_rf = round(pd.DataFrame([rforest_gini, rforest_entropy], index = ['rforest_gini','rforest_entropy']),4)\n",
        "display(ovl_rf)"
      ]
    },
    {
      "cell_type": "markdown",
      "metadata": {
        "id": "ZYkJC17c_S2A"
      },
      "source": [
        "## Adaboost\n",
        "\n",
        "For the adaboost classifier, I experimented with base estimator from which the boosted ensemble is built and number of estimators. The following values of the parameters attained the best accuracy during classification. Results in the table below.\n",
        "\n",
        "* Base Estimator: DecisionTreeClassifier\n",
        "* Num estimators: 100 (Best amongst 10, 50 and 100.)"
      ]
    },
    {
      "cell_type": "code",
      "execution_count": 294,
      "metadata": {
        "colab": {
          "base_uri": "https://localhost:8080/",
          "height": 98
        },
        "id": "P5Q-LE7U_S2A",
        "outputId": "5e169b1e-7976-4900-d2a9-696610fd2255"
      },
      "outputs": [
        {
          "output_type": "stream",
          "name": "stdout",
          "text": [
            "Adaboost : 86.80 percent.\n"
          ]
        },
        {
          "output_type": "display_data",
          "data": {
            "text/plain": [
              "          accuracy  precision  recall  f_measure  sensitivity  specificity  \\\n",
              "adaboost     0.868      0.772  0.6423     0.7012       0.6423       0.9397   \n",
              "\n",
              "          error_rate  \n",
              "adaboost       0.132  "
            ],
            "text/html": [
              "\n",
              "  <div id=\"df-966dfef6-2531-447f-98e6-0109bed807aa\">\n",
              "    <div class=\"colab-df-container\">\n",
              "      <div>\n",
              "<style scoped>\n",
              "    .dataframe tbody tr th:only-of-type {\n",
              "        vertical-align: middle;\n",
              "    }\n",
              "\n",
              "    .dataframe tbody tr th {\n",
              "        vertical-align: top;\n",
              "    }\n",
              "\n",
              "    .dataframe thead th {\n",
              "        text-align: right;\n",
              "    }\n",
              "</style>\n",
              "<table border=\"1\" class=\"dataframe\">\n",
              "  <thead>\n",
              "    <tr style=\"text-align: right;\">\n",
              "      <th></th>\n",
              "      <th>accuracy</th>\n",
              "      <th>precision</th>\n",
              "      <th>recall</th>\n",
              "      <th>f_measure</th>\n",
              "      <th>sensitivity</th>\n",
              "      <th>specificity</th>\n",
              "      <th>error_rate</th>\n",
              "    </tr>\n",
              "  </thead>\n",
              "  <tbody>\n",
              "    <tr>\n",
              "      <th>adaboost</th>\n",
              "      <td>0.868</td>\n",
              "      <td>0.772</td>\n",
              "      <td>0.6423</td>\n",
              "      <td>0.7012</td>\n",
              "      <td>0.6423</td>\n",
              "      <td>0.9397</td>\n",
              "      <td>0.132</td>\n",
              "    </tr>\n",
              "  </tbody>\n",
              "</table>\n",
              "</div>\n",
              "      <button class=\"colab-df-convert\" onclick=\"convertToInteractive('df-966dfef6-2531-447f-98e6-0109bed807aa')\"\n",
              "              title=\"Convert this dataframe to an interactive table.\"\n",
              "              style=\"display:none;\">\n",
              "        \n",
              "  <svg xmlns=\"http://www.w3.org/2000/svg\" height=\"24px\"viewBox=\"0 0 24 24\"\n",
              "       width=\"24px\">\n",
              "    <path d=\"M0 0h24v24H0V0z\" fill=\"none\"/>\n",
              "    <path d=\"M18.56 5.44l.94 2.06.94-2.06 2.06-.94-2.06-.94-.94-2.06-.94 2.06-2.06.94zm-11 1L8.5 8.5l.94-2.06 2.06-.94-2.06-.94L8.5 2.5l-.94 2.06-2.06.94zm10 10l.94 2.06.94-2.06 2.06-.94-2.06-.94-.94-2.06-.94 2.06-2.06.94z\"/><path d=\"M17.41 7.96l-1.37-1.37c-.4-.4-.92-.59-1.43-.59-.52 0-1.04.2-1.43.59L10.3 9.45l-7.72 7.72c-.78.78-.78 2.05 0 2.83L4 21.41c.39.39.9.59 1.41.59.51 0 1.02-.2 1.41-.59l7.78-7.78 2.81-2.81c.8-.78.8-2.07 0-2.86zM5.41 20L4 18.59l7.72-7.72 1.47 1.35L5.41 20z\"/>\n",
              "  </svg>\n",
              "      </button>\n",
              "      \n",
              "  <style>\n",
              "    .colab-df-container {\n",
              "      display:flex;\n",
              "      flex-wrap:wrap;\n",
              "      gap: 12px;\n",
              "    }\n",
              "\n",
              "    .colab-df-convert {\n",
              "      background-color: #E8F0FE;\n",
              "      border: none;\n",
              "      border-radius: 50%;\n",
              "      cursor: pointer;\n",
              "      display: none;\n",
              "      fill: #1967D2;\n",
              "      height: 32px;\n",
              "      padding: 0 0 0 0;\n",
              "      width: 32px;\n",
              "    }\n",
              "\n",
              "    .colab-df-convert:hover {\n",
              "      background-color: #E2EBFA;\n",
              "      box-shadow: 0px 1px 2px rgba(60, 64, 67, 0.3), 0px 1px 3px 1px rgba(60, 64, 67, 0.15);\n",
              "      fill: #174EA6;\n",
              "    }\n",
              "\n",
              "    [theme=dark] .colab-df-convert {\n",
              "      background-color: #3B4455;\n",
              "      fill: #D2E3FC;\n",
              "    }\n",
              "\n",
              "    [theme=dark] .colab-df-convert:hover {\n",
              "      background-color: #434B5C;\n",
              "      box-shadow: 0px 1px 3px 1px rgba(0, 0, 0, 0.15);\n",
              "      filter: drop-shadow(0px 1px 2px rgba(0, 0, 0, 0.3));\n",
              "      fill: #FFFFFF;\n",
              "    }\n",
              "  </style>\n",
              "\n",
              "      <script>\n",
              "        const buttonEl =\n",
              "          document.querySelector('#df-966dfef6-2531-447f-98e6-0109bed807aa button.colab-df-convert');\n",
              "        buttonEl.style.display =\n",
              "          google.colab.kernel.accessAllowed ? 'block' : 'none';\n",
              "\n",
              "        async function convertToInteractive(key) {\n",
              "          const element = document.querySelector('#df-966dfef6-2531-447f-98e6-0109bed807aa');\n",
              "          const dataTable =\n",
              "            await google.colab.kernel.invokeFunction('convertToInteractive',\n",
              "                                                     [key], {});\n",
              "          if (!dataTable) return;\n",
              "\n",
              "          const docLinkHtml = 'Like what you see? Visit the ' +\n",
              "            '<a target=\"_blank\" href=https://colab.research.google.com/notebooks/data_table.ipynb>data table notebook</a>'\n",
              "            + ' to learn more about interactive tables.';\n",
              "          element.innerHTML = '';\n",
              "          dataTable['output_type'] = 'display_data';\n",
              "          await google.colab.output.renderOutput(dataTable, element);\n",
              "          const docLink = document.createElement('div');\n",
              "          docLink.innerHTML = docLinkHtml;\n",
              "          element.appendChild(docLink);\n",
              "        }\n",
              "      </script>\n",
              "    </div>\n",
              "  </div>\n",
              "  "
            ]
          },
          "metadata": {}
        }
      ],
      "source": [
        "ada = AdaBoostClassifier(n_estimators=100)                     \n",
        "ada.fit(X_train, y_train)\n",
        "ada_pred = ada.predict(X_test)\n",
        "adaboost = model_eval(y_test, ada_pred)\n",
        "print('Adaboost : %.2f percent.' % (round(adaboost['accuracy']*100,2)))\n",
        "\n",
        "#printmd('### 3.4.2.2. Model Evaulation ')\n",
        "ovl_ada = round(pd.DataFrame([adaboost], index = ['adaboost']),4)\n",
        "display(ovl_ada)"
      ]
    },
    {
      "cell_type": "markdown",
      "metadata": {
        "id": "AXHG6d6X_S2A"
      },
      "source": [
        "## Gradient Boosting \n",
        "\n"
      ]
    },
    {
      "cell_type": "code",
      "execution_count": null,
      "metadata": {
        "colab": {
          "base_uri": "https://localhost:8080/"
        },
        "id": "FdbaeqCI_S2B",
        "outputId": "49e5f374-49fc-457a-f872-c392ef1f5ad1"
      },
      "outputs": [
        {
          "output_type": "stream",
          "name": "stdout",
          "text": [
            "Gradient Boosting : 86.78 percent.\n"
          ]
        }
      ],
      "source": [
        "gradient_boosting = GradientBoostingClassifier(n_estimators=100, learning_rate=1.0, max_depth=1, random_state=0)\n",
        "gradient_boosting.fit(X_train, y_train)\n",
        "gradient_boosting_pred = gradient_boosting.predict(X_test)\n",
        "gradient_boosting_oval = model_eval(y_test, gradient_boosting_pred)\n",
        "ovl_gb = round(pd.DataFrame([gradient_boosting_oval], index = ['gradient_boosting_oval']),4)\n",
        "print('Gradient Boosting : %.2f percent.' % (round(gradient_boosting_oval['accuracy']*100,2)))\n",
        "\n"
      ]
    },
    {
      "cell_type": "code",
      "execution_count": null,
      "metadata": {
        "id": "IVkoOpC2_S2B"
      },
      "outputs": [],
      "source": [
        "# Grid Search for best parameters \n",
        "# param_grid = {'n_estimators': [100, 200, 300, 400, 500], 'learning_rate': [0.1, 0.2, 0.3, 0.4, 0.5], 'max_depth': [1, 2, 3, 4, 5]}\n",
        "# grid_search = GridSearchCV(GradientBoostingClassifier(), param_grid, cv=5)\n",
        "# grid_search.fit(X_train, y_train)\n",
        "\n",
        "# print('Best parameters : ', grid_search.best_params_)\n",
        "# print('Best score : ', grid_search.best_score_)\n",
        "# print('Best estimator : ', grid_search.best_estimator_)\n"
      ]
    },
    {
      "cell_type": "markdown",
      "metadata": {
        "id": "fvZFVLFZ_S2B"
      },
      "source": [
        "## Logistic Regression "
      ]
    },
    {
      "cell_type": "code",
      "execution_count": 210,
      "metadata": {
        "colab": {
          "base_uri": "https://localhost:8080/"
        },
        "id": "q02hfXx9_S2B",
        "outputId": "6b03c515-fae0-4972-a3fb-58ffa645afaa"
      },
      "outputs": [
        {
          "output_type": "stream",
          "name": "stdout",
          "text": [
            "Logistic Regression : 82.39 percent.\n"
          ]
        }
      ],
      "source": [
        "log_reg = LogisticRegression(penalty = 'l2', dual = False, tol = 1e-4, fit_intercept = True, \n",
        "                            solver = 'liblinear')\n",
        "log_reg.fit(X_train, y_train)\n",
        "log_reg_pred = log_reg.predict(X_test)\n",
        "logistic_reg = model_eval(y_test, log_reg_pred)\n",
        "ovl_lr = round(pd.DataFrame([logistic_reg], index = ['logistic_reg']),4)\n",
        "print('Logistic Regression : %.2f percent.' % (round(logistic_reg['accuracy']*100,3))) "
      ]
    },
    {
      "cell_type": "markdown",
      "metadata": {
        "id": "OfVnNFlt_S2B"
      },
      "source": [
        "## k Nearest Neighbours\n",
        "\n",
        "For the K nearest neighbours classifier, I experimented with the num of neighbours values, every odd number ranging from 1 to 50"
      ]
    },
    {
      "cell_type": "code",
      "execution_count": null,
      "metadata": {
        "colab": {
          "base_uri": "https://localhost:8080/",
          "height": 80
        },
        "id": "xpUV_IFH_S2B",
        "outputId": "b61c2633-c21b-4a6e-cda8-eba29efe580b"
      },
      "outputs": [
        {
          "output_type": "display_data",
          "data": {
            "text/plain": [
              "     accuracy  precision  recall  f_measure  sensitivity  specificity  \\\n",
              "knn    0.8501     0.7139  0.6321     0.6705       0.6321       0.9195   \n",
              "\n",
              "     error_rate  \n",
              "knn      0.1499  "
            ],
            "text/html": [
              "\n",
              "  <div id=\"df-2ffcbdb0-76eb-4d70-8159-d281e479e500\">\n",
              "    <div class=\"colab-df-container\">\n",
              "      <div>\n",
              "<style scoped>\n",
              "    .dataframe tbody tr th:only-of-type {\n",
              "        vertical-align: middle;\n",
              "    }\n",
              "\n",
              "    .dataframe tbody tr th {\n",
              "        vertical-align: top;\n",
              "    }\n",
              "\n",
              "    .dataframe thead th {\n",
              "        text-align: right;\n",
              "    }\n",
              "</style>\n",
              "<table border=\"1\" class=\"dataframe\">\n",
              "  <thead>\n",
              "    <tr style=\"text-align: right;\">\n",
              "      <th></th>\n",
              "      <th>accuracy</th>\n",
              "      <th>precision</th>\n",
              "      <th>recall</th>\n",
              "      <th>f_measure</th>\n",
              "      <th>sensitivity</th>\n",
              "      <th>specificity</th>\n",
              "      <th>error_rate</th>\n",
              "    </tr>\n",
              "  </thead>\n",
              "  <tbody>\n",
              "    <tr>\n",
              "      <th>knn</th>\n",
              "      <td>0.8501</td>\n",
              "      <td>0.7139</td>\n",
              "      <td>0.6321</td>\n",
              "      <td>0.6705</td>\n",
              "      <td>0.6321</td>\n",
              "      <td>0.9195</td>\n",
              "      <td>0.1499</td>\n",
              "    </tr>\n",
              "  </tbody>\n",
              "</table>\n",
              "</div>\n",
              "      <button class=\"colab-df-convert\" onclick=\"convertToInteractive('df-2ffcbdb0-76eb-4d70-8159-d281e479e500')\"\n",
              "              title=\"Convert this dataframe to an interactive table.\"\n",
              "              style=\"display:none;\">\n",
              "        \n",
              "  <svg xmlns=\"http://www.w3.org/2000/svg\" height=\"24px\"viewBox=\"0 0 24 24\"\n",
              "       width=\"24px\">\n",
              "    <path d=\"M0 0h24v24H0V0z\" fill=\"none\"/>\n",
              "    <path d=\"M18.56 5.44l.94 2.06.94-2.06 2.06-.94-2.06-.94-.94-2.06-.94 2.06-2.06.94zm-11 1L8.5 8.5l.94-2.06 2.06-.94-2.06-.94L8.5 2.5l-.94 2.06-2.06.94zm10 10l.94 2.06.94-2.06 2.06-.94-2.06-.94-.94-2.06-.94 2.06-2.06.94z\"/><path d=\"M17.41 7.96l-1.37-1.37c-.4-.4-.92-.59-1.43-.59-.52 0-1.04.2-1.43.59L10.3 9.45l-7.72 7.72c-.78.78-.78 2.05 0 2.83L4 21.41c.39.39.9.59 1.41.59.51 0 1.02-.2 1.41-.59l7.78-7.78 2.81-2.81c.8-.78.8-2.07 0-2.86zM5.41 20L4 18.59l7.72-7.72 1.47 1.35L5.41 20z\"/>\n",
              "  </svg>\n",
              "      </button>\n",
              "      \n",
              "  <style>\n",
              "    .colab-df-container {\n",
              "      display:flex;\n",
              "      flex-wrap:wrap;\n",
              "      gap: 12px;\n",
              "    }\n",
              "\n",
              "    .colab-df-convert {\n",
              "      background-color: #E8F0FE;\n",
              "      border: none;\n",
              "      border-radius: 50%;\n",
              "      cursor: pointer;\n",
              "      display: none;\n",
              "      fill: #1967D2;\n",
              "      height: 32px;\n",
              "      padding: 0 0 0 0;\n",
              "      width: 32px;\n",
              "    }\n",
              "\n",
              "    .colab-df-convert:hover {\n",
              "      background-color: #E2EBFA;\n",
              "      box-shadow: 0px 1px 2px rgba(60, 64, 67, 0.3), 0px 1px 3px 1px rgba(60, 64, 67, 0.15);\n",
              "      fill: #174EA6;\n",
              "    }\n",
              "\n",
              "    [theme=dark] .colab-df-convert {\n",
              "      background-color: #3B4455;\n",
              "      fill: #D2E3FC;\n",
              "    }\n",
              "\n",
              "    [theme=dark] .colab-df-convert:hover {\n",
              "      background-color: #434B5C;\n",
              "      box-shadow: 0px 1px 3px 1px rgba(0, 0, 0, 0.15);\n",
              "      filter: drop-shadow(0px 1px 2px rgba(0, 0, 0, 0.3));\n",
              "      fill: #FFFFFF;\n",
              "    }\n",
              "  </style>\n",
              "\n",
              "      <script>\n",
              "        const buttonEl =\n",
              "          document.querySelector('#df-2ffcbdb0-76eb-4d70-8159-d281e479e500 button.colab-df-convert');\n",
              "        buttonEl.style.display =\n",
              "          google.colab.kernel.accessAllowed ? 'block' : 'none';\n",
              "\n",
              "        async function convertToInteractive(key) {\n",
              "          const element = document.querySelector('#df-2ffcbdb0-76eb-4d70-8159-d281e479e500');\n",
              "          const dataTable =\n",
              "            await google.colab.kernel.invokeFunction('convertToInteractive',\n",
              "                                                     [key], {});\n",
              "          if (!dataTable) return;\n",
              "\n",
              "          const docLinkHtml = 'Like what you see? Visit the ' +\n",
              "            '<a target=\"_blank\" href=https://colab.research.google.com/notebooks/data_table.ipynb>data table notebook</a>'\n",
              "            + ' to learn more about interactive tables.';\n",
              "          element.innerHTML = '';\n",
              "          dataTable['output_type'] = 'display_data';\n",
              "          await google.colab.output.renderOutput(dataTable, element);\n",
              "          const docLink = document.createElement('div');\n",
              "          docLink.innerHTML = docLinkHtml;\n",
              "          element.appendChild(docLink);\n",
              "        }\n",
              "      </script>\n",
              "    </div>\n",
              "  </div>\n",
              "  "
            ]
          },
          "metadata": {}
        }
      ],
      "source": [
        "# from sklearn.neighbors import KNeighborsClassifier\n",
        "# knn_outs = []\n",
        "# for i in range(1,50,2):\n",
        "#     knn = KNeighborsClassifier(n_neighbors=i)\n",
        "#     knn.fit(X_train, y_train)\n",
        "#     knn_pred = knn.predict(X_test)\n",
        "#     knn_perf = model_eval(y_test, knn_pred)\n",
        "#     knn_perf['k'] = i\n",
        "#     knn_outs.append(knn_perf)\n",
        "\n",
        "# best_k = max(knn_outs, key=lambda x:x['accuracy']) \n",
        "# print('Best KNN model with k = %d and accuracy = %.2f percent.' % (best_k['k'], round(best_k['accuracy']*100,2)))\n",
        "knn = KNeighborsClassifier(n_neighbors=19)\n",
        "knn.fit(X_train, y_train)\n",
        "knn_pred = knn.predict(X_test)\n",
        "\n",
        "\n",
        "ovl_knn = round(pd.DataFrame([model_eval(y_test, knn_pred)], index = ['knn']),4)\n",
        "display(ovl_knn)"
      ]
    },
    {
      "cell_type": "markdown",
      "metadata": {
        "id": "cryebkL8_S2C"
      },
      "source": [
        "## Model Evaluation"
      ]
    },
    {
      "cell_type": "code",
      "execution_count": null,
      "metadata": {
        "colab": {
          "base_uri": "https://localhost:8080/",
          "height": 394
        },
        "id": "hdmTB-ZZ_S2C",
        "outputId": "1ac301cb-2392-44fc-eed8-ab029b814875"
      },
      "outputs": [
        {
          "output_type": "display_data",
          "data": {
            "text/plain": [
              "                        accuracy  precision  recall  f_measure  sensitivity  \\\n",
              "adaboost                  0.8692     0.7855  0.6295     0.6989       0.6295   \n",
              "gradient_boosting_oval    0.8678     0.7817  0.6270     0.6959       0.6270   \n",
              "SVM_rbf                   0.8531     0.7756  0.5500     0.6436       0.5500   \n",
              "DTree_Entropy             0.8517     0.7873  0.5277     0.6319       0.5277   \n",
              "SVM_poly                  0.8495     0.7817  0.5220     0.6260       0.5220   \n",
              "DTree_Gini                0.8498     0.8016  0.5016     0.6171       0.5016   \n",
              "rforest_gini              0.8491     0.8050  0.4940     0.6122       0.4940   \n",
              "rforest_entropy           0.8488     0.8058  0.4914     0.6105       0.4914   \n",
              "logistic_reg              0.8239     0.7066  0.4615     0.5583       0.4615   \n",
              "SVM_sigmoid               0.7385     0.4577  0.4551     0.4564       0.4551   \n",
              "SVM_linear                0.8099     0.7573  0.3119     0.4418       0.3119   \n",
              "\n",
              "                        specificity  error_rate  \n",
              "adaboost                     0.9454      0.1308  \n",
              "gradient_boosting_oval       0.9444      0.1322  \n",
              "SVM_rbf                      0.9494      0.1469  \n",
              "DTree_Entropy                0.9547      0.1483  \n",
              "SVM_poly                     0.9537      0.1505  \n",
              "DTree_Gini                   0.9605      0.1502  \n",
              "rforest_gini                 0.9620      0.1509  \n",
              "rforest_entropy              0.9624      0.1512  \n",
              "logistic_reg                 0.9391      0.1761  \n",
              "SVM_sigmoid                  0.8286      0.2615  \n",
              "SVM_linear                   0.9682      0.1901  "
            ],
            "text/html": [
              "\n",
              "  <div id=\"df-87e2a771-4efa-474b-be8c-537340375883\">\n",
              "    <div class=\"colab-df-container\">\n",
              "      <div>\n",
              "<style scoped>\n",
              "    .dataframe tbody tr th:only-of-type {\n",
              "        vertical-align: middle;\n",
              "    }\n",
              "\n",
              "    .dataframe tbody tr th {\n",
              "        vertical-align: top;\n",
              "    }\n",
              "\n",
              "    .dataframe thead th {\n",
              "        text-align: right;\n",
              "    }\n",
              "</style>\n",
              "<table border=\"1\" class=\"dataframe\">\n",
              "  <thead>\n",
              "    <tr style=\"text-align: right;\">\n",
              "      <th></th>\n",
              "      <th>accuracy</th>\n",
              "      <th>precision</th>\n",
              "      <th>recall</th>\n",
              "      <th>f_measure</th>\n",
              "      <th>sensitivity</th>\n",
              "      <th>specificity</th>\n",
              "      <th>error_rate</th>\n",
              "    </tr>\n",
              "  </thead>\n",
              "  <tbody>\n",
              "    <tr>\n",
              "      <th>adaboost</th>\n",
              "      <td>0.8692</td>\n",
              "      <td>0.7855</td>\n",
              "      <td>0.6295</td>\n",
              "      <td>0.6989</td>\n",
              "      <td>0.6295</td>\n",
              "      <td>0.9454</td>\n",
              "      <td>0.1308</td>\n",
              "    </tr>\n",
              "    <tr>\n",
              "      <th>gradient_boosting_oval</th>\n",
              "      <td>0.8678</td>\n",
              "      <td>0.7817</td>\n",
              "      <td>0.6270</td>\n",
              "      <td>0.6959</td>\n",
              "      <td>0.6270</td>\n",
              "      <td>0.9444</td>\n",
              "      <td>0.1322</td>\n",
              "    </tr>\n",
              "    <tr>\n",
              "      <th>SVM_rbf</th>\n",
              "      <td>0.8531</td>\n",
              "      <td>0.7756</td>\n",
              "      <td>0.5500</td>\n",
              "      <td>0.6436</td>\n",
              "      <td>0.5500</td>\n",
              "      <td>0.9494</td>\n",
              "      <td>0.1469</td>\n",
              "    </tr>\n",
              "    <tr>\n",
              "      <th>DTree_Entropy</th>\n",
              "      <td>0.8517</td>\n",
              "      <td>0.7873</td>\n",
              "      <td>0.5277</td>\n",
              "      <td>0.6319</td>\n",
              "      <td>0.5277</td>\n",
              "      <td>0.9547</td>\n",
              "      <td>0.1483</td>\n",
              "    </tr>\n",
              "    <tr>\n",
              "      <th>SVM_poly</th>\n",
              "      <td>0.8495</td>\n",
              "      <td>0.7817</td>\n",
              "      <td>0.5220</td>\n",
              "      <td>0.6260</td>\n",
              "      <td>0.5220</td>\n",
              "      <td>0.9537</td>\n",
              "      <td>0.1505</td>\n",
              "    </tr>\n",
              "    <tr>\n",
              "      <th>DTree_Gini</th>\n",
              "      <td>0.8498</td>\n",
              "      <td>0.8016</td>\n",
              "      <td>0.5016</td>\n",
              "      <td>0.6171</td>\n",
              "      <td>0.5016</td>\n",
              "      <td>0.9605</td>\n",
              "      <td>0.1502</td>\n",
              "    </tr>\n",
              "    <tr>\n",
              "      <th>rforest_gini</th>\n",
              "      <td>0.8491</td>\n",
              "      <td>0.8050</td>\n",
              "      <td>0.4940</td>\n",
              "      <td>0.6122</td>\n",
              "      <td>0.4940</td>\n",
              "      <td>0.9620</td>\n",
              "      <td>0.1509</td>\n",
              "    </tr>\n",
              "    <tr>\n",
              "      <th>rforest_entropy</th>\n",
              "      <td>0.8488</td>\n",
              "      <td>0.8058</td>\n",
              "      <td>0.4914</td>\n",
              "      <td>0.6105</td>\n",
              "      <td>0.4914</td>\n",
              "      <td>0.9624</td>\n",
              "      <td>0.1512</td>\n",
              "    </tr>\n",
              "    <tr>\n",
              "      <th>logistic_reg</th>\n",
              "      <td>0.8239</td>\n",
              "      <td>0.7066</td>\n",
              "      <td>0.4615</td>\n",
              "      <td>0.5583</td>\n",
              "      <td>0.4615</td>\n",
              "      <td>0.9391</td>\n",
              "      <td>0.1761</td>\n",
              "    </tr>\n",
              "    <tr>\n",
              "      <th>SVM_sigmoid</th>\n",
              "      <td>0.7385</td>\n",
              "      <td>0.4577</td>\n",
              "      <td>0.4551</td>\n",
              "      <td>0.4564</td>\n",
              "      <td>0.4551</td>\n",
              "      <td>0.8286</td>\n",
              "      <td>0.2615</td>\n",
              "    </tr>\n",
              "    <tr>\n",
              "      <th>SVM_linear</th>\n",
              "      <td>0.8099</td>\n",
              "      <td>0.7573</td>\n",
              "      <td>0.3119</td>\n",
              "      <td>0.4418</td>\n",
              "      <td>0.3119</td>\n",
              "      <td>0.9682</td>\n",
              "      <td>0.1901</td>\n",
              "    </tr>\n",
              "  </tbody>\n",
              "</table>\n",
              "</div>\n",
              "      <button class=\"colab-df-convert\" onclick=\"convertToInteractive('df-87e2a771-4efa-474b-be8c-537340375883')\"\n",
              "              title=\"Convert this dataframe to an interactive table.\"\n",
              "              style=\"display:none;\">\n",
              "        \n",
              "  <svg xmlns=\"http://www.w3.org/2000/svg\" height=\"24px\"viewBox=\"0 0 24 24\"\n",
              "       width=\"24px\">\n",
              "    <path d=\"M0 0h24v24H0V0z\" fill=\"none\"/>\n",
              "    <path d=\"M18.56 5.44l.94 2.06.94-2.06 2.06-.94-2.06-.94-.94-2.06-.94 2.06-2.06.94zm-11 1L8.5 8.5l.94-2.06 2.06-.94-2.06-.94L8.5 2.5l-.94 2.06-2.06.94zm10 10l.94 2.06.94-2.06 2.06-.94-2.06-.94-.94-2.06-.94 2.06-2.06.94z\"/><path d=\"M17.41 7.96l-1.37-1.37c-.4-.4-.92-.59-1.43-.59-.52 0-1.04.2-1.43.59L10.3 9.45l-7.72 7.72c-.78.78-.78 2.05 0 2.83L4 21.41c.39.39.9.59 1.41.59.51 0 1.02-.2 1.41-.59l7.78-7.78 2.81-2.81c.8-.78.8-2.07 0-2.86zM5.41 20L4 18.59l7.72-7.72 1.47 1.35L5.41 20z\"/>\n",
              "  </svg>\n",
              "      </button>\n",
              "      \n",
              "  <style>\n",
              "    .colab-df-container {\n",
              "      display:flex;\n",
              "      flex-wrap:wrap;\n",
              "      gap: 12px;\n",
              "    }\n",
              "\n",
              "    .colab-df-convert {\n",
              "      background-color: #E8F0FE;\n",
              "      border: none;\n",
              "      border-radius: 50%;\n",
              "      cursor: pointer;\n",
              "      display: none;\n",
              "      fill: #1967D2;\n",
              "      height: 32px;\n",
              "      padding: 0 0 0 0;\n",
              "      width: 32px;\n",
              "    }\n",
              "\n",
              "    .colab-df-convert:hover {\n",
              "      background-color: #E2EBFA;\n",
              "      box-shadow: 0px 1px 2px rgba(60, 64, 67, 0.3), 0px 1px 3px 1px rgba(60, 64, 67, 0.15);\n",
              "      fill: #174EA6;\n",
              "    }\n",
              "\n",
              "    [theme=dark] .colab-df-convert {\n",
              "      background-color: #3B4455;\n",
              "      fill: #D2E3FC;\n",
              "    }\n",
              "\n",
              "    [theme=dark] .colab-df-convert:hover {\n",
              "      background-color: #434B5C;\n",
              "      box-shadow: 0px 1px 3px 1px rgba(0, 0, 0, 0.15);\n",
              "      filter: drop-shadow(0px 1px 2px rgba(0, 0, 0, 0.3));\n",
              "      fill: #FFFFFF;\n",
              "    }\n",
              "  </style>\n",
              "\n",
              "      <script>\n",
              "        const buttonEl =\n",
              "          document.querySelector('#df-87e2a771-4efa-474b-be8c-537340375883 button.colab-df-convert');\n",
              "        buttonEl.style.display =\n",
              "          google.colab.kernel.accessAllowed ? 'block' : 'none';\n",
              "\n",
              "        async function convertToInteractive(key) {\n",
              "          const element = document.querySelector('#df-87e2a771-4efa-474b-be8c-537340375883');\n",
              "          const dataTable =\n",
              "            await google.colab.kernel.invokeFunction('convertToInteractive',\n",
              "                                                     [key], {});\n",
              "          if (!dataTable) return;\n",
              "\n",
              "          const docLinkHtml = 'Like what you see? Visit the ' +\n",
              "            '<a target=\"_blank\" href=https://colab.research.google.com/notebooks/data_table.ipynb>data table notebook</a>'\n",
              "            + ' to learn more about interactive tables.';\n",
              "          element.innerHTML = '';\n",
              "          dataTable['output_type'] = 'display_data';\n",
              "          await google.colab.output.renderOutput(dataTable, element);\n",
              "          const docLink = document.createElement('div');\n",
              "          docLink.innerHTML = docLinkHtml;\n",
              "          element.appendChild(docLink);\n",
              "        }\n",
              "      </script>\n",
              "    </div>\n",
              "  </div>\n",
              "  "
            ]
          },
          "metadata": {}
        }
      ],
      "source": [
        "overall_eval = pd.concat([ovl_dtree, ovl_svm, ovl_rf, ovl_ada, ovl_gb, ovl_lr], axis = 0)\n",
        "overall_eval.sort_values(by = ['f_measure', 'accuracy'], ascending = False, inplace = True)\n",
        "\n",
        "display(overall_eval)"
      ]
    },
    {
      "cell_type": "code",
      "execution_count": null,
      "metadata": {
        "id": "feINshkH_S2C"
      },
      "outputs": [],
      "source": [
        "def generateRoc(test_data, test_label, classifiers, pred_labels, plot_labels, limiter):\n",
        "    \n",
        "    color = ['tab:blue', 'tab:orange', 'tab:green', 'tab:red', 'tab:purple', 'tab:brown', 'tab:pink', 'tab:gray', 'tab:olive', 'tab:cyan']\n",
        "    \n",
        "    y_test = label_binarize(test_label, classes=[0, 1])\n",
        "    plt.figure()\n",
        "    \n",
        "    for i in range(len(classifiers)):\n",
        "        \n",
        "        if plot_labels[i] not in limiter:\n",
        "            continue\n",
        "        \n",
        "        y_score = classifiers[i].predict_proba(test_data)\n",
        "        pos_class_index = list(np.unique(pred_labels[i])).index(1)\n",
        "        \n",
        "        fpr, tpr, thres = roc_curve(y_test.ravel(),y_score[:,pos_class_index], pos_label=1)\n",
        "                               \n",
        "        lw = 2\n",
        "        plt.plot(fpr, tpr, color=color[i % len(color)],lw=lw, label=plot_labels[i])\n",
        "        \n",
        "    plt.plot([0, 1], [0, 1], color='navy', lw=lw, linestyle='--')\n",
        "    plt.xlim([0.0, 1.0])\n",
        "    plt.ylim([0.0, 1.05])\n",
        "    plt.xlabel('False Positive Rate')\n",
        "    plt.ylabel('True Positive Rate')\n",
        "    plt.title('Receiver operating characteristic (ROC)')\n",
        "    plt.legend(loc=\"lower right\")\n",
        "    plt.show()"
      ]
    },
    {
      "cell_type": "code",
      "execution_count": null,
      "metadata": {
        "colab": {
          "base_uri": "https://localhost:8080/",
          "height": 297
        },
        "id": "93YWsja2_S2C",
        "outputId": "e51f798c-8eb1-490c-f470-7441dd609fe7"
      },
      "outputs": [
        {
          "output_type": "display_data",
          "data": {
            "text/plain": [
              "<Figure size 432x288 with 1 Axes>"
            ],
            "image/png": "[encoded data removed]"
          },
          "metadata": {}
        }
      ],
      "source": [
        "limiter = ['Adaboost' , 'Logistic Regression', 'Gradient Boosting', 'Random Forest (gini)', 'Random Forest (entropy)']\n",
        "classifier = [ada, log_reg, gradient_boosting, r_forest_gini, r_forest_entropy]\n",
        "pred_labels = [ada_pred, log_reg_pred, gradient_boosting_pred, r_forest_gini_pred, r_forest_entropy_pred]\n",
        "plot_labels = ['Adaboost' , 'Logistic Regression', 'Gradient Boosting', 'Random Forest (gini)', 'Random Forest (entropy)']\n",
        "generateRoc(X_test, y_test, classifier, pred_labels, plot_labels, limiter)"
      ]
    },
    {
      "cell_type": "code",
      "execution_count": 295,
      "metadata": {
        "colab": {
          "base_uri": "https://localhost:8080/"
        },
        "id": "EM5Hq6_0_S2C",
        "outputId": "72b3c280-08f5-4434-e526-82b921ee6e74"
      },
      "outputs": [
        {
          "output_type": "execute_result",
          "data": {
            "text/plain": [
              "Index(['age', 'fnlwgt', 'educational-num', 'capital-gain', 'capital-loss',\n",
              "       'hours-per-week', 'income', 'workclass_ ?', 'workclass_ Federal-gov',\n",
              "       'workclass_ Local-gov',\n",
              "       ...\n",
              "       'native-country_ Portugal', 'native-country_ Puerto-Rico',\n",
              "       'native-country_ Scotland', 'native-country_ South',\n",
              "       'native-country_ Taiwan', 'native-country_ Thailand',\n",
              "       'native-country_ Trinadad&Tobago', 'native-country_ United-States',\n",
              "       'native-country_ Vietnam', 'native-country_ Yugoslavia'],\n",
              "      dtype='object', length=109)"
            ]
          },
          "metadata": {},
          "execution_count": 295
        }
      ],
      "source": [
        "df_onehot.columns"
      ]
    },
    {
      "cell_type": "code",
      "execution_count": 315,
      "metadata": {
        "id": "-QVsTwUr_S2C"
      },
      "outputs": [],
      "source": [
        "from Generators import CFKnn"
      ]
    },
    {
      "cell_type": "code",
      "execution_count": 311,
      "metadata": {
        "id": "TQMuInzI_S2D"
      },
      "outputs": [],
      "source": [
        "config = {\"features_to_change\": ['age', 'workclass', 'fnlwgt', 'education', 'educational-num',\n",
        "       'marital-status', 'occupation', 'relationship', 'race', 'gender',\n",
        "       'capital-gain', 'capital-loss', 'hours-per-week', 'native-country']}\n",
        "config1 = {\"features_to_change\": ['age',  'fnlwgt', 'educational-num',\n",
        "       'capital-gain', 'capital-loss', 'hours-per-week']}\n",
        "sample = df_onehot.sample(10)\n",
        "X_sample = pd.DataFrame(sample, columns = df_onehot.drop('income', axis = 1).columns)"
      ]
    },
    {
      "cell_type": "code",
      "source": [
        "X_sample"
      ],
      "metadata": {
        "id": "9-AYSl95OltI"
      },
      "execution_count": null,
      "outputs": []
    },
    {
      "cell_type": "code",
      "source": [
        "sample.index"
      ],
      "metadata": {
        "colab": {
          "base_uri": "https://localhost:8080/"
        },
        "id": "cqscA15kQYty",
        "outputId": "5fbf25a0-a38c-4c81-ff2e-977169bc2e16"
      },
      "execution_count": 299,
      "outputs": [
        {
          "output_type": "execute_result",
          "data": {
            "text/plain": [
              "Int64Index([18189, 4653, 29870, 32334, 3833, 2076, 3997, 27983, 24595, 27746], dtype='int64')"
            ]
          },
          "metadata": {},
          "execution_count": 299
        }
      ]
    },
    {
      "cell_type": "code",
      "execution_count": 312,
      "metadata": {
        "id": "3hIDk1md_S2D"
      },
      "outputs": [],
      "source": [
        "cfknn = CFKnn(df_onehot, ada, config1, 1)\n"
      ]
    },
    {
      "cell_type": "code",
      "source": [
        "from sklearn.neighbors import KNeighborsClassifier \n",
        "from sklearn.neighbors import NearestNeighbors\n",
        "import numpy as np\n",
        "import pandas as pd\n",
        "import scipy as sp\n",
        "from joblib import Parallel, delayed\n",
        "from functools import partial"
      ],
      "metadata": {
        "id": "GNWDI7zAoF7l"
      },
      "execution_count": 226,
      "outputs": []
    },
    {
      "cell_type": "code",
      "source": [
        "model = ada\n",
        "target_class = 1"
      ],
      "metadata": {
        "id": "gP2h2voeo2tn"
      },
      "execution_count": 308,
      "outputs": []
    },
    {
      "cell_type": "code",
      "source": [
        "cfknn.pre_process()"
      ],
      "metadata": {
        "id": "0INBPKsmPmWN"
      },
      "execution_count": 313,
      "outputs": []
    },
    {
      "cell_type": "code",
      "source": [
        "def _generate_single_counterfactual(obs, nbrs):\n",
        "        #print('obs \\n', obs)\n",
        "        _, indices = nbrs.kneighbors(obs[config[\"features_to_change\"]].to_frame().T)\n",
        "\n",
        "        #print('neighbours \\n',indices[0])\n",
        "        for i in indices[0]:\n",
        "            #print('neighbor',i)\n",
        "            counterfactual = obs.copy()\n",
        "            #print(counterfactual)\n",
        "            for feature in config[\"features_to_change\"]:\n",
        "                counterfactual[feature] = df.iloc[i][feature]\n",
        "                #print(model.predict(counterfactual.to_frame().T)[0])\n",
        "                if model.predict(counterfactual.to_frame().T)[0] == target_class: \n",
        "                    distance = sp.spatial.distance.minkowski(counterfactual, obs, p=2, w=None)\n",
        "                    return counterfactual, distance\n",
        "        return None\n",
        "            "
      ],
      "metadata": {
        "id": "m0jfo5BTnqxV"
      },
      "execution_count": 233,
      "outputs": []
    },
    {
      "cell_type": "code",
      "source": [
        "for s in range(10):\n",
        "    c,d = _generate_single_counterfactual(X_sample.iloc[s], nbrs)\n",
        "    print(sample.index[s], d)\n",
        "    #print(c)\n"
      ],
      "metadata": {
        "colab": {
          "base_uri": "https://localhost:8080/"
        },
        "id": "u35QU59dqlgt",
        "outputId": "ebe4a329-5122-491a-a917-a2a4460b861e"
      },
      "execution_count": 240,
      "outputs": [
        {
          "output_type": "stream",
          "name": "stdout",
          "text": [
            "5713 0.0\n",
            "6417 10.488088481701515\n",
            "7095 11.357816691600547\n",
            "17697 13.856406460551018\n",
            "10283 12.922847983320086\n",
            "15805 13.784048752090222\n",
            "26129 14.66287829861518\n",
            "1357 9.899494936611665\n",
            "27541 0.0\n",
            "13097 0.0\n"
          ]
        }
      ]
    },
    {
      "cell_type": "code",
      "source": [
        "def generate_multiple_counterfactuals(data):\n",
        "        counterfactual_list = [] \n",
        "        for _ , obs in data.iterrows():\n",
        "            if model.predict(obs.to_frame().T)[0] == target_class:\n",
        "                continue\n",
        "            else:\n",
        "                counterfactual, distance = _generate_single_counterfactual(obs, nbrs)\n",
        "                if counterfactual is not None:\n",
        "                    counterfactual_list.append((counterfactual, distance))\n",
        "        return counterfactual_list\n",
        "    \n",
        "    "
      ],
      "metadata": {
        "id": "no9IyVWnnn-x"
      },
      "execution_count": 243,
      "outputs": []
    },
    {
      "cell_type": "code",
      "source": [
        "generate_multiple_counterfactuals(X_sample)"
      ],
      "metadata": {
        "colab": {
          "base_uri": "https://localhost:8080/"
        },
        "id": "DSjIEyo_teig",
        "outputId": "9bd05bd9-1e73-446c-f260-673cab9f3749"
      },
      "execution_count": 244,
      "outputs": [
        {
          "output_type": "execute_result",
          "data": {
            "text/plain": [
              "[(age                  14\n",
              "  workclass             4\n",
              "  fnlwgt             2934\n",
              "  education            15\n",
              "  educational-num       9\n",
              "  marital-status        4\n",
              "  occupation            1\n",
              "  relationship          4\n",
              "  race                  4\n",
              "  gender                1\n",
              "  capital-gain          0\n",
              "  capital-loss          0\n",
              "  hours-per-week       39\n",
              "  native-country       39\n",
              "  Name: 6417, dtype: int64, 10.488088481701515), (age                16\n",
              "  workclass           4\n",
              "  fnlwgt             91\n",
              "  education          11\n",
              "  educational-num     8\n",
              "  marital-status      0\n",
              "  occupation          8\n",
              "  relationship        4\n",
              "  race                4\n",
              "  gender              1\n",
              "  capital-gain        0\n",
              "  capital-loss        0\n",
              "  hours-per-week     29\n",
              "  native-country     39\n",
              "  Name: 7095, dtype: int64, 11.357816691600547), (age                   36\n",
              "  workclass              2\n",
              "  fnlwgt             18907\n",
              "  education             11\n",
              "  educational-num        8\n",
              "  marital-status         3\n",
              "  occupation            14\n",
              "  relationship           2\n",
              "  race                   4\n",
              "  gender                 0\n",
              "  capital-gain           0\n",
              "  capital-loss           0\n",
              "  hours-per-week        39\n",
              "  native-country        39\n",
              "  Name: 17697, dtype: int64, 13.856406460551018), (age                  42\n",
              "  workclass             2\n",
              "  fnlwgt             9561\n",
              "  education             0\n",
              "  educational-num       5\n",
              "  marital-status        6\n",
              "  occupation            8\n",
              "  relationship          4\n",
              "  race                  4\n",
              "  gender                1\n",
              "  capital-gain          0\n",
              "  capital-loss          0\n",
              "  hours-per-week       19\n",
              "  native-country       39\n",
              "  Name: 10283, dtype: int64, 12.922847983320086), (age                  35\n",
              "  workclass             4\n",
              "  fnlwgt             1364\n",
              "  education             9\n",
              "  educational-num      12\n",
              "  marital-status        0\n",
              "  occupation            3\n",
              "  relationship          4\n",
              "  race                  4\n",
              "  gender                0\n",
              "  capital-gain          3\n",
              "  capital-loss          0\n",
              "  hours-per-week        9\n",
              "  native-country       39\n",
              "  Name: 15805, dtype: int64, 13.784048752090222), (age                   22\n",
              "  workclass              1\n",
              "  fnlwgt             12834\n",
              "  education             15\n",
              "  educational-num        9\n",
              "  marital-status         2\n",
              "  occupation             1\n",
              "  relationship           2\n",
              "  race                   4\n",
              "  gender                 1\n",
              "  capital-gain           0\n",
              "  capital-loss           0\n",
              "  hours-per-week        39\n",
              "  native-country        39\n",
              "  Name: 26129, dtype: int64, 14.66287829861518), (age                  11\n",
              "  workclass             4\n",
              "  fnlwgt             1194\n",
              "  education            11\n",
              "  educational-num       8\n",
              "  marital-status        4\n",
              "  occupation            6\n",
              "  relationship          3\n",
              "  race                  4\n",
              "  gender                1\n",
              "  capital-gain          0\n",
              "  capital-loss          0\n",
              "  hours-per-week       36\n",
              "  native-country       39\n",
              "  Name: 1357, dtype: int64, 9.899494936611665)]"
            ]
          },
          "metadata": {},
          "execution_count": 244
        }
      ]
    },
    {
      "cell_type": "code",
      "source": [],
      "metadata": {
        "id": "bI1U2jCFnoBZ"
      },
      "execution_count": null,
      "outputs": []
    },
    {
      "cell_type": "code",
      "source": [
        "cfknn.nbrs.kneighbors(X=X_sample, n_neighbors=5, return_distance=True)"
      ],
      "metadata": {
        "colab": {
          "base_uri": "https://localhost:8080/"
        },
        "id": "LQ7kcr89STxU",
        "outputId": "bbfa90b2-fc4d-4df0-bd1c-6953e6ae005d"
      },
      "execution_count": null,
      "outputs": [
        {
          "output_type": "execute_result",
          "data": {
            "text/plain": [
              "(array([[ 0.        , 12.84523258, 16.40121947, 17.34935157, 19.41648784],\n",
              "        [ 0.        ,  6.        ,  7.61577311,  9.16515139,  9.79795897],\n",
              "        [ 0.        ,  6.55743852,  8.1240384 , 11.78982612, 12.84523258],\n",
              "        [ 0.        ,  9.05538514, 27.07397274, 28.53068524, 29.46183973],\n",
              "        [ 0.        , 12.24744871, 22.        , 24.24871131, 29.76575213],\n",
              "        [ 0.        , 11.53256259, 12.64911064, 12.80624847, 13.        ],\n",
              "        [ 0.        ,  9.48683298, 13.        , 13.52774926, 13.82027496],\n",
              "        [ 0.        , 12.36931688, 12.84523258, 13.3041347 , 14.        ],\n",
              "        [ 0.        , 17.02938637, 20.73644135, 21.04756518, 24.61706725],\n",
              "        [ 0.        , 11.44552314, 14.2126704 , 14.31782106, 16.2788206 ]]),\n",
              " array([[13949, 31626, 27060, 22684, 11346],\n",
              "        [20760, 20759, 11151, 32389, 30786],\n",
              "        [10806, 11809,  7502,  5334,  6130],\n",
              "        [10662, 23776,   879,  2061, 19315],\n",
              "        [12560,   255, 13069, 30894,   304],\n",
              "        [ 6539,  6976, 23969,   928,  1902],\n",
              "        [25258, 24303,   851,  3253, 22710],\n",
              "        [15675,  4988,  7368,  1209, 10946],\n",
              "        [22486,   346, 32351, 29160,  1282],\n",
              "        [18701, 17442, 18868, 13672, 14174]]))"
            ]
          },
          "metadata": {},
          "execution_count": 92
        }
      ]
    },
    {
      "cell_type": "code",
      "source": [
        "counter_factuals = cfknn.generate_mulitple_counterfactuals(X_sample)\n",
        "print(f\"Generated {len(counter_factuals)} counterfactuals\")"
      ],
      "metadata": {
        "colab": {
          "base_uri": "https://localhost:8080/"
        },
        "id": "xP9AoU58RybA",
        "outputId": "7a808637-e0ce-4098-fe5f-d54e64479628"
      },
      "execution_count": 134,
      "outputs": [
        {
          "output_type": "stream",
          "name": "stdout",
          "text": [
            "Generated 0 counterfactuals\n"
          ]
        }
      ]
    },
    {
      "cell_type": "code",
      "source": [
        "counter_factuals"
      ],
      "metadata": {
        "id": "I-1CYt-nO-y-"
      },
      "execution_count": null,
      "outputs": []
    }
  ],
  "metadata": {
    "kernelspec": {
      "display_name": "Python 3",
      "language": "python",
      "name": "python3"
    },
    "language_info": {
      "codemirror_mode": {
        "name": "ipython",
        "version": 3
      },
      "file_extension": ".py",
      "mimetype": "text/x-python",
      "name": "python",
      "nbconvert_exporter": "python",
      "pygments_lexer": "ipython3",
      "version": "3.10.10"
    },
    "orig_nbformat": 4,
    "vscode": {
      "interpreter": {
        "hash": "3196968d684371006099b3d55edeef8ed90365227a30deaef86e5d4aa8519be0"
      }
    },
    "colab": {
      "provenance": [],
      "include_colab_link": true
    }
  },
  "nbformat": 4,
  "nbformat_minor": 0
}