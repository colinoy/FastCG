{
 "cells": [
  {
   "cell_type": "code",
   "execution_count": 65,
   "metadata": {},
   "outputs": [
    {
     "name": "stdout",
     "output_type": "stream",
     "text": [
      "['DABC', 'CDAB', 'BCDA', 'ABCD', 'DABC', 'CDAB', 'BCDA', 'ABCD', 'DABC', 'CDAB', 'BCDA', 'ABCD', 'DABC', 'CDAB', 'BCDA', 'ABCD', 'DABC', 'CDAB', 'BCDA', 'ABCD', 'DABC', 'CDAB', 'BCDA', 'ABCD']\n"
     ]
    }
   ],
   "source": [
    "def n_azert(n):\n",
    "    if n==1:\n",
    "        return n \n",
    "    else:\n",
    "        return(n_azert(n-1)*n)\n",
    "\n",
    "def find_combination(str):\n",
    "    n = len(str)\n",
    "    list_of_words = []\n",
    "    for i in range(0, n_azert(n)):\n",
    "        str = str[-1] +str[:-1]\n",
    "        list_of_words.append(str)\n",
    "    return list_of_words\n",
    "\n",
    "print(find_combination(\"ABCD\"))\n"
   ]
  },
  {
   "cell_type": "code",
   "execution_count": 66,
   "metadata": {},
   "outputs": [
    {
     "data": {
      "text/plain": [
       "40320"
      ]
     },
     "execution_count": 66,
     "metadata": {},
     "output_type": "execute_result"
    }
   ],
   "source": [
    "n_azert(8)"
   ]
  },
  {
   "cell_type": "code",
   "execution_count": 34,
   "metadata": {},
   "outputs": [
    {
     "name": "stdout",
     "output_type": "stream",
     "text": [
      "ylino\n",
      "oylin\n",
      "noyli\n",
      "inoyl\n",
      "linoy\n"
     ]
    }
   ],
   "source": [
    "str = \"linoy\"\n",
    "for i in range(0,len(str)):\n",
    "    str = str[-1]+str[:-1]\n",
    "    print(str)"
   ]
  },
  {
   "cell_type": "code",
   "execution_count": null,
   "metadata": {},
   "outputs": [],
   "source": []
  }
 ],
 "metadata": {
  "kernelspec": {
   "display_name": "Python 3",
   "language": "python",
   "name": "python3"
  },
  "language_info": {
   "codemirror_mode": {
    "name": "ipython",
    "version": 3
   },
   "file_extension": ".py",
   "mimetype": "text/x-python",
   "name": "python",
   "nbconvert_exporter": "python",
   "pygments_lexer": "ipython3",
   "version": "3.10.10"
  },
  "orig_nbformat": 4,
  "vscode": {
   "interpreter": {
    "hash": "3196968d684371006099b3d55edeef8ed90365227a30deaef86e5d4aa8519be0"
   }
  }
 },
 "nbformat": 4,
 "nbformat_minor": 2
}
