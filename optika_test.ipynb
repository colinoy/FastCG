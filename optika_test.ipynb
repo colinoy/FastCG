{
 "cells": [
  {
   "cell_type": "code",
   "execution_count": 1,
   "metadata": {},
   "outputs": [],
   "source": [
    "# Test notebook for optika CF generator - WIP\n",
    "# Author: Vera"
   ]
  },
  {
   "cell_type": "code",
   "execution_count": 2,
   "metadata": {},
   "outputs": [],
   "source": [
    "import numpy as np\n",
    "import pandas as pd\n",
    "import matplotlib.pyplot as plt\n",
    "import seaborn as sns\n",
    "from sklearn.model_selection import train_test_split\n",
    "from sklearn.linear_model import LogisticRegression, LinearRegression\n",
    "from IPython.display import Markdown, display\n",
    "from sklearn.metrics import accuracy_score, confusion_matrix, classification_report\n",
    "from sklearn.model_selection import cross_val_score\n",
    "from sklearn.tree import DecisionTreeClassifier \n",
    "from sklearn.ensemble import RandomForestClassifier, AdaBoostClassifier, GradientBoostingClassifier\n",
    "from sklearn.neighbors import KNeighborsClassifier, NearestNeighbors\n",
    "from sklearn.preprocessing import label_binarize, StandardScaler\n",
    "from scipy.stats import norm\n",
    "from sklearn.metrics.pairwise import euclidean_distances\n",
    "from sklearn.cluster import KMeans, DBSCAN\n",
    "import warnings \n",
    "warnings.filterwarnings('ignore')\n",
    "\n",
    "\n",
    "def printmd(string):\n",
    "    display(Markdown(string))\n",
    "\n",
    "pd.options.display.float_format = '{:.4f}'.format\n"
   ]
  },
  {
   "cell_type": "code",
   "execution_count": 3,
   "metadata": {},
   "outputs": [
    {
     "name": "stdout",
     "output_type": "stream",
     "text": [
      "Logger level: 30\n"
     ]
    }
   ],
   "source": [
    "from FastCG.generators import Optika\n",
    "    \n"
   ]
  },
  {
   "cell_type": "code",
   "execution_count": 4,
   "metadata": {},
   "outputs": [],
   "source": [
    "df = pd.read_csv(\"credit_train.csv\")\n"
   ]
  },
  {
   "cell_type": "code",
   "execution_count": 5,
   "metadata": {},
   "outputs": [],
   "source": [
    "#Preprocessing data\n",
    "\n",
    "df[\"Loan Status\"].map({\"Fully Paid\": 1, \"Charged Off\": 0})\n",
    "df.drop_duplicates(inplace=True)\n",
    "na = df[df['Loan ID'].isnull()].index.tolist()\n",
    "df.drop(na, inplace=True)\n",
    "df = df.drop(['Months since last delinquent'], axis=1)\n",
    "df.dropna(thresh=13, inplace=True)\n",
    "mapping_dict = {\n",
    "    \"Years in current job\": {\n",
    "        \"10+ years\": 10,\n",
    "        \"9 years\": 9,\n",
    "        \"8 years\": 8,\n",
    "        \"7 years\": 7,\n",
    "        \"6 years\": 6,\n",
    "        \"5 years\": 5,\n",
    "        \"4 years\": 4,\n",
    "        \"3 years\": 3,\n",
    "        \"2 years\": 2,\n",
    "        \"1 year\": 1,\n",
    "        \"< 1 year\": 0\n",
    "    }\n",
    "}\n",
    "\n",
    "df.replace(mapping_dict, inplace=True)\n",
    "df[\"Years in current job\"].fillna(0, inplace=True)"
   ]
  },
  {
   "cell_type": "code",
   "execution_count": 6,
   "metadata": {},
   "outputs": [],
   "source": [
    "#Splitting the columns to numerical and category\n",
    "category_cols = df.select_dtypes(include=['object']).columns # DOOBI: typo - category_cols\n",
    "for col in category_cols:\n",
    "    df[col] = df[col].astype('category')\n",
    "    df[col].fillna(df[col].mode()[0], inplace=True)\n",
    "    df[col] = df[col].cat.codes \n",
    "numeric_cols = df.select_dtypes(include=['int64','float64']).columns \n",
    "for col in numeric_cols:\n",
    "    df[col].fillna(df[col].mean(), inplace=True)\n",
    "info_cols = ['Loan ID', 'Customer ID']"
   ]
  },
  {
   "cell_type": "code",
   "execution_count": 7,
   "metadata": {},
   "outputs": [
    {
     "data": {
      "text/html": [
       "<div>\n",
       "<style scoped>\n",
       "    .dataframe tbody tr th:only-of-type {\n",
       "        vertical-align: middle;\n",
       "    }\n",
       "\n",
       "    .dataframe tbody tr th {\n",
       "        vertical-align: top;\n",
       "    }\n",
       "\n",
       "    .dataframe thead th {\n",
       "        text-align: right;\n",
       "    }\n",
       "</style>\n",
       "<table border=\"1\" class=\"dataframe\">\n",
       "  <thead>\n",
       "    <tr style=\"text-align: right;\">\n",
       "      <th></th>\n",
       "      <th>Loan ID</th>\n",
       "      <th>Customer ID</th>\n",
       "      <th>Loan Status</th>\n",
       "      <th>Current Loan Amount</th>\n",
       "      <th>Term</th>\n",
       "      <th>Credit Score</th>\n",
       "      <th>Annual Income</th>\n",
       "      <th>Years in current job</th>\n",
       "      <th>Home Ownership</th>\n",
       "      <th>Purpose</th>\n",
       "      <th>Monthly Debt</th>\n",
       "      <th>Years of Credit History</th>\n",
       "      <th>Number of Open Accounts</th>\n",
       "      <th>Number of Credit Problems</th>\n",
       "      <th>Current Credit Balance</th>\n",
       "      <th>Maximum Open Credit</th>\n",
       "      <th>Bankruptcies</th>\n",
       "      <th>Tax Liens</th>\n",
       "    </tr>\n",
       "  </thead>\n",
       "  <tbody>\n",
       "    <tr>\n",
       "      <th>0</th>\n",
       "      <td>6697</td>\n",
       "      <td>48724</td>\n",
       "      <td>1</td>\n",
       "      <td>445412.0000</td>\n",
       "      <td>1</td>\n",
       "      <td>709.0000</td>\n",
       "      <td>1167493.0000</td>\n",
       "      <td>8.0000</td>\n",
       "      <td>1</td>\n",
       "      <td>5</td>\n",
       "      <td>5214.7400</td>\n",
       "      <td>17.2000</td>\n",
       "      <td>6.0000</td>\n",
       "      <td>1.0000</td>\n",
       "      <td>228190.0000</td>\n",
       "      <td>416746.0000</td>\n",
       "      <td>1.0000</td>\n",
       "      <td>0.0000</td>\n",
       "    </tr>\n",
       "    <tr>\n",
       "      <th>1</th>\n",
       "      <td>23041</td>\n",
       "      <td>14688</td>\n",
       "      <td>1</td>\n",
       "      <td>262328.0000</td>\n",
       "      <td>1</td>\n",
       "      <td>1130.8306</td>\n",
       "      <td>1375894.3877</td>\n",
       "      <td>10.0000</td>\n",
       "      <td>1</td>\n",
       "      <td>3</td>\n",
       "      <td>33295.9800</td>\n",
       "      <td>21.1000</td>\n",
       "      <td>35.0000</td>\n",
       "      <td>0.0000</td>\n",
       "      <td>229976.0000</td>\n",
       "      <td>850784.0000</td>\n",
       "      <td>0.0000</td>\n",
       "      <td>0.0000</td>\n",
       "    </tr>\n",
       "    <tr>\n",
       "      <th>2</th>\n",
       "      <td>25441</td>\n",
       "      <td>30541</td>\n",
       "      <td>1</td>\n",
       "      <td>99999999.0000</td>\n",
       "      <td>1</td>\n",
       "      <td>741.0000</td>\n",
       "      <td>2231892.0000</td>\n",
       "      <td>8.0000</td>\n",
       "      <td>2</td>\n",
       "      <td>3</td>\n",
       "      <td>29200.5300</td>\n",
       "      <td>14.9000</td>\n",
       "      <td>18.0000</td>\n",
       "      <td>1.0000</td>\n",
       "      <td>297996.0000</td>\n",
       "      <td>750090.0000</td>\n",
       "      <td>0.0000</td>\n",
       "      <td>0.0000</td>\n",
       "    </tr>\n",
       "    <tr>\n",
       "      <th>3</th>\n",
       "      <td>38341</td>\n",
       "      <td>74173</td>\n",
       "      <td>1</td>\n",
       "      <td>347666.0000</td>\n",
       "      <td>0</td>\n",
       "      <td>721.0000</td>\n",
       "      <td>806949.0000</td>\n",
       "      <td>3.0000</td>\n",
       "      <td>2</td>\n",
       "      <td>3</td>\n",
       "      <td>8741.9000</td>\n",
       "      <td>12.0000</td>\n",
       "      <td>9.0000</td>\n",
       "      <td>0.0000</td>\n",
       "      <td>256329.0000</td>\n",
       "      <td>386958.0000</td>\n",
       "      <td>0.0000</td>\n",
       "      <td>0.0000</td>\n",
       "    </tr>\n",
       "    <tr>\n",
       "      <th>4</th>\n",
       "      <td>68058</td>\n",
       "      <td>41470</td>\n",
       "      <td>1</td>\n",
       "      <td>176220.0000</td>\n",
       "      <td>1</td>\n",
       "      <td>1130.8306</td>\n",
       "      <td>1375894.3877</td>\n",
       "      <td>5.0000</td>\n",
       "      <td>3</td>\n",
       "      <td>3</td>\n",
       "      <td>20639.7000</td>\n",
       "      <td>6.1000</td>\n",
       "      <td>15.0000</td>\n",
       "      <td>0.0000</td>\n",
       "      <td>253460.0000</td>\n",
       "      <td>427174.0000</td>\n",
       "      <td>0.0000</td>\n",
       "      <td>0.0000</td>\n",
       "    </tr>\n",
       "  </tbody>\n",
       "</table>\n",
       "</div>"
      ],
      "text/plain": [
       "   Loan ID  Customer ID  Loan Status  Current Loan Amount  Term  Credit Score  \\\n",
       "0     6697        48724            1          445412.0000     1      709.0000   \n",
       "1    23041        14688            1          262328.0000     1     1130.8306   \n",
       "2    25441        30541            1        99999999.0000     1      741.0000   \n",
       "3    38341        74173            1          347666.0000     0      721.0000   \n",
       "4    68058        41470            1          176220.0000     1     1130.8306   \n",
       "\n",
       "   Annual Income  Years in current job  Home Ownership  Purpose  Monthly Debt  \\\n",
       "0   1167493.0000                8.0000               1        5     5214.7400   \n",
       "1   1375894.3877               10.0000               1        3    33295.9800   \n",
       "2   2231892.0000                8.0000               2        3    29200.5300   \n",
       "3    806949.0000                3.0000               2        3     8741.9000   \n",
       "4   1375894.3877                5.0000               3        3    20639.7000   \n",
       "\n",
       "   Years of Credit History  Number of Open Accounts  \\\n",
       "0                  17.2000                   6.0000   \n",
       "1                  21.1000                  35.0000   \n",
       "2                  14.9000                  18.0000   \n",
       "3                  12.0000                   9.0000   \n",
       "4                   6.1000                  15.0000   \n",
       "\n",
       "   Number of Credit Problems  Current Credit Balance  Maximum Open Credit  \\\n",
       "0                     1.0000             228190.0000          416746.0000   \n",
       "1                     0.0000             229976.0000          850784.0000   \n",
       "2                     1.0000             297996.0000          750090.0000   \n",
       "3                     0.0000             256329.0000          386958.0000   \n",
       "4                     0.0000             253460.0000          427174.0000   \n",
       "\n",
       "   Bankruptcies  Tax Liens  \n",
       "0        1.0000     0.0000  \n",
       "1        0.0000     0.0000  \n",
       "2        0.0000     0.0000  \n",
       "3        0.0000     0.0000  \n",
       "4        0.0000     0.0000  "
      ]
     },
     "execution_count": 7,
     "metadata": {},
     "output_type": "execute_result"
    }
   ],
   "source": [
    "df.head()"
   ]
  },
  {
   "cell_type": "code",
   "execution_count": 8,
   "metadata": {},
   "outputs": [],
   "source": [
    "X = df.drop(\"Loan Status\", axis=1).drop(info_cols, axis = 1)\n",
    "y = df[\"Loan Status\"]\n",
    "\n",
    "X_train, X_test, y_train, y_test = train_test_split(X, y, test_size=0.2, random_state=42)"
   ]
  },
  {
   "attachments": {},
   "cell_type": "markdown",
   "metadata": {},
   "source": [
    "THE MODEL\n",
    "\n",
    "Here we use the logistic regression for the example but the method is model-agnostic so you can use any model"
   ]
  },
  {
   "cell_type": "code",
   "execution_count": 9,
   "metadata": {},
   "outputs": [],
   "source": [
    "\n",
    "log_reg = LogisticRegression()\n",
    "log_reg = log_reg.fit(X_train, y_train)\n",
    "log_reg_pred = log_reg.predict(X_test)\n"
   ]
  },
  {
   "attachments": {},
   "cell_type": "markdown",
   "metadata": {},
   "source": [
    "Configuration\n",
    "\n",
    "The customer is able to fix features to be fixed and features to be changed in the configuration"
   ]
  },
  {
   "cell_type": "code",
   "execution_count": 10,
   "metadata": {},
   "outputs": [],
   "source": [
    "config = {\"features_to_change\": ['Current Loan Amount', 'Term', 'Credit Score',\n",
    "                                 'Annual Income', 'Years in current job', 'Home Ownership', 'Purpose',\n",
    "                                 'Monthly Debt', 'Years of Credit History', 'Number of Open Accounts'],\n",
    "          \"increase_features\": ['Credit Score', 'Annual Income'],\n",
    "          \"categorical columns\": list(category_cols),\n",
    "          \"numerical columns\" : list(numeric_cols),\n",
    "          \"n_counerfactuals\": 1,\n",
    "          \"max_features_to_change\": 2,\n",
    "          \"ID\": 'Loan ID',\n",
    "          \"target\": 'Loan Status'}\n"
   ]
  },
  {
   "attachments": {},
   "cell_type": "markdown",
   "metadata": {},
   "source": [
    "The instance\n",
    "\n",
    "'obs' is the instance for which we find the counterfactual"
   ]
  },
  {
   "cell_type": "code",
   "execution_count": 11,
   "metadata": {},
   "outputs": [
    {
     "data": {
      "text/html": [
       "<div>\n",
       "<style scoped>\n",
       "    .dataframe tbody tr th:only-of-type {\n",
       "        vertical-align: middle;\n",
       "    }\n",
       "\n",
       "    .dataframe tbody tr th {\n",
       "        vertical-align: top;\n",
       "    }\n",
       "\n",
       "    .dataframe thead th {\n",
       "        text-align: right;\n",
       "    }\n",
       "</style>\n",
       "<table border=\"1\" class=\"dataframe\">\n",
       "  <thead>\n",
       "    <tr style=\"text-align: right;\">\n",
       "      <th></th>\n",
       "      <th>Current Loan Amount</th>\n",
       "      <th>Term</th>\n",
       "      <th>Credit Score</th>\n",
       "      <th>Annual Income</th>\n",
       "      <th>Years in current job</th>\n",
       "      <th>Home Ownership</th>\n",
       "      <th>Purpose</th>\n",
       "      <th>Monthly Debt</th>\n",
       "      <th>Years of Credit History</th>\n",
       "      <th>Number of Open Accounts</th>\n",
       "      <th>Number of Credit Problems</th>\n",
       "      <th>Current Credit Balance</th>\n",
       "      <th>Maximum Open Credit</th>\n",
       "      <th>Bankruptcies</th>\n",
       "      <th>Tax Liens</th>\n",
       "    </tr>\n",
       "  </thead>\n",
       "  <tbody>\n",
       "    <tr>\n",
       "      <th>52872</th>\n",
       "      <td>98340.0000</td>\n",
       "      <td>0</td>\n",
       "      <td>6840.0000</td>\n",
       "      <td>1222954.0000</td>\n",
       "      <td>4.0000</td>\n",
       "      <td>1</td>\n",
       "      <td>9</td>\n",
       "      <td>10619.2900</td>\n",
       "      <td>13.5000</td>\n",
       "      <td>7.0000</td>\n",
       "      <td>0.0000</td>\n",
       "      <td>523450.0000</td>\n",
       "      <td>1005158.0000</td>\n",
       "      <td>0.0000</td>\n",
       "      <td>0.0000</td>\n",
       "    </tr>\n",
       "  </tbody>\n",
       "</table>\n",
       "</div>"
      ],
      "text/plain": [
       "       Current Loan Amount  Term  Credit Score  Annual Income  \\\n",
       "52872           98340.0000     0     6840.0000   1222954.0000   \n",
       "\n",
       "       Years in current job  Home Ownership  Purpose  Monthly Debt  \\\n",
       "52872                4.0000               1        9    10619.2900   \n",
       "\n",
       "       Years of Credit History  Number of Open Accounts  \\\n",
       "52872                  13.5000                   7.0000   \n",
       "\n",
       "       Number of Credit Problems  Current Credit Balance  Maximum Open Credit  \\\n",
       "52872                     0.0000             523450.0000         1005158.0000   \n",
       "\n",
       "       Bankruptcies  Tax Liens  \n",
       "52872        0.0000     0.0000  "
      ]
     },
     "execution_count": 11,
     "metadata": {},
     "output_type": "execute_result"
    }
   ],
   "source": [
    "obs = X.loc[[52872,]]\n",
    "obs"
   ]
  },
  {
   "cell_type": "code",
   "execution_count": 12,
   "metadata": {},
   "outputs": [
    {
     "data": {
      "text/plain": [
       "52872    0\n",
       "Name: Loan Status, dtype: int8"
      ]
     },
     "execution_count": 12,
     "metadata": {},
     "output_type": "execute_result"
    }
   ],
   "source": [
    "y.loc[[52872,]]\n"
   ]
  },
  {
   "attachments": {},
   "cell_type": "markdown",
   "metadata": {},
   "source": [
    "In this notebook we demonstrate the Optika module"
   ]
  },
  {
   "cell_type": "code",
   "execution_count": 13,
   "metadata": {},
   "outputs": [
    {
     "name": "stderr",
     "output_type": "stream",
     "text": [
      "[07-18 13:18:51] SmartCondition.py:25 (__init__) INFO - Initializing SmartCondition with target: 1 and condition: ==\n"
     ]
    },
    {
     "name": "stdout",
     "output_type": "stream",
     "text": [
      "Updated logger level to 20\n"
     ]
    }
   ],
   "source": [
    "op = Optika(pd.concat([X,y], axis = 1), log_reg, config, target=1,condition='==')"
   ]
  },
  {
   "attachments": {},
   "cell_type": "markdown",
   "metadata": {},
   "source": [
    "STEP 1: \n",
    "\n",
    "we consider only the part of the dataset with features from the configuration that are NOT to be changed.\n",
    "\n",
    "In this case the values of these features are the same as in the instance observation."
   ]
  },
  {
   "cell_type": "code",
   "execution_count": 14,
   "metadata": {},
   "outputs": [
    {
     "data": {
      "text/plain": [
       "2000"
      ]
     },
     "execution_count": 14,
     "metadata": {},
     "output_type": "execute_result"
    }
   ],
   "source": [
    "idx_box = op.box(obs, 1000)\n",
    "len(idx_box)"
   ]
  },
  {
   "cell_type": "code",
   "execution_count": 15,
   "metadata": {},
   "outputs": [
    {
     "data": {
      "text/plain": [
       "True"
      ]
     },
     "execution_count": 15,
     "metadata": {},
     "output_type": "execute_result"
    }
   ],
   "source": [
    "52872 in idx_box"
   ]
  },
  {
   "attachments": {},
   "cell_type": "markdown",
   "metadata": {},
   "source": [
    "STEP 2: Standartize the data"
   ]
  },
  {
   "cell_type": "code",
   "execution_count": 16,
   "metadata": {},
   "outputs": [],
   "source": [
    "X_st, y, obs_st = op.pre_process(obs)"
   ]
  },
  {
   "cell_type": "code",
   "execution_count": 17,
   "metadata": {},
   "outputs": [
    {
     "data": {
      "text/plain": [
       "1    1460\n",
       "0     540\n",
       "Name: Loan Status, dtype: int64"
      ]
     },
     "execution_count": 17,
     "metadata": {},
     "output_type": "execute_result"
    }
   ],
   "source": [
    "y.value_counts()"
   ]
  },
  {
   "cell_type": "code",
   "execution_count": 18,
   "metadata": {},
   "outputs": [
    {
     "data": {
      "text/html": [
       "<div>\n",
       "<style scoped>\n",
       "    .dataframe tbody tr th:only-of-type {\n",
       "        vertical-align: middle;\n",
       "    }\n",
       "\n",
       "    .dataframe tbody tr th {\n",
       "        vertical-align: top;\n",
       "    }\n",
       "\n",
       "    .dataframe thead th {\n",
       "        text-align: right;\n",
       "    }\n",
       "</style>\n",
       "<table border=\"1\" class=\"dataframe\">\n",
       "  <thead>\n",
       "    <tr style=\"text-align: right;\">\n",
       "      <th></th>\n",
       "      <th>Current Loan Amount</th>\n",
       "      <th>Term</th>\n",
       "      <th>Credit Score</th>\n",
       "      <th>Annual Income</th>\n",
       "      <th>Years in current job</th>\n",
       "      <th>Home Ownership</th>\n",
       "      <th>Purpose</th>\n",
       "      <th>Monthly Debt</th>\n",
       "      <th>Years of Credit History</th>\n",
       "      <th>Number of Open Accounts</th>\n",
       "      <th>Number of Credit Problems</th>\n",
       "      <th>Current Credit Balance</th>\n",
       "      <th>Maximum Open Credit</th>\n",
       "      <th>Bankruptcies</th>\n",
       "      <th>Tax Liens</th>\n",
       "    </tr>\n",
       "  </thead>\n",
       "  <tbody>\n",
       "    <tr>\n",
       "      <th>52872</th>\n",
       "      <td>-0.3893</td>\n",
       "      <td>-1.6669</td>\n",
       "      <td>4.0973</td>\n",
       "      <td>-0.1561</td>\n",
       "      <td>-0.4346</td>\n",
       "      <td>-0.9774</td>\n",
       "      <td>2.3183</td>\n",
       "      <td>-0.6404</td>\n",
       "      <td>-0.6750</td>\n",
       "      <td>-0.8248</td>\n",
       "      <td>-0.3451</td>\n",
       "      <td>0.6163</td>\n",
       "      <td>0.0261</td>\n",
       "      <td>-0.3324</td>\n",
       "      <td>-0.1121</td>\n",
       "    </tr>\n",
       "  </tbody>\n",
       "</table>\n",
       "</div>"
      ],
      "text/plain": [
       "       Current Loan Amount    Term  Credit Score  Annual Income  \\\n",
       "52872              -0.3893 -1.6669        4.0973        -0.1561   \n",
       "\n",
       "       Years in current job  Home Ownership  Purpose  Monthly Debt  \\\n",
       "52872               -0.4346         -0.9774   2.3183       -0.6404   \n",
       "\n",
       "       Years of Credit History  Number of Open Accounts  \\\n",
       "52872                  -0.6750                  -0.8248   \n",
       "\n",
       "       Number of Credit Problems  Current Credit Balance  Maximum Open Credit  \\\n",
       "52872                    -0.3451                  0.6163               0.0261   \n",
       "\n",
       "       Bankruptcies  Tax Liens  \n",
       "52872       -0.3324    -0.1121  "
      ]
     },
     "execution_count": 18,
     "metadata": {},
     "output_type": "execute_result"
    }
   ],
   "source": [
    "obs_st"
   ]
  },
  {
   "cell_type": "code",
   "execution_count": 19,
   "metadata": {},
   "outputs": [
    {
     "data": {
      "text/plain": [
       "(1, 15)"
      ]
     },
     "execution_count": 19,
     "metadata": {},
     "output_type": "execute_result"
    }
   ],
   "source": [
    "obs_st.shape"
   ]
  },
  {
   "attachments": {},
   "cell_type": "markdown",
   "metadata": {},
   "source": [
    "STEP 3: \n",
    "\n",
    "Use the method for the initial estimate. \n",
    "\n",
    "This could be decision tree, regression or PCA.\n",
    "\n",
    "The main achievement of this step - to choose the features to vary from the whole list of features to be changed. \n",
    "\n",
    "Because we are interested in the solution that is restricted in the number of features to be changed. \n",
    "\n",
    "So we have to choose the most important features at this step."
   ]
  },
  {
   "attachments": {},
   "cell_type": "markdown",
   "metadata": {},
   "source": [
    "1. Decision Tree\n"
   ]
  },
  {
   "cell_type": "code",
   "execution_count": 20,
   "metadata": {},
   "outputs": [],
   "source": [
    "X_gen, y_gen = op.generate_uniform_points(obs_st, 1500, 10)"
   ]
  },
  {
   "cell_type": "code",
   "execution_count": 21,
   "metadata": {},
   "outputs": [
    {
     "data": {
      "text/plain": [
       "(['Credit Score'],\n",
       " Index(['Current Loan Amount', 'Term', 'Annual Income', 'Years in current job',\n",
       "        'Home Ownership', 'Purpose', 'Monthly Debt', 'Years of Credit History',\n",
       "        'Number of Open Accounts', 'Number of Credit Problems',\n",
       "        'Current Credit Balance', 'Maximum Open Credit', 'Bankruptcies',\n",
       "        'Tax Liens'],\n",
       "       dtype='object'),\n",
       " [0.006744267884641886])"
      ]
     },
     "execution_count": 21,
     "metadata": {},
     "output_type": "execute_result"
    }
   ],
   "source": [
    "ftrs, ftrs_, thrs = op.find_feature_importance_tree(X_gen, y_gen)\n",
    "ftrs, ftrs_, thrs "
   ]
  },
  {
   "attachments": {},
   "cell_type": "markdown",
   "metadata": {},
   "source": [
    "2. Regression"
   ]
  },
  {
   "cell_type": "code",
   "execution_count": 22,
   "metadata": {},
   "outputs": [],
   "source": [
    "features_to_use = op.find_feature_importance_regression()"
   ]
  },
  {
   "cell_type": "code",
   "execution_count": 23,
   "metadata": {},
   "outputs": [
    {
     "data": {
      "text/plain": [
       "['Credit Score', 'Current Loan Amount']"
      ]
     },
     "execution_count": 23,
     "metadata": {},
     "output_type": "execute_result"
    }
   ],
   "source": [
    "op.features_to_use"
   ]
  },
  {
   "attachments": {},
   "cell_type": "markdown",
   "metadata": {},
   "source": [
    "The PICTURE "
   ]
  },
  {
   "cell_type": "code",
   "execution_count": 24,
   "metadata": {},
   "outputs": [
    {
     "data": {
      "text/plain": [
       "('Credit Score', 'Current Loan Amount')"
      ]
     },
     "execution_count": 24,
     "metadata": {},
     "output_type": "execute_result"
    }
   ],
   "source": [
    "a,b = op.features_to_use[:2]\n",
    "a,b\n"
   ]
  },
  {
   "cell_type": "code",
   "execution_count": 25,
   "metadata": {},
   "outputs": [
    {
     "data": {
      "text/plain": [
       "Index(['Current Loan Amount', 'Term', 'Annual Income', 'Years in current job',\n",
       "       'Home Ownership', 'Purpose', 'Monthly Debt', 'Years of Credit History',\n",
       "       'Number of Open Accounts', 'Number of Credit Problems',\n",
       "       'Current Credit Balance', 'Maximum Open Credit', 'Bankruptcies',\n",
       "       'Tax Liens'],\n",
       "      dtype='object')"
      ]
     },
     "execution_count": 25,
     "metadata": {},
     "output_type": "execute_result"
    }
   ],
   "source": [
    "op.features_to_fix"
   ]
  },
  {
   "cell_type": "code",
   "execution_count": 26,
   "metadata": {},
   "outputs": [],
   "source": [
    "ox, oy = obs_st.loc[:,a].values[0], obs_st.loc[:,b].values[0]"
   ]
  },
  {
   "cell_type": "code",
   "execution_count": 27,
   "metadata": {},
   "outputs": [
    {
     "data": {
      "text/html": [
       "<div>\n",
       "<style scoped>\n",
       "    .dataframe tbody tr th:only-of-type {\n",
       "        vertical-align: middle;\n",
       "    }\n",
       "\n",
       "    .dataframe tbody tr th {\n",
       "        vertical-align: top;\n",
       "    }\n",
       "\n",
       "    .dataframe thead th {\n",
       "        text-align: right;\n",
       "    }\n",
       "</style>\n",
       "<table border=\"1\" class=\"dataframe\">\n",
       "  <thead>\n",
       "    <tr style=\"text-align: right;\">\n",
       "      <th></th>\n",
       "      <th>Current Loan Amount</th>\n",
       "      <th>Term</th>\n",
       "      <th>Credit Score</th>\n",
       "      <th>Annual Income</th>\n",
       "      <th>Years in current job</th>\n",
       "      <th>Home Ownership</th>\n",
       "      <th>Purpose</th>\n",
       "      <th>Monthly Debt</th>\n",
       "      <th>Years of Credit History</th>\n",
       "      <th>Number of Open Accounts</th>\n",
       "      <th>Number of Credit Problems</th>\n",
       "      <th>Current Credit Balance</th>\n",
       "      <th>Maximum Open Credit</th>\n",
       "      <th>Bankruptcies</th>\n",
       "      <th>Tax Liens</th>\n",
       "    </tr>\n",
       "  </thead>\n",
       "  <tbody>\n",
       "    <tr>\n",
       "      <th>56171</th>\n",
       "      <td>-0.3816</td>\n",
       "      <td>-1.6669</td>\n",
       "      <td>-0.3063</td>\n",
       "      <td>-0.4625</td>\n",
       "      <td>0.0995</td>\n",
       "      <td>-0.9774</td>\n",
       "      <td>1.4288</td>\n",
       "      <td>-0.4227</td>\n",
       "      <td>-0.3765</td>\n",
       "      <td>-0.2247</td>\n",
       "      <td>-0.3451</td>\n",
       "      <td>0.7495</td>\n",
       "      <td>0.0632</td>\n",
       "      <td>-0.3324</td>\n",
       "      <td>-0.1121</td>\n",
       "    </tr>\n",
       "    <tr>\n",
       "      <th>52039</th>\n",
       "      <td>-0.3822</td>\n",
       "      <td>-1.6669</td>\n",
       "      <td>-0.3530</td>\n",
       "      <td>-0.3336</td>\n",
       "      <td>-1.2357</td>\n",
       "      <td>-0.9774</td>\n",
       "      <td>3.2079</td>\n",
       "      <td>-0.4567</td>\n",
       "      <td>-1.2721</td>\n",
       "      <td>-0.8248</td>\n",
       "      <td>-0.3451</td>\n",
       "      <td>-0.3225</td>\n",
       "      <td>-0.0620</td>\n",
       "      <td>-0.3324</td>\n",
       "      <td>-0.1121</td>\n",
       "    </tr>\n",
       "    <tr>\n",
       "      <th>53897</th>\n",
       "      <td>-0.3845</td>\n",
       "      <td>-1.6669</td>\n",
       "      <td>-0.2984</td>\n",
       "      <td>-0.5545</td>\n",
       "      <td>-0.1675</td>\n",
       "      <td>-0.9774</td>\n",
       "      <td>3.2079</td>\n",
       "      <td>-0.5436</td>\n",
       "      <td>0.2774</td>\n",
       "      <td>-0.4247</td>\n",
       "      <td>-0.3451</td>\n",
       "      <td>-0.2549</td>\n",
       "      <td>0.0660</td>\n",
       "      <td>-0.3324</td>\n",
       "      <td>-0.1121</td>\n",
       "    </tr>\n",
       "    <tr>\n",
       "      <th>52914</th>\n",
       "      <td>-0.3708</td>\n",
       "      <td>-1.6669</td>\n",
       "      <td>0.0000</td>\n",
       "      <td>0.0000</td>\n",
       "      <td>-0.1675</td>\n",
       "      <td>-0.9774</td>\n",
       "      <td>3.2079</td>\n",
       "      <td>-0.3715</td>\n",
       "      <td>-1.0589</td>\n",
       "      <td>-1.2249</td>\n",
       "      <td>-0.3451</td>\n",
       "      <td>-0.7899</td>\n",
       "      <td>-0.0881</td>\n",
       "      <td>-0.3324</td>\n",
       "      <td>-0.1121</td>\n",
       "    </tr>\n",
       "    <tr>\n",
       "      <th>51825</th>\n",
       "      <td>-0.3817</td>\n",
       "      <td>-1.6669</td>\n",
       "      <td>-0.2812</td>\n",
       "      <td>0.4884</td>\n",
       "      <td>-0.7016</td>\n",
       "      <td>-0.9774</td>\n",
       "      <td>3.2079</td>\n",
       "      <td>0.5593</td>\n",
       "      <td>-0.1349</td>\n",
       "      <td>-0.2247</td>\n",
       "      <td>-0.3451</td>\n",
       "      <td>0.1067</td>\n",
       "      <td>-0.0246</td>\n",
       "      <td>-0.3324</td>\n",
       "      <td>-0.1121</td>\n",
       "    </tr>\n",
       "    <tr>\n",
       "      <th>...</th>\n",
       "      <td>...</td>\n",
       "      <td>...</td>\n",
       "      <td>...</td>\n",
       "      <td>...</td>\n",
       "      <td>...</td>\n",
       "      <td>...</td>\n",
       "      <td>...</td>\n",
       "      <td>...</td>\n",
       "      <td>...</td>\n",
       "      <td>...</td>\n",
       "      <td>...</td>\n",
       "      <td>...</td>\n",
       "      <td>...</td>\n",
       "      <td>...</td>\n",
       "      <td>...</td>\n",
       "    </tr>\n",
       "    <tr>\n",
       "      <th>51661</th>\n",
       "      <td>-0.3903</td>\n",
       "      <td>0.5999</td>\n",
       "      <td>0.0000</td>\n",
       "      <td>0.0000</td>\n",
       "      <td>1.1677</td>\n",
       "      <td>-0.9774</td>\n",
       "      <td>2.3183</td>\n",
       "      <td>-0.2543</td>\n",
       "      <td>-0.1917</td>\n",
       "      <td>-0.2247</td>\n",
       "      <td>-0.3451</td>\n",
       "      <td>-0.5641</td>\n",
       "      <td>-0.0144</td>\n",
       "      <td>-0.3324</td>\n",
       "      <td>-0.1121</td>\n",
       "    </tr>\n",
       "    <tr>\n",
       "      <th>51933</th>\n",
       "      <td>-0.3756</td>\n",
       "      <td>-1.6669</td>\n",
       "      <td>-0.2927</td>\n",
       "      <td>-0.3812</td>\n",
       "      <td>-0.1675</td>\n",
       "      <td>-0.9774</td>\n",
       "      <td>-0.3503</td>\n",
       "      <td>0.5417</td>\n",
       "      <td>-0.0353</td>\n",
       "      <td>-0.0247</td>\n",
       "      <td>-0.3451</td>\n",
       "      <td>0.1897</td>\n",
       "      <td>-0.0105</td>\n",
       "      <td>-0.3324</td>\n",
       "      <td>-0.1121</td>\n",
       "    </tr>\n",
       "    <tr>\n",
       "      <th>52085</th>\n",
       "      <td>-0.3805</td>\n",
       "      <td>-1.6669</td>\n",
       "      <td>0.0000</td>\n",
       "      <td>0.0000</td>\n",
       "      <td>0.9006</td>\n",
       "      <td>-0.9774</td>\n",
       "      <td>-0.3503</td>\n",
       "      <td>-0.2444</td>\n",
       "      <td>-1.1726</td>\n",
       "      <td>-1.0249</td>\n",
       "      <td>-0.3451</td>\n",
       "      <td>-0.1018</td>\n",
       "      <td>0.0309</td>\n",
       "      <td>-0.3324</td>\n",
       "      <td>-0.1121</td>\n",
       "    </tr>\n",
       "    <tr>\n",
       "      <th>56394</th>\n",
       "      <td>-0.3875</td>\n",
       "      <td>0.5999</td>\n",
       "      <td>-0.2941</td>\n",
       "      <td>-0.2351</td>\n",
       "      <td>-1.5027</td>\n",
       "      <td>-0.9774</td>\n",
       "      <td>1.4288</td>\n",
       "      <td>-0.5952</td>\n",
       "      <td>-0.5471</td>\n",
       "      <td>0.3754</td>\n",
       "      <td>-0.3451</td>\n",
       "      <td>-0.5723</td>\n",
       "      <td>-0.0708</td>\n",
       "      <td>-0.3324</td>\n",
       "      <td>-0.1121</td>\n",
       "    </tr>\n",
       "    <tr>\n",
       "      <th>53006</th>\n",
       "      <td>-0.3845</td>\n",
       "      <td>-1.6669</td>\n",
       "      <td>-0.2920</td>\n",
       "      <td>-0.2560</td>\n",
       "      <td>-1.5027</td>\n",
       "      <td>-0.9774</td>\n",
       "      <td>-0.3503</td>\n",
       "      <td>0.5308</td>\n",
       "      <td>-0.4618</td>\n",
       "      <td>-1.2249</td>\n",
       "      <td>-0.3451</td>\n",
       "      <td>0.2916</td>\n",
       "      <td>-0.0342</td>\n",
       "      <td>-0.3324</td>\n",
       "      <td>-0.1121</td>\n",
       "    </tr>\n",
       "  </tbody>\n",
       "</table>\n",
       "<p>100 rows × 15 columns</p>\n",
       "</div>"
      ],
      "text/plain": [
       "       Current Loan Amount    Term  Credit Score  Annual Income  \\\n",
       "56171              -0.3816 -1.6669       -0.3063        -0.4625   \n",
       "52039              -0.3822 -1.6669       -0.3530        -0.3336   \n",
       "53897              -0.3845 -1.6669       -0.2984        -0.5545   \n",
       "52914              -0.3708 -1.6669        0.0000         0.0000   \n",
       "51825              -0.3817 -1.6669       -0.2812         0.4884   \n",
       "...                    ...     ...           ...            ...   \n",
       "51661              -0.3903  0.5999        0.0000         0.0000   \n",
       "51933              -0.3756 -1.6669       -0.2927        -0.3812   \n",
       "52085              -0.3805 -1.6669        0.0000         0.0000   \n",
       "56394              -0.3875  0.5999       -0.2941        -0.2351   \n",
       "53006              -0.3845 -1.6669       -0.2920        -0.2560   \n",
       "\n",
       "       Years in current job  Home Ownership  Purpose  Monthly Debt  \\\n",
       "56171                0.0995         -0.9774   1.4288       -0.4227   \n",
       "52039               -1.2357         -0.9774   3.2079       -0.4567   \n",
       "53897               -0.1675         -0.9774   3.2079       -0.5436   \n",
       "52914               -0.1675         -0.9774   3.2079       -0.3715   \n",
       "51825               -0.7016         -0.9774   3.2079        0.5593   \n",
       "...                     ...             ...      ...           ...   \n",
       "51661                1.1677         -0.9774   2.3183       -0.2543   \n",
       "51933               -0.1675         -0.9774  -0.3503        0.5417   \n",
       "52085                0.9006         -0.9774  -0.3503       -0.2444   \n",
       "56394               -1.5027         -0.9774   1.4288       -0.5952   \n",
       "53006               -1.5027         -0.9774  -0.3503        0.5308   \n",
       "\n",
       "       Years of Credit History  Number of Open Accounts  \\\n",
       "56171                  -0.3765                  -0.2247   \n",
       "52039                  -1.2721                  -0.8248   \n",
       "53897                   0.2774                  -0.4247   \n",
       "52914                  -1.0589                  -1.2249   \n",
       "51825                  -0.1349                  -0.2247   \n",
       "...                        ...                      ...   \n",
       "51661                  -0.1917                  -0.2247   \n",
       "51933                  -0.0353                  -0.0247   \n",
       "52085                  -1.1726                  -1.0249   \n",
       "56394                  -0.5471                   0.3754   \n",
       "53006                  -0.4618                  -1.2249   \n",
       "\n",
       "       Number of Credit Problems  Current Credit Balance  Maximum Open Credit  \\\n",
       "56171                    -0.3451                  0.7495               0.0632   \n",
       "52039                    -0.3451                 -0.3225              -0.0620   \n",
       "53897                    -0.3451                 -0.2549               0.0660   \n",
       "52914                    -0.3451                 -0.7899              -0.0881   \n",
       "51825                    -0.3451                  0.1067              -0.0246   \n",
       "...                          ...                     ...                  ...   \n",
       "51661                    -0.3451                 -0.5641              -0.0144   \n",
       "51933                    -0.3451                  0.1897              -0.0105   \n",
       "52085                    -0.3451                 -0.1018               0.0309   \n",
       "56394                    -0.3451                 -0.5723              -0.0708   \n",
       "53006                    -0.3451                  0.2916              -0.0342   \n",
       "\n",
       "       Bankruptcies  Tax Liens  \n",
       "56171       -0.3324    -0.1121  \n",
       "52039       -0.3324    -0.1121  \n",
       "53897       -0.3324    -0.1121  \n",
       "52914       -0.3324    -0.1121  \n",
       "51825       -0.3324    -0.1121  \n",
       "...             ...        ...  \n",
       "51661       -0.3324    -0.1121  \n",
       "51933       -0.3324    -0.1121  \n",
       "52085       -0.3324    -0.1121  \n",
       "56394       -0.3324    -0.1121  \n",
       "53006       -0.3324    -0.1121  \n",
       "\n",
       "[100 rows x 15 columns]"
      ]
     },
     "execution_count": 27,
     "metadata": {},
     "output_type": "execute_result"
    }
   ],
   "source": [
    "slice1 = op.slicing(1, 100)\n",
    "slice1"
   ]
  },
  {
   "cell_type": "code",
   "execution_count": 28,
   "metadata": {},
   "outputs": [
    {
     "data": {
      "text/html": [
       "<div>\n",
       "<style scoped>\n",
       "    .dataframe tbody tr th:only-of-type {\n",
       "        vertical-align: middle;\n",
       "    }\n",
       "\n",
       "    .dataframe tbody tr th {\n",
       "        vertical-align: top;\n",
       "    }\n",
       "\n",
       "    .dataframe thead th {\n",
       "        text-align: right;\n",
       "    }\n",
       "</style>\n",
       "<table border=\"1\" class=\"dataframe\">\n",
       "  <thead>\n",
       "    <tr style=\"text-align: right;\">\n",
       "      <th></th>\n",
       "      <th>Current Loan Amount</th>\n",
       "      <th>Term</th>\n",
       "      <th>Credit Score</th>\n",
       "      <th>Annual Income</th>\n",
       "      <th>Years in current job</th>\n",
       "      <th>Home Ownership</th>\n",
       "      <th>Purpose</th>\n",
       "      <th>Monthly Debt</th>\n",
       "      <th>Years of Credit History</th>\n",
       "      <th>Number of Open Accounts</th>\n",
       "      <th>Number of Credit Problems</th>\n",
       "      <th>Current Credit Balance</th>\n",
       "      <th>Maximum Open Credit</th>\n",
       "      <th>Bankruptcies</th>\n",
       "      <th>Tax Liens</th>\n",
       "    </tr>\n",
       "  </thead>\n",
       "  <tbody>\n",
       "    <tr>\n",
       "      <th>52872</th>\n",
       "      <td>-0.3893</td>\n",
       "      <td>-1.6669</td>\n",
       "      <td>4.0973</td>\n",
       "      <td>-0.1561</td>\n",
       "      <td>-0.4346</td>\n",
       "      <td>-0.9774</td>\n",
       "      <td>2.3183</td>\n",
       "      <td>-0.6404</td>\n",
       "      <td>-0.6750</td>\n",
       "      <td>-0.8248</td>\n",
       "      <td>-0.3451</td>\n",
       "      <td>0.6163</td>\n",
       "      <td>0.0261</td>\n",
       "      <td>-0.3324</td>\n",
       "      <td>-0.1121</td>\n",
       "    </tr>\n",
       "    <tr>\n",
       "      <th>90843</th>\n",
       "      <td>-0.3779</td>\n",
       "      <td>-1.6669</td>\n",
       "      <td>3.8604</td>\n",
       "      <td>-0.3508</td>\n",
       "      <td>0.0995</td>\n",
       "      <td>-0.9774</td>\n",
       "      <td>1.4288</td>\n",
       "      <td>-0.7286</td>\n",
       "      <td>0.4480</td>\n",
       "      <td>-0.6248</td>\n",
       "      <td>-0.3451</td>\n",
       "      <td>-0.4172</td>\n",
       "      <td>-0.0689</td>\n",
       "      <td>-0.3324</td>\n",
       "      <td>-0.1121</td>\n",
       "    </tr>\n",
       "    <tr>\n",
       "      <th>56099</th>\n",
       "      <td>-0.3864</td>\n",
       "      <td>0.5999</td>\n",
       "      <td>4.4059</td>\n",
       "      <td>-0.1380</td>\n",
       "      <td>-0.9686</td>\n",
       "      <td>-0.9774</td>\n",
       "      <td>3.2079</td>\n",
       "      <td>-1.0414</td>\n",
       "      <td>-0.5329</td>\n",
       "      <td>-0.2247</td>\n",
       "      <td>-0.3451</td>\n",
       "      <td>-0.4988</td>\n",
       "      <td>-0.0720</td>\n",
       "      <td>-0.3324</td>\n",
       "      <td>-0.1121</td>\n",
       "    </tr>\n",
       "    <tr>\n",
       "      <th>52704</th>\n",
       "      <td>-0.3903</td>\n",
       "      <td>-1.6669</td>\n",
       "      <td>4.3772</td>\n",
       "      <td>-1.1938</td>\n",
       "      <td>-0.1675</td>\n",
       "      <td>1.1189</td>\n",
       "      <td>1.4288</td>\n",
       "      <td>-1.3849</td>\n",
       "      <td>-1.1726</td>\n",
       "      <td>-0.8248</td>\n",
       "      <td>-0.3451</td>\n",
       "      <td>-0.7638</td>\n",
       "      <td>-0.0603</td>\n",
       "      <td>-0.3324</td>\n",
       "      <td>-0.1121</td>\n",
       "    </tr>\n",
       "    <tr>\n",
       "      <th>57005</th>\n",
       "      <td>-0.3879</td>\n",
       "      <td>-1.6669</td>\n",
       "      <td>3.9681</td>\n",
       "      <td>-0.5183</td>\n",
       "      <td>-0.9686</td>\n",
       "      <td>-0.9774</td>\n",
       "      <td>-0.3503</td>\n",
       "      <td>-0.2694</td>\n",
       "      <td>-0.1064</td>\n",
       "      <td>-0.2247</td>\n",
       "      <td>-0.3451</td>\n",
       "      <td>-0.2619</td>\n",
       "      <td>-0.0562</td>\n",
       "      <td>-0.3324</td>\n",
       "      <td>-0.1121</td>\n",
       "    </tr>\n",
       "    <tr>\n",
       "      <th>...</th>\n",
       "      <td>...</td>\n",
       "      <td>...</td>\n",
       "      <td>...</td>\n",
       "      <td>...</td>\n",
       "      <td>...</td>\n",
       "      <td>...</td>\n",
       "      <td>...</td>\n",
       "      <td>...</td>\n",
       "      <td>...</td>\n",
       "      <td>...</td>\n",
       "      <td>...</td>\n",
       "      <td>...</td>\n",
       "      <td>...</td>\n",
       "      <td>...</td>\n",
       "      <td>...</td>\n",
       "    </tr>\n",
       "    <tr>\n",
       "      <th>56341</th>\n",
       "      <td>-0.3882</td>\n",
       "      <td>0.5999</td>\n",
       "      <td>4.3628</td>\n",
       "      <td>-0.0166</td>\n",
       "      <td>1.1677</td>\n",
       "      <td>1.1189</td>\n",
       "      <td>-0.3503</td>\n",
       "      <td>0.7149</td>\n",
       "      <td>0.0073</td>\n",
       "      <td>-0.2247</td>\n",
       "      <td>-0.3451</td>\n",
       "      <td>1.8575</td>\n",
       "      <td>0.0478</td>\n",
       "      <td>-0.3324</td>\n",
       "      <td>-0.1121</td>\n",
       "    </tr>\n",
       "    <tr>\n",
       "      <th>52100</th>\n",
       "      <td>-0.3770</td>\n",
       "      <td>-1.6669</td>\n",
       "      <td>4.4920</td>\n",
       "      <td>0.5798</td>\n",
       "      <td>1.1677</td>\n",
       "      <td>-0.9774</td>\n",
       "      <td>-0.3503</td>\n",
       "      <td>1.2998</td>\n",
       "      <td>1.6847</td>\n",
       "      <td>0.5755</td>\n",
       "      <td>-0.3451</td>\n",
       "      <td>2.0112</td>\n",
       "      <td>0.1187</td>\n",
       "      <td>-0.3324</td>\n",
       "      <td>-0.1121</td>\n",
       "    </tr>\n",
       "    <tr>\n",
       "      <th>56235</th>\n",
       "      <td>-0.3745</td>\n",
       "      <td>0.5999</td>\n",
       "      <td>4.2264</td>\n",
       "      <td>0.0681</td>\n",
       "      <td>0.3666</td>\n",
       "      <td>-0.9774</td>\n",
       "      <td>-0.3503</td>\n",
       "      <td>0.2571</td>\n",
       "      <td>2.2676</td>\n",
       "      <td>0.1754</td>\n",
       "      <td>-0.3451</td>\n",
       "      <td>0.3448</td>\n",
       "      <td>-0.0112</td>\n",
       "      <td>-0.3324</td>\n",
       "      <td>-0.1121</td>\n",
       "    </tr>\n",
       "    <tr>\n",
       "      <th>56425</th>\n",
       "      <td>-0.3726</td>\n",
       "      <td>0.5999</td>\n",
       "      <td>4.4848</td>\n",
       "      <td>0.8045</td>\n",
       "      <td>1.1677</td>\n",
       "      <td>0.0707</td>\n",
       "      <td>-0.3503</td>\n",
       "      <td>1.0691</td>\n",
       "      <td>0.5191</td>\n",
       "      <td>0.1754</td>\n",
       "      <td>-0.3451</td>\n",
       "      <td>1.7600</td>\n",
       "      <td>0.0843</td>\n",
       "      <td>-0.3324</td>\n",
       "      <td>-0.1121</td>\n",
       "    </tr>\n",
       "    <tr>\n",
       "      <th>52678</th>\n",
       "      <td>-0.3696</td>\n",
       "      <td>0.5999</td>\n",
       "      <td>4.4059</td>\n",
       "      <td>0.5005</td>\n",
       "      <td>1.1677</td>\n",
       "      <td>-0.9774</td>\n",
       "      <td>-0.3503</td>\n",
       "      <td>1.3410</td>\n",
       "      <td>0.1637</td>\n",
       "      <td>0.9756</td>\n",
       "      <td>-0.3451</td>\n",
       "      <td>1.2469</td>\n",
       "      <td>0.0815</td>\n",
       "      <td>-0.3324</td>\n",
       "      <td>-0.1121</td>\n",
       "    </tr>\n",
       "  </tbody>\n",
       "</table>\n",
       "<p>100 rows × 15 columns</p>\n",
       "</div>"
      ],
      "text/plain": [
       "       Current Loan Amount    Term  Credit Score  Annual Income  \\\n",
       "52872              -0.3893 -1.6669        4.0973        -0.1561   \n",
       "90843              -0.3779 -1.6669        3.8604        -0.3508   \n",
       "56099              -0.3864  0.5999        4.4059        -0.1380   \n",
       "52704              -0.3903 -1.6669        4.3772        -1.1938   \n",
       "57005              -0.3879 -1.6669        3.9681        -0.5183   \n",
       "...                    ...     ...           ...            ...   \n",
       "56341              -0.3882  0.5999        4.3628        -0.0166   \n",
       "52100              -0.3770 -1.6669        4.4920         0.5798   \n",
       "56235              -0.3745  0.5999        4.2264         0.0681   \n",
       "56425              -0.3726  0.5999        4.4848         0.8045   \n",
       "52678              -0.3696  0.5999        4.4059         0.5005   \n",
       "\n",
       "       Years in current job  Home Ownership  Purpose  Monthly Debt  \\\n",
       "52872               -0.4346         -0.9774   2.3183       -0.6404   \n",
       "90843                0.0995         -0.9774   1.4288       -0.7286   \n",
       "56099               -0.9686         -0.9774   3.2079       -1.0414   \n",
       "52704               -0.1675          1.1189   1.4288       -1.3849   \n",
       "57005               -0.9686         -0.9774  -0.3503       -0.2694   \n",
       "...                     ...             ...      ...           ...   \n",
       "56341                1.1677          1.1189  -0.3503        0.7149   \n",
       "52100                1.1677         -0.9774  -0.3503        1.2998   \n",
       "56235                0.3666         -0.9774  -0.3503        0.2571   \n",
       "56425                1.1677          0.0707  -0.3503        1.0691   \n",
       "52678                1.1677         -0.9774  -0.3503        1.3410   \n",
       "\n",
       "       Years of Credit History  Number of Open Accounts  \\\n",
       "52872                  -0.6750                  -0.8248   \n",
       "90843                   0.4480                  -0.6248   \n",
       "56099                  -0.5329                  -0.2247   \n",
       "52704                  -1.1726                  -0.8248   \n",
       "57005                  -0.1064                  -0.2247   \n",
       "...                        ...                      ...   \n",
       "56341                   0.0073                  -0.2247   \n",
       "52100                   1.6847                   0.5755   \n",
       "56235                   2.2676                   0.1754   \n",
       "56425                   0.5191                   0.1754   \n",
       "52678                   0.1637                   0.9756   \n",
       "\n",
       "       Number of Credit Problems  Current Credit Balance  Maximum Open Credit  \\\n",
       "52872                    -0.3451                  0.6163               0.0261   \n",
       "90843                    -0.3451                 -0.4172              -0.0689   \n",
       "56099                    -0.3451                 -0.4988              -0.0720   \n",
       "52704                    -0.3451                 -0.7638              -0.0603   \n",
       "57005                    -0.3451                 -0.2619              -0.0562   \n",
       "...                          ...                     ...                  ...   \n",
       "56341                    -0.3451                  1.8575               0.0478   \n",
       "52100                    -0.3451                  2.0112               0.1187   \n",
       "56235                    -0.3451                  0.3448              -0.0112   \n",
       "56425                    -0.3451                  1.7600               0.0843   \n",
       "52678                    -0.3451                  1.2469               0.0815   \n",
       "\n",
       "       Bankruptcies  Tax Liens  \n",
       "52872       -0.3324    -0.1121  \n",
       "90843       -0.3324    -0.1121  \n",
       "56099       -0.3324    -0.1121  \n",
       "52704       -0.3324    -0.1121  \n",
       "57005       -0.3324    -0.1121  \n",
       "...             ...        ...  \n",
       "56341       -0.3324    -0.1121  \n",
       "52100       -0.3324    -0.1121  \n",
       "56235       -0.3324    -0.1121  \n",
       "56425       -0.3324    -0.1121  \n",
       "52678       -0.3324    -0.1121  \n",
       "\n",
       "[100 rows x 15 columns]"
      ]
     },
     "execution_count": 28,
     "metadata": {},
     "output_type": "execute_result"
    }
   ],
   "source": [
    "slice0 = op.slicing(0, 100)\n",
    "slice0\n"
   ]
  },
  {
   "cell_type": "code",
   "execution_count": 29,
   "metadata": {},
   "outputs": [
    {
     "data": {
      "image/png": "[encoded data removed]",
      "text/plain": [
       "<Figure size 640x480 with 1 Axes>"
      ]
     },
     "metadata": {},
     "output_type": "display_data"
    }
   ],
   "source": [
    "plt.figure()\n",
    "plt.scatter(x = X_st[a],y = X_st[b],  c= y, cmap = 'viridis')\n",
    "plt.scatter(x = obs_st[a], y = obs_st[b], c='red', marker='X', s = 100)\n",
    "plt.xlabel(a)\n",
    "plt.ylabel(b)\n",
    "\n",
    "#X_st.plot.scatter(x = 'Current Loan Amount',y = 'Credit Score',  c= y, cmap = 'viridis')\n",
    "#obs_st.plot.scatter(x = 'Current Loan Amount', y = 'Credit Score', c='red', marker='X', s = 100)\n",
    "plt.show()"
   ]
  },
  {
   "cell_type": "code",
   "execution_count": 30,
   "metadata": {},
   "outputs": [
    {
     "data": {
      "image/png": "[encoded data removed]",
      "text/plain": [
       "<Figure size 640x480 with 1 Axes>"
      ]
     },
     "metadata": {},
     "output_type": "display_data"
    }
   ],
   "source": [
    "plt.figure()\n",
    "plt.scatter(x = X_gen[a],y = X_gen[b],  c= y_gen, cmap = 'viridis')\n",
    "plt.scatter(x = obs_st[a], y = obs_st[b], c='red', marker='X', s = 100)\n",
    "plt.xlabel(a)\n",
    "plt.ylabel(b)\n",
    "plt.show()"
   ]
  },
  {
   "cell_type": "code",
   "execution_count": 31,
   "metadata": {},
   "outputs": [
    {
     "data": {
      "image/png": "[encoded data removed]",
      "text/plain": [
       "<Figure size 640x480 with 1 Axes>"
      ]
     },
     "metadata": {},
     "output_type": "display_data"
    }
   ],
   "source": [
    "plt.figure()\n",
    "plt.scatter(x = slice1[a],y = slice1[b],  c= log_reg.predict(slice1), cmap = 'viridis')\n",
    "plt.scatter(x = obs_st[a], y = obs_st[b], c='red', marker='X', s = 100)\n",
    "plt.xlabel(a)\n",
    "plt.ylabel(b)\n",
    "plt.show()"
   ]
  },
  {
   "cell_type": "code",
   "execution_count": 32,
   "metadata": {},
   "outputs": [
    {
     "data": {
      "image/png": "[encoded data removed]",
      "text/plain": [
       "<Figure size 640x480 with 1 Axes>"
      ]
     },
     "metadata": {},
     "output_type": "display_data"
    }
   ],
   "source": [
    "plt.figure()\n",
    "plt.scatter(x = slice0[a],y = slice0[b],  c= log_reg.predict(slice0), cmap = 'viridis')\n",
    "plt.scatter(x = obs_st[a], y = obs_st[b], c='red', marker='X', s = 100)\n",
    "plt.xlabel(a)\n",
    "plt.ylabel(b)\n",
    "plt.show()"
   ]
  },
  {
   "attachments": {},
   "cell_type": "markdown",
   "metadata": {},
   "source": [
    "STEP 4\n",
    "\n",
    "At this final step you can use various methods for search. \n",
    "\n",
    "Binary search ...\n",
    "\n",
    "Weitzfeld algorythm - minimizes the weighted sum of distances from the counterfactual to the instance and nearest datapoints in the target class. We use the second term as the proxie for density in around the counterfactual in the target class.\n",
    "\n",
    "Weber algorythm - minimizes the weighted sum of distances from the counterfactual to the instance and nearest datapoints in the target class substraced with weighted sum of distances to the nearest datapoints from the opposite class. We use the second term as the proxie for density around the counterfactual in the target class and  the third term as the proxie for density around the counterfactual in the antitarget class."
   ]
  },
  {
   "cell_type": "code",
   "execution_count": 33,
   "metadata": {},
   "outputs": [
    {
     "data": {
      "text/html": [
       "<div>\n",
       "<style scoped>\n",
       "    .dataframe tbody tr th:only-of-type {\n",
       "        vertical-align: middle;\n",
       "    }\n",
       "\n",
       "    .dataframe tbody tr th {\n",
       "        vertical-align: top;\n",
       "    }\n",
       "\n",
       "    .dataframe thead th {\n",
       "        text-align: right;\n",
       "    }\n",
       "</style>\n",
       "<table border=\"1\" class=\"dataframe\">\n",
       "  <thead>\n",
       "    <tr style=\"text-align: right;\">\n",
       "      <th></th>\n",
       "      <th>Current Loan Amount</th>\n",
       "      <th>Term</th>\n",
       "      <th>Credit Score</th>\n",
       "      <th>Annual Income</th>\n",
       "      <th>Years in current job</th>\n",
       "      <th>Home Ownership</th>\n",
       "      <th>Purpose</th>\n",
       "      <th>Monthly Debt</th>\n",
       "      <th>Years of Credit History</th>\n",
       "      <th>Number of Open Accounts</th>\n",
       "      <th>Number of Credit Problems</th>\n",
       "      <th>Current Credit Balance</th>\n",
       "      <th>Maximum Open Credit</th>\n",
       "      <th>Bankruptcies</th>\n",
       "      <th>Tax Liens</th>\n",
       "    </tr>\n",
       "  </thead>\n",
       "  <tbody>\n",
       "    <tr>\n",
       "      <th>56171</th>\n",
       "      <td>-0.3816</td>\n",
       "      <td>-1.6669</td>\n",
       "      <td>-0.3063</td>\n",
       "      <td>-0.4625</td>\n",
       "      <td>0.0995</td>\n",
       "      <td>-0.9774</td>\n",
       "      <td>1.4288</td>\n",
       "      <td>-0.4227</td>\n",
       "      <td>-0.3765</td>\n",
       "      <td>-0.2247</td>\n",
       "      <td>-0.3451</td>\n",
       "      <td>0.7495</td>\n",
       "      <td>0.0632</td>\n",
       "      <td>-0.3324</td>\n",
       "      <td>-0.1121</td>\n",
       "    </tr>\n",
       "    <tr>\n",
       "      <th>52039</th>\n",
       "      <td>-0.3822</td>\n",
       "      <td>-1.6669</td>\n",
       "      <td>-0.3530</td>\n",
       "      <td>-0.3336</td>\n",
       "      <td>-1.2357</td>\n",
       "      <td>-0.9774</td>\n",
       "      <td>3.2079</td>\n",
       "      <td>-0.4567</td>\n",
       "      <td>-1.2721</td>\n",
       "      <td>-0.8248</td>\n",
       "      <td>-0.3451</td>\n",
       "      <td>-0.3225</td>\n",
       "      <td>-0.0620</td>\n",
       "      <td>-0.3324</td>\n",
       "      <td>-0.1121</td>\n",
       "    </tr>\n",
       "    <tr>\n",
       "      <th>53897</th>\n",
       "      <td>-0.3845</td>\n",
       "      <td>-1.6669</td>\n",
       "      <td>-0.2984</td>\n",
       "      <td>-0.5545</td>\n",
       "      <td>-0.1675</td>\n",
       "      <td>-0.9774</td>\n",
       "      <td>3.2079</td>\n",
       "      <td>-0.5436</td>\n",
       "      <td>0.2774</td>\n",
       "      <td>-0.4247</td>\n",
       "      <td>-0.3451</td>\n",
       "      <td>-0.2549</td>\n",
       "      <td>0.0660</td>\n",
       "      <td>-0.3324</td>\n",
       "      <td>-0.1121</td>\n",
       "    </tr>\n",
       "    <tr>\n",
       "      <th>52914</th>\n",
       "      <td>-0.3708</td>\n",
       "      <td>-1.6669</td>\n",
       "      <td>0.0000</td>\n",
       "      <td>0.0000</td>\n",
       "      <td>-0.1675</td>\n",
       "      <td>-0.9774</td>\n",
       "      <td>3.2079</td>\n",
       "      <td>-0.3715</td>\n",
       "      <td>-1.0589</td>\n",
       "      <td>-1.2249</td>\n",
       "      <td>-0.3451</td>\n",
       "      <td>-0.7899</td>\n",
       "      <td>-0.0881</td>\n",
       "      <td>-0.3324</td>\n",
       "      <td>-0.1121</td>\n",
       "    </tr>\n",
       "    <tr>\n",
       "      <th>51825</th>\n",
       "      <td>-0.3817</td>\n",
       "      <td>-1.6669</td>\n",
       "      <td>-0.2812</td>\n",
       "      <td>0.4884</td>\n",
       "      <td>-0.7016</td>\n",
       "      <td>-0.9774</td>\n",
       "      <td>3.2079</td>\n",
       "      <td>0.5593</td>\n",
       "      <td>-0.1349</td>\n",
       "      <td>-0.2247</td>\n",
       "      <td>-0.3451</td>\n",
       "      <td>0.1067</td>\n",
       "      <td>-0.0246</td>\n",
       "      <td>-0.3324</td>\n",
       "      <td>-0.1121</td>\n",
       "    </tr>\n",
       "    <tr>\n",
       "      <th>...</th>\n",
       "      <td>...</td>\n",
       "      <td>...</td>\n",
       "      <td>...</td>\n",
       "      <td>...</td>\n",
       "      <td>...</td>\n",
       "      <td>...</td>\n",
       "      <td>...</td>\n",
       "      <td>...</td>\n",
       "      <td>...</td>\n",
       "      <td>...</td>\n",
       "      <td>...</td>\n",
       "      <td>...</td>\n",
       "      <td>...</td>\n",
       "      <td>...</td>\n",
       "      <td>...</td>\n",
       "    </tr>\n",
       "    <tr>\n",
       "      <th>51661</th>\n",
       "      <td>-0.3903</td>\n",
       "      <td>0.5999</td>\n",
       "      <td>0.0000</td>\n",
       "      <td>0.0000</td>\n",
       "      <td>1.1677</td>\n",
       "      <td>-0.9774</td>\n",
       "      <td>2.3183</td>\n",
       "      <td>-0.2543</td>\n",
       "      <td>-0.1917</td>\n",
       "      <td>-0.2247</td>\n",
       "      <td>-0.3451</td>\n",
       "      <td>-0.5641</td>\n",
       "      <td>-0.0144</td>\n",
       "      <td>-0.3324</td>\n",
       "      <td>-0.1121</td>\n",
       "    </tr>\n",
       "    <tr>\n",
       "      <th>51933</th>\n",
       "      <td>-0.3756</td>\n",
       "      <td>-1.6669</td>\n",
       "      <td>-0.2927</td>\n",
       "      <td>-0.3812</td>\n",
       "      <td>-0.1675</td>\n",
       "      <td>-0.9774</td>\n",
       "      <td>-0.3503</td>\n",
       "      <td>0.5417</td>\n",
       "      <td>-0.0353</td>\n",
       "      <td>-0.0247</td>\n",
       "      <td>-0.3451</td>\n",
       "      <td>0.1897</td>\n",
       "      <td>-0.0105</td>\n",
       "      <td>-0.3324</td>\n",
       "      <td>-0.1121</td>\n",
       "    </tr>\n",
       "    <tr>\n",
       "      <th>52085</th>\n",
       "      <td>-0.3805</td>\n",
       "      <td>-1.6669</td>\n",
       "      <td>0.0000</td>\n",
       "      <td>0.0000</td>\n",
       "      <td>0.9006</td>\n",
       "      <td>-0.9774</td>\n",
       "      <td>-0.3503</td>\n",
       "      <td>-0.2444</td>\n",
       "      <td>-1.1726</td>\n",
       "      <td>-1.0249</td>\n",
       "      <td>-0.3451</td>\n",
       "      <td>-0.1018</td>\n",
       "      <td>0.0309</td>\n",
       "      <td>-0.3324</td>\n",
       "      <td>-0.1121</td>\n",
       "    </tr>\n",
       "    <tr>\n",
       "      <th>56394</th>\n",
       "      <td>-0.3875</td>\n",
       "      <td>0.5999</td>\n",
       "      <td>-0.2941</td>\n",
       "      <td>-0.2351</td>\n",
       "      <td>-1.5027</td>\n",
       "      <td>-0.9774</td>\n",
       "      <td>1.4288</td>\n",
       "      <td>-0.5952</td>\n",
       "      <td>-0.5471</td>\n",
       "      <td>0.3754</td>\n",
       "      <td>-0.3451</td>\n",
       "      <td>-0.5723</td>\n",
       "      <td>-0.0708</td>\n",
       "      <td>-0.3324</td>\n",
       "      <td>-0.1121</td>\n",
       "    </tr>\n",
       "    <tr>\n",
       "      <th>53006</th>\n",
       "      <td>-0.3845</td>\n",
       "      <td>-1.6669</td>\n",
       "      <td>-0.2920</td>\n",
       "      <td>-0.2560</td>\n",
       "      <td>-1.5027</td>\n",
       "      <td>-0.9774</td>\n",
       "      <td>-0.3503</td>\n",
       "      <td>0.5308</td>\n",
       "      <td>-0.4618</td>\n",
       "      <td>-1.2249</td>\n",
       "      <td>-0.3451</td>\n",
       "      <td>0.2916</td>\n",
       "      <td>-0.0342</td>\n",
       "      <td>-0.3324</td>\n",
       "      <td>-0.1121</td>\n",
       "    </tr>\n",
       "  </tbody>\n",
       "</table>\n",
       "<p>100 rows × 15 columns</p>\n",
       "</div>"
      ],
      "text/plain": [
       "       Current Loan Amount    Term  Credit Score  Annual Income  \\\n",
       "56171              -0.3816 -1.6669       -0.3063        -0.4625   \n",
       "52039              -0.3822 -1.6669       -0.3530        -0.3336   \n",
       "53897              -0.3845 -1.6669       -0.2984        -0.5545   \n",
       "52914              -0.3708 -1.6669        0.0000         0.0000   \n",
       "51825              -0.3817 -1.6669       -0.2812         0.4884   \n",
       "...                    ...     ...           ...            ...   \n",
       "51661              -0.3903  0.5999        0.0000         0.0000   \n",
       "51933              -0.3756 -1.6669       -0.2927        -0.3812   \n",
       "52085              -0.3805 -1.6669        0.0000         0.0000   \n",
       "56394              -0.3875  0.5999       -0.2941        -0.2351   \n",
       "53006              -0.3845 -1.6669       -0.2920        -0.2560   \n",
       "\n",
       "       Years in current job  Home Ownership  Purpose  Monthly Debt  \\\n",
       "56171                0.0995         -0.9774   1.4288       -0.4227   \n",
       "52039               -1.2357         -0.9774   3.2079       -0.4567   \n",
       "53897               -0.1675         -0.9774   3.2079       -0.5436   \n",
       "52914               -0.1675         -0.9774   3.2079       -0.3715   \n",
       "51825               -0.7016         -0.9774   3.2079        0.5593   \n",
       "...                     ...             ...      ...           ...   \n",
       "51661                1.1677         -0.9774   2.3183       -0.2543   \n",
       "51933               -0.1675         -0.9774  -0.3503        0.5417   \n",
       "52085                0.9006         -0.9774  -0.3503       -0.2444   \n",
       "56394               -1.5027         -0.9774   1.4288       -0.5952   \n",
       "53006               -1.5027         -0.9774  -0.3503        0.5308   \n",
       "\n",
       "       Years of Credit History  Number of Open Accounts  \\\n",
       "56171                  -0.3765                  -0.2247   \n",
       "52039                  -1.2721                  -0.8248   \n",
       "53897                   0.2774                  -0.4247   \n",
       "52914                  -1.0589                  -1.2249   \n",
       "51825                  -0.1349                  -0.2247   \n",
       "...                        ...                      ...   \n",
       "51661                  -0.1917                  -0.2247   \n",
       "51933                  -0.0353                  -0.0247   \n",
       "52085                  -1.1726                  -1.0249   \n",
       "56394                  -0.5471                   0.3754   \n",
       "53006                  -0.4618                  -1.2249   \n",
       "\n",
       "       Number of Credit Problems  Current Credit Balance  Maximum Open Credit  \\\n",
       "56171                    -0.3451                  0.7495               0.0632   \n",
       "52039                    -0.3451                 -0.3225              -0.0620   \n",
       "53897                    -0.3451                 -0.2549               0.0660   \n",
       "52914                    -0.3451                 -0.7899              -0.0881   \n",
       "51825                    -0.3451                  0.1067              -0.0246   \n",
       "...                          ...                     ...                  ...   \n",
       "51661                    -0.3451                 -0.5641              -0.0144   \n",
       "51933                    -0.3451                  0.1897              -0.0105   \n",
       "52085                    -0.3451                 -0.1018               0.0309   \n",
       "56394                    -0.3451                 -0.5723              -0.0708   \n",
       "53006                    -0.3451                  0.2916              -0.0342   \n",
       "\n",
       "       Bankruptcies  Tax Liens  \n",
       "56171       -0.3324    -0.1121  \n",
       "52039       -0.3324    -0.1121  \n",
       "53897       -0.3324    -0.1121  \n",
       "52914       -0.3324    -0.1121  \n",
       "51825       -0.3324    -0.1121  \n",
       "...             ...        ...  \n",
       "51661       -0.3324    -0.1121  \n",
       "51933       -0.3324    -0.1121  \n",
       "52085       -0.3324    -0.1121  \n",
       "56394       -0.3324    -0.1121  \n",
       "53006       -0.3324    -0.1121  \n",
       "\n",
       "[100 rows x 15 columns]"
      ]
     },
     "execution_count": 33,
     "metadata": {},
     "output_type": "execute_result"
    }
   ],
   "source": [
    "# Slice the data - choose 100 points in the unstances's neighborhood accounting for fixed features\n",
    "\n",
    "slice = op.slicing(1,100)\n",
    "slice"
   ]
  },
  {
   "cell_type": "code",
   "execution_count": 34,
   "metadata": {},
   "outputs": [
    {
     "data": {
      "text/plain": [
       "['Credit Score', 'Current Loan Amount']"
      ]
     },
     "execution_count": 34,
     "metadata": {},
     "output_type": "execute_result"
    }
   ],
   "source": [
    "op.features_to_use"
   ]
  },
  {
   "cell_type": "code",
   "execution_count": 35,
   "metadata": {},
   "outputs": [
    {
     "data": {
      "text/plain": [
       "[0.006744267884641886]"
      ]
     },
     "execution_count": 35,
     "metadata": {},
     "output_type": "execute_result"
    }
   ],
   "source": [
    "op.thresholds"
   ]
  },
  {
   "cell_type": "code",
   "execution_count": 36,
   "metadata": {},
   "outputs": [],
   "source": [
    "w = [0.5, 0.1]  #weights for weitzfeld algorythm\n"
   ]
  },
  {
   "cell_type": "code",
   "execution_count": 37,
   "metadata": {},
   "outputs": [
    {
     "data": {
      "text/html": [
       "<div>\n",
       "<style scoped>\n",
       "    .dataframe tbody tr th:only-of-type {\n",
       "        vertical-align: middle;\n",
       "    }\n",
       "\n",
       "    .dataframe tbody tr th {\n",
       "        vertical-align: top;\n",
       "    }\n",
       "\n",
       "    .dataframe thead th {\n",
       "        text-align: right;\n",
       "    }\n",
       "</style>\n",
       "<table border=\"1\" class=\"dataframe\">\n",
       "  <thead>\n",
       "    <tr style=\"text-align: right;\">\n",
       "      <th></th>\n",
       "      <th>Current Loan Amount</th>\n",
       "      <th>Term</th>\n",
       "      <th>Credit Score</th>\n",
       "      <th>Annual Income</th>\n",
       "      <th>Years in current job</th>\n",
       "      <th>Home Ownership</th>\n",
       "      <th>Purpose</th>\n",
       "      <th>Monthly Debt</th>\n",
       "      <th>Years of Credit History</th>\n",
       "      <th>Number of Open Accounts</th>\n",
       "      <th>Number of Credit Problems</th>\n",
       "      <th>Current Credit Balance</th>\n",
       "      <th>Maximum Open Credit</th>\n",
       "      <th>Bankruptcies</th>\n",
       "      <th>Tax Liens</th>\n",
       "    </tr>\n",
       "  </thead>\n",
       "  <tbody>\n",
       "    <tr>\n",
       "      <th>52872</th>\n",
       "      <td>-0.3893</td>\n",
       "      <td>-1.6669</td>\n",
       "      <td>4.0973</td>\n",
       "      <td>-0.1561</td>\n",
       "      <td>-0.4346</td>\n",
       "      <td>-0.9774</td>\n",
       "      <td>2.3183</td>\n",
       "      <td>-0.6404</td>\n",
       "      <td>-0.6750</td>\n",
       "      <td>-0.8248</td>\n",
       "      <td>-0.3451</td>\n",
       "      <td>0.6163</td>\n",
       "      <td>0.0261</td>\n",
       "      <td>-0.3324</td>\n",
       "      <td>-0.1121</td>\n",
       "    </tr>\n",
       "  </tbody>\n",
       "</table>\n",
       "</div>"
      ],
      "text/plain": [
       "       Current Loan Amount    Term  Credit Score  Annual Income  \\\n",
       "52872              -0.3893 -1.6669        4.0973        -0.1561   \n",
       "\n",
       "       Years in current job  Home Ownership  Purpose  Monthly Debt  \\\n",
       "52872               -0.4346         -0.9774   2.3183       -0.6404   \n",
       "\n",
       "       Years of Credit History  Number of Open Accounts  \\\n",
       "52872                  -0.6750                  -0.8248   \n",
       "\n",
       "       Number of Credit Problems  Current Credit Balance  Maximum Open Credit  \\\n",
       "52872                    -0.3451                  0.6163               0.0261   \n",
       "\n",
       "       Bankruptcies  Tax Liens  \n",
       "52872       -0.3324    -0.1121  "
      ]
     },
     "execution_count": 37,
     "metadata": {},
     "output_type": "execute_result"
    }
   ],
   "source": [
    "obs_st"
   ]
  },
  {
   "attachments": {},
   "cell_type": "markdown",
   "metadata": {},
   "source": [
    "Weitzfeld algorythm"
   ]
  },
  {
   "cell_type": "code",
   "execution_count": 38,
   "metadata": {},
   "outputs": [
    {
     "ename": "ValueError",
     "evalue": "Columns must be same length as key",
     "output_type": "error",
     "traceback": [
      "\u001b[1;31m---------------------------------------------------------------------------\u001b[0m",
      "\u001b[1;31mValueError\u001b[0m                                Traceback (most recent call last)",
      "Cell \u001b[1;32mIn[38], line 4\u001b[0m\n\u001b[0;32m      1\u001b[0m \u001b[39m# op.thresholds give us the initial position from step 3\u001b[39;00m\n\u001b[0;32m      2\u001b[0m \u001b[39m# 5 - the number of neighbors we account for in the target class\u001b[39;00m\n\u001b[1;32m----> 4\u001b[0m c,d \u001b[39m=\u001b[39m op\u001b[39m.\u001b[39;49mweitzfeld(op\u001b[39m.\u001b[39;49mthresholds, w, \u001b[39m5\u001b[39;49m)\n",
      "File \u001b[1;32mc:\\Users\\Administrator\\Documents\\Intuit\\FastCG\\FastCG\\generators\\Optika.py:325\u001b[0m, in \u001b[0;36mOptika.weitzfeld\u001b[1;34m(self, thresholds, w, n_iter, n_neighbors)\u001b[0m\n\u001b[0;32m    296\u001b[0m \u001b[39m\u001b[39m\u001b[39m\"\"\"\u001b[39;00m\n\u001b[0;32m    297\u001b[0m \u001b[39mChoose the counterfactual via weitzfeld algorythm\u001b[39;00m\n\u001b[0;32m    298\u001b[0m \n\u001b[1;32m   (...)\u001b[0m\n\u001b[0;32m    321\u001b[0m \n\u001b[0;32m    322\u001b[0m \u001b[39m\"\"\"\u001b[39;00m\n\u001b[0;32m    324\u001b[0m cand_obs \u001b[39m=\u001b[39m \u001b[39mself\u001b[39m\u001b[39m.\u001b[39mobs_st\u001b[39m.\u001b[39mcopy()\u001b[39m.\u001b[39mreset_index(drop \u001b[39m=\u001b[39m \u001b[39mTrue\u001b[39;00m)\n\u001b[1;32m--> 325\u001b[0m cand_obs[\u001b[39mself\u001b[39;49m\u001b[39m.\u001b[39;49mfeatures_to_use] \u001b[39m=\u001b[39m thresholds\n\u001b[0;32m    326\u001b[0m \u001b[39mif\u001b[39;00m (\u001b[39mself\u001b[39m\u001b[39m.\u001b[39mmodel\u001b[39m.\u001b[39mpredict(cand_obs) \u001b[39m==\u001b[39m \u001b[39m0\u001b[39m):\n\u001b[0;32m    327\u001b[0m     \u001b[39mprint\u001b[39m(\u001b[39m'\u001b[39m\u001b[39mPlease try another initial point\u001b[39m\u001b[39m'\u001b[39m)\n",
      "File \u001b[1;32mc:\\Users\\Administrator\\AppData\\Local\\Programs\\Python\\Python310\\lib\\site-packages\\pandas\\core\\frame.py:3968\u001b[0m, in \u001b[0;36mDataFrame.__setitem__\u001b[1;34m(self, key, value)\u001b[0m\n\u001b[0;32m   3966\u001b[0m     \u001b[39mself\u001b[39m\u001b[39m.\u001b[39m_setitem_frame(key, value)\n\u001b[0;32m   3967\u001b[0m \u001b[39melif\u001b[39;00m \u001b[39misinstance\u001b[39m(key, (Series, np\u001b[39m.\u001b[39mndarray, \u001b[39mlist\u001b[39m, Index)):\n\u001b[1;32m-> 3968\u001b[0m     \u001b[39mself\u001b[39;49m\u001b[39m.\u001b[39;49m_setitem_array(key, value)\n\u001b[0;32m   3969\u001b[0m \u001b[39melif\u001b[39;00m \u001b[39misinstance\u001b[39m(value, DataFrame):\n\u001b[0;32m   3970\u001b[0m     \u001b[39mself\u001b[39m\u001b[39m.\u001b[39m_set_item_frame_value(key, value)\n",
      "File \u001b[1;32mc:\\Users\\Administrator\\AppData\\Local\\Programs\\Python\\Python310\\lib\\site-packages\\pandas\\core\\frame.py:4027\u001b[0m, in \u001b[0;36mDataFrame._setitem_array\u001b[1;34m(self, key, value)\u001b[0m\n\u001b[0;32m   4024\u001b[0m     \u001b[39mreturn\u001b[39;00m \u001b[39mself\u001b[39m\u001b[39m.\u001b[39m_setitem_array(key, value)\n\u001b[0;32m   4026\u001b[0m \u001b[39melse\u001b[39;00m:\n\u001b[1;32m-> 4027\u001b[0m     \u001b[39mself\u001b[39;49m\u001b[39m.\u001b[39;49m_iset_not_inplace(key, value)\n",
      "File \u001b[1;32mc:\\Users\\Administrator\\AppData\\Local\\Programs\\Python\\Python310\\lib\\site-packages\\pandas\\core\\frame.py:4046\u001b[0m, in \u001b[0;36mDataFrame._iset_not_inplace\u001b[1;34m(self, key, value)\u001b[0m\n\u001b[0;32m   4044\u001b[0m \u001b[39mif\u001b[39;00m \u001b[39mself\u001b[39m\u001b[39m.\u001b[39mcolumns\u001b[39m.\u001b[39mis_unique:\n\u001b[0;32m   4045\u001b[0m     \u001b[39mif\u001b[39;00m np\u001b[39m.\u001b[39mshape(value)[\u001b[39m-\u001b[39m\u001b[39m1\u001b[39m] \u001b[39m!=\u001b[39m \u001b[39mlen\u001b[39m(key):\n\u001b[1;32m-> 4046\u001b[0m         \u001b[39mraise\u001b[39;00m \u001b[39mValueError\u001b[39;00m(\u001b[39m\"\u001b[39m\u001b[39mColumns must be same length as key\u001b[39m\u001b[39m\"\u001b[39m)\n\u001b[0;32m   4048\u001b[0m     \u001b[39mfor\u001b[39;00m i, col \u001b[39min\u001b[39;00m \u001b[39menumerate\u001b[39m(key):\n\u001b[0;32m   4049\u001b[0m         \u001b[39mself\u001b[39m[col] \u001b[39m=\u001b[39m igetitem(value, i)\n",
      "\u001b[1;31mValueError\u001b[0m: Columns must be same length as key"
     ]
    }
   ],
   "source": [
    "# op.thresholds give us the initial position from step 3\n",
    "# 5 - the number of neighbors we account for in the target class\n",
    "\n",
    "c,d = op.weitzfeld(op.thresholds, w, 5)"
   ]
  },
  {
   "cell_type": "code",
   "execution_count": null,
   "metadata": {},
   "outputs": [
    {
     "data": {
      "text/html": [
       "<div>\n",
       "<style scoped>\n",
       "    .dataframe tbody tr th:only-of-type {\n",
       "        vertical-align: middle;\n",
       "    }\n",
       "\n",
       "    .dataframe tbody tr th {\n",
       "        vertical-align: top;\n",
       "    }\n",
       "\n",
       "    .dataframe thead th {\n",
       "        text-align: right;\n",
       "    }\n",
       "</style>\n",
       "<table border=\"1\" class=\"dataframe\">\n",
       "  <thead>\n",
       "    <tr style=\"text-align: right;\">\n",
       "      <th></th>\n",
       "      <th>Current Loan Amount</th>\n",
       "      <th>Term</th>\n",
       "      <th>Credit Score</th>\n",
       "      <th>Annual Income</th>\n",
       "      <th>Years in current job</th>\n",
       "      <th>Home Ownership</th>\n",
       "      <th>Purpose</th>\n",
       "      <th>Monthly Debt</th>\n",
       "      <th>Years of Credit History</th>\n",
       "      <th>Number of Open Accounts</th>\n",
       "      <th>Number of Credit Problems</th>\n",
       "      <th>Current Credit Balance</th>\n",
       "      <th>Maximum Open Credit</th>\n",
       "      <th>Bankruptcies</th>\n",
       "      <th>Tax Liens</th>\n",
       "    </tr>\n",
       "  </thead>\n",
       "  <tbody>\n",
       "    <tr>\n",
       "      <th>52872</th>\n",
       "      <td>-0.3893</td>\n",
       "      <td>-1.6669</td>\n",
       "      <td>0.0112</td>\n",
       "      <td>-0.1561</td>\n",
       "      <td>-0.4346</td>\n",
       "      <td>-0.9774</td>\n",
       "      <td>2.3183</td>\n",
       "      <td>-0.6404</td>\n",
       "      <td>-0.6750</td>\n",
       "      <td>-0.8248</td>\n",
       "      <td>-0.3451</td>\n",
       "      <td>0.6163</td>\n",
       "      <td>0.0261</td>\n",
       "      <td>9.5308</td>\n",
       "      <td>-0.1121</td>\n",
       "    </tr>\n",
       "  </tbody>\n",
       "</table>\n",
       "</div>"
      ],
      "text/plain": [
       "       Current Loan Amount    Term  Credit Score  Annual Income  \\\n",
       "52872              -0.3893 -1.6669        0.0112        -0.1561   \n",
       "\n",
       "       Years in current job  Home Ownership  Purpose  Monthly Debt  \\\n",
       "52872               -0.4346         -0.9774   2.3183       -0.6404   \n",
       "\n",
       "       Years of Credit History  Number of Open Accounts  \\\n",
       "52872                  -0.6750                  -0.8248   \n",
       "\n",
       "       Number of Credit Problems  Current Credit Balance  Maximum Open Credit  \\\n",
       "52872                    -0.3451                  0.6163               0.0261   \n",
       "\n",
       "       Bankruptcies  Tax Liens  \n",
       "52872        9.5308    -0.1121  "
      ]
     },
     "execution_count": 49,
     "metadata": {},
     "output_type": "execute_result"
    }
   ],
   "source": [
    "cand_obs = obs_st.copy()\n",
    "cand_obs[op.features_to_use] = op.thresholds\n",
    "cand_obs"
   ]
  },
  {
   "cell_type": "code",
   "execution_count": null,
   "metadata": {},
   "outputs": [
    {
     "data": {
      "text/plain": [
       "10.676072443775919"
      ]
     },
     "execution_count": 43,
     "metadata": {},
     "output_type": "execute_result"
    }
   ],
   "source": [
    "d"
   ]
  },
  {
   "cell_type": "code",
   "execution_count": null,
   "metadata": {},
   "outputs": [
    {
     "data": {
      "text/html": [
       "<div>\n",
       "<style scoped>\n",
       "    .dataframe tbody tr th:only-of-type {\n",
       "        vertical-align: middle;\n",
       "    }\n",
       "\n",
       "    .dataframe tbody tr th {\n",
       "        vertical-align: top;\n",
       "    }\n",
       "\n",
       "    .dataframe thead th {\n",
       "        text-align: right;\n",
       "    }\n",
       "</style>\n",
       "<table border=\"1\" class=\"dataframe\">\n",
       "  <thead>\n",
       "    <tr style=\"text-align: right;\">\n",
       "      <th></th>\n",
       "      <th>Current Loan Amount</th>\n",
       "      <th>Term</th>\n",
       "      <th>Credit Score</th>\n",
       "      <th>Annual Income</th>\n",
       "      <th>Years in current job</th>\n",
       "      <th>Home Ownership</th>\n",
       "      <th>Purpose</th>\n",
       "      <th>Monthly Debt</th>\n",
       "      <th>Years of Credit History</th>\n",
       "      <th>Number of Open Accounts</th>\n",
       "      <th>Number of Credit Problems</th>\n",
       "      <th>Current Credit Balance</th>\n",
       "      <th>Maximum Open Credit</th>\n",
       "      <th>Bankruptcies</th>\n",
       "      <th>Tax Liens</th>\n",
       "    </tr>\n",
       "  </thead>\n",
       "  <tbody>\n",
       "    <tr>\n",
       "      <th>0</th>\n",
       "      <td>-0.3893</td>\n",
       "      <td>-1.6669</td>\n",
       "      <td>0.0112</td>\n",
       "      <td>-0.1561</td>\n",
       "      <td>-0.4346</td>\n",
       "      <td>-0.9774</td>\n",
       "      <td>2.3183</td>\n",
       "      <td>-0.6404</td>\n",
       "      <td>-0.6750</td>\n",
       "      <td>-0.8248</td>\n",
       "      <td>-0.3451</td>\n",
       "      <td>0.6163</td>\n",
       "      <td>0.0261</td>\n",
       "      <td>9.5308</td>\n",
       "      <td>-0.1121</td>\n",
       "    </tr>\n",
       "  </tbody>\n",
       "</table>\n",
       "</div>"
      ],
      "text/plain": [
       "   Current Loan Amount    Term  Credit Score  Annual Income  \\\n",
       "0              -0.3893 -1.6669        0.0112        -0.1561   \n",
       "\n",
       "   Years in current job  Home Ownership  Purpose  Monthly Debt  \\\n",
       "0               -0.4346         -0.9774   2.3183       -0.6404   \n",
       "\n",
       "   Years of Credit History  Number of Open Accounts  \\\n",
       "0                  -0.6750                  -0.8248   \n",
       "\n",
       "   Number of Credit Problems  Current Credit Balance  Maximum Open Credit  \\\n",
       "0                    -0.3451                  0.6163               0.0261   \n",
       "\n",
       "   Bankruptcies  Tax Liens  \n",
       "0        9.5308    -0.1121  "
      ]
     },
     "execution_count": 46,
     "metadata": {},
     "output_type": "execute_result"
    }
   ],
   "source": [
    "c"
   ]
  },
  {
   "cell_type": "code",
   "execution_count": null,
   "metadata": {},
   "outputs": [
    {
     "data": {
      "text/plain": [
       "array([0], dtype=int8)"
      ]
     },
     "execution_count": 50,
     "metadata": {},
     "output_type": "execute_result"
    }
   ],
   "source": [
    "# check - here the search is unlucky, so it is necessary to choose another initial estimate\n",
    "log_reg.predict(cand_obs)"
   ]
  },
  {
   "attachments": {},
   "cell_type": "markdown",
   "metadata": {},
   "source": [
    "Beeswarm"
   ]
  },
  {
   "cell_type": "code",
   "execution_count": null,
   "metadata": {},
   "outputs": [],
   "source": [
    "w = [0.7, 0.3, 0.1]  \n",
    "#0.7 - inertia weight, 0.3 the attraction weight for density in the target class, \n",
    "# 0.1 - the repulsion weight for density in the antitarget class\n"
   ]
  },
  {
   "cell_type": "code",
   "execution_count": null,
   "metadata": {},
   "outputs": [],
   "source": [
    "# Define the number of agents and the number of dimensions\n",
    "num_agents = 3\n",
    "num_dimensions = len(op.features_to_use)\n",
    "w = [0.7, 0.2, 0.2, 0.2, -0.1, -0.1, -0.1]\n",
    "\n",
    "# Define the number of iterations and the PSO parameters\n",
    "num_iterations = 3\n",
    "inertia_weight = 0.7\n",
    "cognitive_weight = 0.2\n",
    "social_weight = 0.1"
   ]
  },
  {
   "cell_type": "code",
   "execution_count": null,
   "metadata": {},
   "outputs": [
    {
     "data": {
      "text/html": [
       "<div>\n",
       "<style scoped>\n",
       "    .dataframe tbody tr th:only-of-type {\n",
       "        vertical-align: middle;\n",
       "    }\n",
       "\n",
       "    .dataframe tbody tr th {\n",
       "        vertical-align: top;\n",
       "    }\n",
       "\n",
       "    .dataframe thead th {\n",
       "        text-align: right;\n",
       "    }\n",
       "</style>\n",
       "<table border=\"1\" class=\"dataframe\">\n",
       "  <thead>\n",
       "    <tr style=\"text-align: right;\">\n",
       "      <th></th>\n",
       "      <th>Current Loan Amount</th>\n",
       "      <th>Term</th>\n",
       "      <th>Credit Score</th>\n",
       "      <th>Annual Income</th>\n",
       "      <th>Years in current job</th>\n",
       "      <th>Home Ownership</th>\n",
       "      <th>Purpose</th>\n",
       "      <th>Monthly Debt</th>\n",
       "      <th>Years of Credit History</th>\n",
       "      <th>Number of Open Accounts</th>\n",
       "      <th>Number of Credit Problems</th>\n",
       "      <th>Current Credit Balance</th>\n",
       "      <th>Maximum Open Credit</th>\n",
       "      <th>Bankruptcies</th>\n",
       "      <th>Tax Liens</th>\n",
       "    </tr>\n",
       "  </thead>\n",
       "  <tbody>\n",
       "    <tr>\n",
       "      <th>52872</th>\n",
       "      <td>-0.3893</td>\n",
       "      <td>-1.6669</td>\n",
       "      <td>4.0973</td>\n",
       "      <td>-0.1561</td>\n",
       "      <td>-0.4346</td>\n",
       "      <td>-0.9774</td>\n",
       "      <td>2.3183</td>\n",
       "      <td>-0.6404</td>\n",
       "      <td>-0.6750</td>\n",
       "      <td>-0.8248</td>\n",
       "      <td>-0.3451</td>\n",
       "      <td>0.6163</td>\n",
       "      <td>0.0261</td>\n",
       "      <td>-0.3324</td>\n",
       "      <td>-0.1121</td>\n",
       "    </tr>\n",
       "  </tbody>\n",
       "</table>\n",
       "</div>"
      ],
      "text/plain": [
       "       Current Loan Amount    Term  Credit Score  Annual Income  \\\n",
       "52872              -0.3893 -1.6669        4.0973        -0.1561   \n",
       "\n",
       "       Years in current job  Home Ownership  Purpose  Monthly Debt  \\\n",
       "52872               -0.4346         -0.9774   2.3183       -0.6404   \n",
       "\n",
       "       Years of Credit History  Number of Open Accounts  \\\n",
       "52872                  -0.6750                  -0.8248   \n",
       "\n",
       "       Number of Credit Problems  Current Credit Balance  Maximum Open Credit  \\\n",
       "52872                    -0.3451                  0.6163               0.0261   \n",
       "\n",
       "       Bankruptcies  Tax Liens  \n",
       "52872       -0.3324    -0.1121  "
      ]
     },
     "execution_count": 54,
     "metadata": {},
     "output_type": "execute_result"
    }
   ],
   "source": [
    "obs_st"
   ]
  },
  {
   "cell_type": "code",
   "execution_count": null,
   "metadata": {},
   "outputs": [
    {
     "data": {
      "text/plain": [
       "[0.011205170114408247, 9.530780792236328]"
      ]
     },
     "execution_count": 55,
     "metadata": {},
     "output_type": "execute_result"
    }
   ],
   "source": [
    "op.thresholds"
   ]
  },
  {
   "cell_type": "code",
   "execution_count": null,
   "metadata": {},
   "outputs": [
    {
     "name": "stdout",
     "output_type": "stream",
     "text": [
      "ITERATION   0\n",
      "best [-7.16630904  2.67174287]\n",
      "__________________________________________\n",
      "ITERATION   1\n",
      "best [-7.16630904  2.67174287]\n",
      "__________________________________________\n",
      "ITERATION   2\n",
      "best [-7.16630904  2.67174287]\n",
      "__________________________________________\n",
      "ITERATION   3\n",
      "best [-7.16630904  2.67174287]\n",
      "__________________________________________\n",
      "ITERATION   4\n",
      "best [-1.85790119 -1.85790119]\n",
      "__________________________________________\n"
     ]
    }
   ],
   "source": [
    "#best_obs, best_dist, glob_dist, pos = \n",
    "cfs, dist = op.beeswarm(obs_st, op.features_to_use, op.thresholds, w)"
   ]
  },
  {
   "cell_type": "code",
   "execution_count": null,
   "metadata": {},
   "outputs": [
    {
     "data": {
      "text/plain": [
       "5.210748992959686"
      ]
     },
     "execution_count": 57,
     "metadata": {},
     "output_type": "execute_result"
    }
   ],
   "source": [
    "dist"
   ]
  },
  {
   "cell_type": "code",
   "execution_count": null,
   "metadata": {},
   "outputs": [
    {
     "data": {
      "text/html": [
       "<div>\n",
       "<style scoped>\n",
       "    .dataframe tbody tr th:only-of-type {\n",
       "        vertical-align: middle;\n",
       "    }\n",
       "\n",
       "    .dataframe tbody tr th {\n",
       "        vertical-align: top;\n",
       "    }\n",
       "\n",
       "    .dataframe thead th {\n",
       "        text-align: right;\n",
       "    }\n",
       "</style>\n",
       "<table border=\"1\" class=\"dataframe\">\n",
       "  <thead>\n",
       "    <tr style=\"text-align: right;\">\n",
       "      <th></th>\n",
       "      <th>Current Loan Amount</th>\n",
       "      <th>Term</th>\n",
       "      <th>Credit Score</th>\n",
       "      <th>Annual Income</th>\n",
       "      <th>Years in current job</th>\n",
       "      <th>Home Ownership</th>\n",
       "      <th>Purpose</th>\n",
       "      <th>Monthly Debt</th>\n",
       "      <th>Years of Credit History</th>\n",
       "      <th>Number of Open Accounts</th>\n",
       "      <th>Number of Credit Problems</th>\n",
       "      <th>Current Credit Balance</th>\n",
       "      <th>Maximum Open Credit</th>\n",
       "      <th>Bankruptcies</th>\n",
       "      <th>Tax Liens</th>\n",
       "    </tr>\n",
       "  </thead>\n",
       "  <tbody>\n",
       "    <tr>\n",
       "      <th>52872</th>\n",
       "      <td>-0.3893</td>\n",
       "      <td>-1.6669</td>\n",
       "      <td>-1.8579</td>\n",
       "      <td>-0.1561</td>\n",
       "      <td>-0.4346</td>\n",
       "      <td>-0.9774</td>\n",
       "      <td>2.3183</td>\n",
       "      <td>-0.6404</td>\n",
       "      <td>-0.6750</td>\n",
       "      <td>-0.8248</td>\n",
       "      <td>-0.3451</td>\n",
       "      <td>0.6163</td>\n",
       "      <td>0.0261</td>\n",
       "      <td>-1.8579</td>\n",
       "      <td>-0.1121</td>\n",
       "    </tr>\n",
       "  </tbody>\n",
       "</table>\n",
       "</div>"
      ],
      "text/plain": [
       "       Current Loan Amount    Term  Credit Score  Annual Income  \\\n",
       "52872              -0.3893 -1.6669       -1.8579        -0.1561   \n",
       "\n",
       "       Years in current job  Home Ownership  Purpose  Monthly Debt  \\\n",
       "52872               -0.4346         -0.9774   2.3183       -0.6404   \n",
       "\n",
       "       Years of Credit History  Number of Open Accounts  \\\n",
       "52872                  -0.6750                  -0.8248   \n",
       "\n",
       "       Number of Credit Problems  Current Credit Balance  Maximum Open Credit  \\\n",
       "52872                    -0.3451                  0.6163               0.0261   \n",
       "\n",
       "       Bankruptcies  Tax Liens  \n",
       "52872       -1.8579    -0.1121  "
      ]
     },
     "execution_count": 58,
     "metadata": {},
     "output_type": "execute_result"
    }
   ],
   "source": [
    "cfs"
   ]
  },
  {
   "cell_type": "code",
   "execution_count": null,
   "metadata": {},
   "outputs": [
    {
     "data": {
      "text/plain": [
       "array([1], dtype=int8)"
      ]
     },
     "execution_count": 59,
     "metadata": {},
     "output_type": "execute_result"
    }
   ],
   "source": [
    "log_reg.predict(cfs)"
   ]
  },
  {
   "cell_type": "code",
   "execution_count": null,
   "metadata": {},
   "outputs": [
    {
     "name": "stderr",
     "output_type": "stream",
     "text": [
      "UsageError: %%time is a cell magic, but the cell body is empty. Did you mean the line magic %time (single %)?\n"
     ]
    }
   ],
   "source": [
    "%%time\n"
   ]
  },
  {
   "cell_type": "code",
   "execution_count": null,
   "metadata": {},
   "outputs": [],
   "source": []
  },
  {
   "attachments": {},
   "cell_type": "markdown",
   "metadata": {},
   "source": [
    "DISTANCE"
   ]
  },
  {
   "cell_type": "code",
   "execution_count": null,
   "metadata": {},
   "outputs": [],
   "source": [
    "\n",
    "a = obs_st.copy().reset_index(drop = True)\n",
    "\n",
    "\n"
   ]
  },
  {
   "cell_type": "code",
   "execution_count": null,
   "metadata": {},
   "outputs": [],
   "source": [
    "dist_obs = euclidean_distances(obs_st, a)"
   ]
  },
  {
   "cell_type": "code",
   "execution_count": null,
   "metadata": {},
   "outputs": [],
   "source": [
    "nbrs = NearestNeighbors(n_neighbors=5, algorithm='ball_tree').fit(X_st)\n"
   ]
  },
  {
   "cell_type": "code",
   "execution_count": null,
   "metadata": {},
   "outputs": [],
   "source": [
    "radius = nbrs.kneighbors(a, return_distance = True)[0][0]\n",
    "centers = nbrs.kneighbors(a, return_distance = True)[1][0]"
   ]
  },
  {
   "cell_type": "code",
   "execution_count": null,
   "metadata": {},
   "outputs": [
    {
     "data": {
      "text/plain": [
       "array([1.76554572, 1.84949056, 2.05334973, 2.18717947, 2.2352472 ])"
      ]
     },
     "execution_count": 151,
     "metadata": {},
     "output_type": "execute_result"
    }
   ],
   "source": [
    "radius"
   ]
  },
  {
   "cell_type": "code",
   "execution_count": null,
   "metadata": {},
   "outputs": [
    {
     "data": {
      "text/plain": [
       "[658, 1622, 1907, 1217, 583]"
      ]
     },
     "execution_count": 156,
     "metadata": {},
     "output_type": "execute_result"
    }
   ],
   "source": [
    "centers.tolist()"
   ]
  },
  {
   "cell_type": "code",
   "execution_count": null,
   "metadata": {},
   "outputs": [
    {
     "data": {
      "text/html": [
       "<div>\n",
       "<style scoped>\n",
       "    .dataframe tbody tr th:only-of-type {\n",
       "        vertical-align: middle;\n",
       "    }\n",
       "\n",
       "    .dataframe tbody tr th {\n",
       "        vertical-align: top;\n",
       "    }\n",
       "\n",
       "    .dataframe thead th {\n",
       "        text-align: right;\n",
       "    }\n",
       "</style>\n",
       "<table border=\"1\" class=\"dataframe\">\n",
       "  <thead>\n",
       "    <tr style=\"text-align: right;\">\n",
       "      <th></th>\n",
       "      <th>Current Loan Amount</th>\n",
       "      <th>Term</th>\n",
       "      <th>Credit Score</th>\n",
       "      <th>Annual Income</th>\n",
       "      <th>Years in current job</th>\n",
       "      <th>Home Ownership</th>\n",
       "      <th>Purpose</th>\n",
       "      <th>Monthly Debt</th>\n",
       "      <th>Years of Credit History</th>\n",
       "      <th>Number of Open Accounts</th>\n",
       "      <th>Number of Credit Problems</th>\n",
       "      <th>Current Credit Balance</th>\n",
       "      <th>Maximum Open Credit</th>\n",
       "      <th>Bankruptcies</th>\n",
       "      <th>Tax Liens</th>\n",
       "    </tr>\n",
       "  </thead>\n",
       "  <tbody>\n",
       "    <tr>\n",
       "      <th>43530</th>\n",
       "      <td>-0.38</td>\n",
       "      <td>-1.67</td>\n",
       "      <td>-0.34</td>\n",
       "      <td>-0.46</td>\n",
       "      <td>-1.50</td>\n",
       "      <td>-0.98</td>\n",
       "      <td>3.21</td>\n",
       "      <td>-0.02</td>\n",
       "      <td>-0.36</td>\n",
       "      <td>-0.22</td>\n",
       "      <td>-0.35</td>\n",
       "      <td>0.99</td>\n",
       "      <td>0.03</td>\n",
       "      <td>-0.33</td>\n",
       "      <td>-0.11</td>\n",
       "    </tr>\n",
       "    <tr>\n",
       "      <th>6594</th>\n",
       "      <td>-0.39</td>\n",
       "      <td>-1.67</td>\n",
       "      <td>-0.28</td>\n",
       "      <td>-0.95</td>\n",
       "      <td>-0.70</td>\n",
       "      <td>0.07</td>\n",
       "      <td>1.43</td>\n",
       "      <td>-0.78</td>\n",
       "      <td>0.08</td>\n",
       "      <td>-1.22</td>\n",
       "      <td>-0.35</td>\n",
       "      <td>0.57</td>\n",
       "      <td>0.03</td>\n",
       "      <td>-0.33</td>\n",
       "      <td>-0.11</td>\n",
       "    </tr>\n",
       "    <tr>\n",
       "      <th>65072</th>\n",
       "      <td>-0.39</td>\n",
       "      <td>-1.67</td>\n",
       "      <td>-0.29</td>\n",
       "      <td>1.07</td>\n",
       "      <td>-0.70</td>\n",
       "      <td>-0.98</td>\n",
       "      <td>3.21</td>\n",
       "      <td>0.01</td>\n",
       "      <td>-0.75</td>\n",
       "      <td>-0.22</td>\n",
       "      <td>-0.35</td>\n",
       "      <td>-0.37</td>\n",
       "      <td>0.02</td>\n",
       "      <td>-0.33</td>\n",
       "      <td>-0.11</td>\n",
       "    </tr>\n",
       "    <tr>\n",
       "      <th>13001</th>\n",
       "      <td>-0.38</td>\n",
       "      <td>-1.67</td>\n",
       "      <td>0.00</td>\n",
       "      <td>0.00</td>\n",
       "      <td>-1.50</td>\n",
       "      <td>-0.98</td>\n",
       "      <td>0.98</td>\n",
       "      <td>-0.35</td>\n",
       "      <td>-0.15</td>\n",
       "      <td>0.38</td>\n",
       "      <td>-0.35</td>\n",
       "      <td>0.80</td>\n",
       "      <td>0.03</td>\n",
       "      <td>-0.33</td>\n",
       "      <td>-0.11</td>\n",
       "    </tr>\n",
       "    <tr>\n",
       "      <th>26847</th>\n",
       "      <td>-0.38</td>\n",
       "      <td>-1.67</td>\n",
       "      <td>-0.28</td>\n",
       "      <td>0.55</td>\n",
       "      <td>0.10</td>\n",
       "      <td>-0.98</td>\n",
       "      <td>0.54</td>\n",
       "      <td>-0.85</td>\n",
       "      <td>-0.19</td>\n",
       "      <td>-0.22</td>\n",
       "      <td>-0.35</td>\n",
       "      <td>0.04</td>\n",
       "      <td>0.03</td>\n",
       "      <td>-0.33</td>\n",
       "      <td>-0.11</td>\n",
       "    </tr>\n",
       "  </tbody>\n",
       "</table>\n",
       "</div>"
      ],
      "text/plain": [
       "       Current Loan Amount  Term  Credit Score  Annual Income  \\\n",
       "43530                -0.38 -1.67         -0.34          -0.46   \n",
       "6594                 -0.39 -1.67         -0.28          -0.95   \n",
       "65072                -0.39 -1.67         -0.29           1.07   \n",
       "13001                -0.38 -1.67          0.00           0.00   \n",
       "26847                -0.38 -1.67         -0.28           0.55   \n",
       "\n",
       "       Years in current job  Home Ownership  Purpose  Monthly Debt  \\\n",
       "43530                 -1.50           -0.98     3.21         -0.02   \n",
       "6594                  -0.70            0.07     1.43         -0.78   \n",
       "65072                 -0.70           -0.98     3.21          0.01   \n",
       "13001                 -1.50           -0.98     0.98         -0.35   \n",
       "26847                  0.10           -0.98     0.54         -0.85   \n",
       "\n",
       "       Years of Credit History  Number of Open Accounts  \\\n",
       "43530                    -0.36                    -0.22   \n",
       "6594                      0.08                    -1.22   \n",
       "65072                    -0.75                    -0.22   \n",
       "13001                    -0.15                     0.38   \n",
       "26847                    -0.19                    -0.22   \n",
       "\n",
       "       Number of Credit Problems  Current Credit Balance  Maximum Open Credit  \\\n",
       "43530                      -0.35                    0.99                 0.03   \n",
       "6594                       -0.35                    0.57                 0.03   \n",
       "65072                      -0.35                   -0.37                 0.02   \n",
       "13001                      -0.35                    0.80                 0.03   \n",
       "26847                      -0.35                    0.04                 0.03   \n",
       "\n",
       "       Bankruptcies  Tax Liens  \n",
       "43530         -0.33      -0.11  \n",
       "6594          -0.33      -0.11  \n",
       "65072         -0.33      -0.11  \n",
       "13001         -0.33      -0.11  \n",
       "26847         -0.33      -0.11  "
      ]
     },
     "execution_count": 164,
     "metadata": {},
     "output_type": "execute_result"
    }
   ],
   "source": [
    "X_st.iloc[centers]"
   ]
  },
  {
   "cell_type": "code",
   "execution_count": null,
   "metadata": {},
   "outputs": [
    {
     "data": {
      "text/html": [
       "<div>\n",
       "<style scoped>\n",
       "    .dataframe tbody tr th:only-of-type {\n",
       "        vertical-align: middle;\n",
       "    }\n",
       "\n",
       "    .dataframe tbody tr th {\n",
       "        vertical-align: top;\n",
       "    }\n",
       "\n",
       "    .dataframe thead th {\n",
       "        text-align: right;\n",
       "    }\n",
       "</style>\n",
       "<table border=\"1\" class=\"dataframe\">\n",
       "  <thead>\n",
       "    <tr style=\"text-align: right;\">\n",
       "      <th></th>\n",
       "      <th>Current Loan Amount</th>\n",
       "      <th>Term</th>\n",
       "      <th>Credit Score</th>\n",
       "      <th>Annual Income</th>\n",
       "      <th>Years in current job</th>\n",
       "      <th>Home Ownership</th>\n",
       "      <th>Purpose</th>\n",
       "      <th>Monthly Debt</th>\n",
       "      <th>Years of Credit History</th>\n",
       "      <th>Number of Open Accounts</th>\n",
       "      <th>Number of Credit Problems</th>\n",
       "      <th>Current Credit Balance</th>\n",
       "      <th>Maximum Open Credit</th>\n",
       "      <th>Bankruptcies</th>\n",
       "      <th>Tax Liens</th>\n",
       "    </tr>\n",
       "  </thead>\n",
       "  <tbody>\n",
       "    <tr>\n",
       "      <th>0</th>\n",
       "      <td>-0.3893</td>\n",
       "      <td>-1.6669</td>\n",
       "      <td>4.0973</td>\n",
       "      <td>-0.1561</td>\n",
       "      <td>-0.4346</td>\n",
       "      <td>-0.9774</td>\n",
       "      <td>2.3183</td>\n",
       "      <td>-0.6404</td>\n",
       "      <td>-0.6750</td>\n",
       "      <td>-0.8248</td>\n",
       "      <td>-0.3451</td>\n",
       "      <td>0.6163</td>\n",
       "      <td>0.0261</td>\n",
       "      <td>-0.3324</td>\n",
       "      <td>-0.1121</td>\n",
       "    </tr>\n",
       "  </tbody>\n",
       "</table>\n",
       "</div>"
      ],
      "text/plain": [
       "   Current Loan Amount    Term  Credit Score  Annual Income  \\\n",
       "0              -0.3893 -1.6669        4.0973        -0.1561   \n",
       "\n",
       "   Years in current job  Home Ownership  Purpose  Monthly Debt  \\\n",
       "0               -0.4346         -0.9774   2.3183       -0.6404   \n",
       "\n",
       "   Years of Credit History  Number of Open Accounts  \\\n",
       "0                  -0.6750                  -0.8248   \n",
       "\n",
       "   Number of Credit Problems  Current Credit Balance  Maximum Open Credit  \\\n",
       "0                    -0.3451                  0.6163               0.0261   \n",
       "\n",
       "   Bankruptcies  Tax Liens  \n",
       "0       -0.3324    -0.1121  "
      ]
     },
     "execution_count": 98,
     "metadata": {},
     "output_type": "execute_result"
    }
   ],
   "source": [
    "a"
   ]
  },
  {
   "cell_type": "code",
   "execution_count": null,
   "metadata": {},
   "outputs": [],
   "source": [
    "dist_set = euclidean_distances(a, X_st.iloc[centers])"
   ]
  },
  {
   "attachments": {},
   "cell_type": "markdown",
   "metadata": {},
   "source": [
    "DICE\n",
    "\n",
    "Compare with Dice"
   ]
  },
  {
   "cell_type": "code",
   "execution_count": null,
   "metadata": {},
   "outputs": [
    {
     "data": {
      "text/plain": [
       "(2000, 15)"
      ]
     },
     "execution_count": 84,
     "metadata": {},
     "output_type": "execute_result"
    }
   ],
   "source": [
    "dice_df = X_st.copy()\n",
    "dice_df.shape"
   ]
  },
  {
   "cell_type": "code",
   "execution_count": null,
   "metadata": {},
   "outputs": [],
   "source": [
    "continuous_features = ['Current Loan Amount', 'Term', 'Credit Score',\n",
    "       'Annual Income', 'Years in current job', 'Home Ownership', 'Purpose',\n",
    "       'Monthly Debt', 'Years of Credit History', 'Number of Open Accounts',\n",
    "       'Number of Credit Problems', 'Current Credit Balance',\n",
    "       'Maximum Open Credit', 'Bankruptcies', 'Tax Liens']"
   ]
  },
  {
   "cell_type": "code",
   "execution_count": null,
   "metadata": {},
   "outputs": [
    {
     "data": {
      "text/plain": [
       "0        1\n",
       "1        1\n",
       "2        1\n",
       "3        1\n",
       "4        1\n",
       "        ..\n",
       "99994    1\n",
       "99996    1\n",
       "99997    1\n",
       "99998    1\n",
       "99999    1\n",
       "Name: Loan Status, Length: 89785, dtype: int8"
      ]
     },
     "execution_count": 71,
     "metadata": {},
     "output_type": "execute_result"
    }
   ],
   "source": [
    "y = df[\"Loan Status\"]\n",
    "y"
   ]
  },
  {
   "cell_type": "code",
   "execution_count": null,
   "metadata": {},
   "outputs": [],
   "source": [
    "import dice_ml\n",
    "\n",
    "from dice_ml.utils import helpers # helper functions \n",
    "\n",
    " #Change only the features to change \n",
    "config_dice = {\"features_to_change\": ['Credit Score', 'Bankruptcies'],\n",
    "             \"n_counerfactuals\": 1,  \n",
    "             \"target\": 'Loan Status'}\n",
    "m = dice_ml.Model(model=log_reg, backend='sklearn')\n",
    "d = dice_ml.Data(dataframe=pd.concat([dice_df,y], axis = 1), continuous_features=list(numeric_cols), outcome_name='Loan Status', m = m)\n",
    "exp = dice_ml.Dice(d, m, method='random') "
   ]
  },
  {
   "cell_type": "code",
   "execution_count": null,
   "metadata": {},
   "outputs": [],
   "source": [
    "import time\n",
    "# Start time\n",
    "start_time = time.time()\n",
    "e = exp.generate_counterfactuals(dice_df, total_CFs=1, desired_class=\"opposite\", features_to_vary=config_dice[\"features_to_change\"])\n",
    "\n",
    "# End time\n",
    "end_time = time.time()\n",
    "# Elapsed time\n",
    "elapsed_time_dice = end_time - start_time\n",
    "print(\"Time taken:\", elapsed_time_dice, \"seconds\")\n"
   ]
  },
  {
   "cell_type": "code",
   "execution_count": null,
   "metadata": {},
   "outputs": [
    {
     "name": "stderr",
     "output_type": "stream",
     "text": [
      "100%|██████████| 1/1 [00:00<00:00,  1.76it/s]\n"
     ]
    }
   ],
   "source": [
    "e = exp.generate_counterfactuals(obs_st, total_CFs=1, desired_class=\"opposite\", features_to_vary=config_dice[\"features_to_change\"])\n"
   ]
  },
  {
   "cell_type": "code",
   "execution_count": null,
   "metadata": {},
   "outputs": [],
   "source": [
    "cf = e.cf_examples_list[0].final_cfs_df"
   ]
  },
  {
   "cell_type": "code",
   "execution_count": null,
   "metadata": {},
   "outputs": [
    {
     "data": {
      "text/html": [
       "<div>\n",
       "<style scoped>\n",
       "    .dataframe tbody tr th:only-of-type {\n",
       "        vertical-align: middle;\n",
       "    }\n",
       "\n",
       "    .dataframe tbody tr th {\n",
       "        vertical-align: top;\n",
       "    }\n",
       "\n",
       "    .dataframe thead th {\n",
       "        text-align: right;\n",
       "    }\n",
       "</style>\n",
       "<table border=\"1\" class=\"dataframe\">\n",
       "  <thead>\n",
       "    <tr style=\"text-align: right;\">\n",
       "      <th></th>\n",
       "      <th>Current Loan Amount</th>\n",
       "      <th>Term</th>\n",
       "      <th>Credit Score</th>\n",
       "      <th>Annual Income</th>\n",
       "      <th>Years in current job</th>\n",
       "      <th>Home Ownership</th>\n",
       "      <th>Purpose</th>\n",
       "      <th>Monthly Debt</th>\n",
       "      <th>Years of Credit History</th>\n",
       "      <th>Number of Open Accounts</th>\n",
       "      <th>Number of Credit Problems</th>\n",
       "      <th>Current Credit Balance</th>\n",
       "      <th>Maximum Open Credit</th>\n",
       "      <th>Bankruptcies</th>\n",
       "      <th>Tax Liens</th>\n",
       "      <th>Loan Status</th>\n",
       "    </tr>\n",
       "  </thead>\n",
       "  <tbody>\n",
       "    <tr>\n",
       "      <th>0</th>\n",
       "      <td>-0.3893</td>\n",
       "      <td>-1.6669</td>\n",
       "      <td>-0.0000</td>\n",
       "      <td>-0.1561</td>\n",
       "      <td>-0.4346</td>\n",
       "      <td>-0.9774</td>\n",
       "      <td>2.3183</td>\n",
       "      <td>-0.6404</td>\n",
       "      <td>-0.6750</td>\n",
       "      <td>-0.8248</td>\n",
       "      <td>-0.3451</td>\n",
       "      <td>0.6163</td>\n",
       "      <td>0.0261</td>\n",
       "      <td>1.1709</td>\n",
       "      <td>-0.1121</td>\n",
       "      <td>1</td>\n",
       "    </tr>\n",
       "  </tbody>\n",
       "</table>\n",
       "</div>"
      ],
      "text/plain": [
       "   Current Loan Amount    Term  Credit Score  Annual Income  \\\n",
       "0              -0.3893 -1.6669       -0.0000        -0.1561   \n",
       "\n",
       "   Years in current job  Home Ownership  Purpose  Monthly Debt  \\\n",
       "0               -0.4346         -0.9774   2.3183       -0.6404   \n",
       "\n",
       "   Years of Credit History  Number of Open Accounts  \\\n",
       "0                  -0.6750                  -0.8248   \n",
       "\n",
       "   Number of Credit Problems  Current Credit Balance  Maximum Open Credit  \\\n",
       "0                    -0.3451                  0.6163               0.0261   \n",
       "\n",
       "   Bankruptcies  Tax Liens  Loan Status  \n",
       "0        1.1709    -0.1121            1  "
      ]
     },
     "execution_count": 97,
     "metadata": {},
     "output_type": "execute_result"
    }
   ],
   "source": [
    "cf"
   ]
  },
  {
   "cell_type": "code",
   "execution_count": null,
   "metadata": {},
   "outputs": [],
   "source": [
    "X_st = StandardScaler().fit_transform(X)\n"
   ]
  },
  {
   "cell_type": "code",
   "execution_count": null,
   "metadata": {},
   "outputs": [],
   "source": []
  },
  {
   "cell_type": "code",
   "execution_count": null,
   "metadata": {},
   "outputs": [
    {
     "data": {
      "text/plain": [
       "Index(['Current Loan Amount', 'Credit Score', 'Annual Income',\n",
       "       'Years in current job', 'Monthly Debt', 'Years of Credit History',\n",
       "       'Number of Open Accounts', 'Number of Credit Problems',\n",
       "       'Current Credit Balance', 'Maximum Open Credit', 'Bankruptcies',\n",
       "       'Tax Liens'],\n",
       "      dtype='object')"
      ]
     },
     "execution_count": 63,
     "metadata": {},
     "output_type": "execute_result"
    }
   ],
   "source": [
    "cf_st_dice = StandardScaler().transform(cf)\n",
    "\n",
    "\n",
    "dist_dice = euclidean_distances(obs_st, cf_st_dice)\n",
    "dist_dice"
   ]
  }
 ],
 "metadata": {
  "kernelspec": {
   "display_name": "Python 3",
   "language": "python",
   "name": "python3"
  },
  "language_info": {
   "codemirror_mode": {
    "name": "ipython",
    "version": 3
   },
   "file_extension": ".py",
   "mimetype": "text/x-python",
   "name": "python",
   "nbconvert_exporter": "python",
   "pygments_lexer": "ipython3",
   "version": "3.10.10"
  },
  "orig_nbformat": 4,
  "vscode": {
   "interpreter": {
    "hash": "3196968d684371006099b3d55edeef8ed90365227a30deaef86e5d4aa8519be0"
   }
  }
 },
 "nbformat": 4,
 "nbformat_minor": 2
}
