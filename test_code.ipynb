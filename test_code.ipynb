{
 "cells": [
  {
   "cell_type": "code",
   "execution_count": 3,
   "metadata": {},
   "outputs": [],
   "source": [
    "import numpy as np\n",
    "import pandas as pd\n",
    "import matplotlib.pyplot as plt\n",
    "import seaborn as sns\n",
    "from sklearn.model_selection import train_test_split\n",
    "from sklearn.linear_model import LogisticRegression, LinearRegression\n",
    "from IPython.display import Markdown, display\n",
    "from sklearn.metrics import accuracy_score, confusion_matrix, classification_report\n",
    "from sklearn.model_selection import cross_val_score\n",
    "from sklearn.tree import DecisionTreeClassifier \n",
    "from sklearn.ensemble import RandomForestClassifier, AdaBoostClassifier, GradientBoostingClassifier\n",
    "from sklearn.neighbors import KNeighborsClassifier, NearestNeighbors\n",
    "from sklearn.preprocessing import label_binarize, StandardScaler\n",
    "from scipy.stats import norm\n",
    "from sklearn.metrics.pairwise import euclidean_distances\n",
    "from sklearn.cluster import KMeans, DBSCAN\n",
    "import warnings \n",
    "warnings.filterwarnings('ignore')\n",
    "\n",
    "\n",
    "def printmd(string):\n",
    "    display(Markdown(string))\n",
    "\n",
    "pd.options.display.float_format = '{:.4f}'.format\n"
   ]
  },
  {
   "cell_type": "code",
   "execution_count": 4,
   "metadata": {},
   "outputs": [],
   "source": [
    "from FCG.Optika import Optika\n",
    "    \n"
   ]
  },
  {
   "cell_type": "code",
   "execution_count": 5,
   "metadata": {},
   "outputs": [],
   "source": [
    "df = pd.read_csv(\"credit_train.csv\")\n"
   ]
  },
  {
   "cell_type": "code",
   "execution_count": 6,
   "metadata": {},
   "outputs": [],
   "source": [
    "#Preprocessing data\n",
    "\n",
    "df[\"Loan Status\"].map({\"Fully Paid\": 1, \"Charged Off\": 0})\n",
    "df.drop_duplicates(inplace=True)\n",
    "na = df[df['Loan ID'].isnull()].index.tolist()\n",
    "df.drop(na, inplace=True)\n",
    "df = df.drop(['Months since last delinquent'], axis=1)\n",
    "df.dropna(thresh=13, inplace=True)\n",
    "mapping_dict = {\n",
    "    \"Years in current job\": {\n",
    "        \"10+ years\": 10,\n",
    "        \"9 years\": 9,\n",
    "        \"8 years\": 8,\n",
    "        \"7 years\": 7,\n",
    "        \"6 years\": 6,\n",
    "        \"5 years\": 5,\n",
    "        \"4 years\": 4,\n",
    "        \"3 years\": 3,\n",
    "        \"2 years\": 2,\n",
    "        \"1 year\": 1,\n",
    "        \"< 1 year\": 0\n",
    "    }\n",
    "}\n",
    "\n",
    "df.replace(mapping_dict, inplace=True)\n",
    "df[\"Years in current job\"].fillna(0, inplace=True)"
   ]
  },
  {
   "cell_type": "code",
   "execution_count": 7,
   "metadata": {},
   "outputs": [],
   "source": [
    "#Splitting the columns to numerical and category\n",
    "category_cols = df.select_dtypes(include=['object']).columns # DOOBI: typo - category_cols\n",
    "for col in category_cols:\n",
    "    df[col] = df[col].astype('category')\n",
    "    df[col].fillna(df[col].mode()[0], inplace=True)\n",
    "    df[col] = df[col].cat.codes \n",
    "numeric_cols = df.select_dtypes(include=['int64','float64']).columns \n",
    "for col in numeric_cols:\n",
    "    df[col].fillna(df[col].mean(), inplace=True)\n",
    "info_cols = ['Loan ID', 'Customer ID']"
   ]
  },
  {
   "cell_type": "code",
   "execution_count": 8,
   "metadata": {},
   "outputs": [
    {
     "data": {
      "text/html": [
       "<div>\n",
       "<style scoped>\n",
       "    .dataframe tbody tr th:only-of-type {\n",
       "        vertical-align: middle;\n",
       "    }\n",
       "\n",
       "    .dataframe tbody tr th {\n",
       "        vertical-align: top;\n",
       "    }\n",
       "\n",
       "    .dataframe thead th {\n",
       "        text-align: right;\n",
       "    }\n",
       "</style>\n",
       "<table border=\"1\" class=\"dataframe\">\n",
       "  <thead>\n",
       "    <tr style=\"text-align: right;\">\n",
       "      <th></th>\n",
       "      <th>Loan ID</th>\n",
       "      <th>Customer ID</th>\n",
       "      <th>Loan Status</th>\n",
       "      <th>Current Loan Amount</th>\n",
       "      <th>Term</th>\n",
       "      <th>Credit Score</th>\n",
       "      <th>Annual Income</th>\n",
       "      <th>Years in current job</th>\n",
       "      <th>Home Ownership</th>\n",
       "      <th>Purpose</th>\n",
       "      <th>Monthly Debt</th>\n",
       "      <th>Years of Credit History</th>\n",
       "      <th>Number of Open Accounts</th>\n",
       "      <th>Number of Credit Problems</th>\n",
       "      <th>Current Credit Balance</th>\n",
       "      <th>Maximum Open Credit</th>\n",
       "      <th>Bankruptcies</th>\n",
       "      <th>Tax Liens</th>\n",
       "    </tr>\n",
       "  </thead>\n",
       "  <tbody>\n",
       "    <tr>\n",
       "      <th>0</th>\n",
       "      <td>6697</td>\n",
       "      <td>48724</td>\n",
       "      <td>1</td>\n",
       "      <td>445412.0000</td>\n",
       "      <td>1</td>\n",
       "      <td>709.0000</td>\n",
       "      <td>1167493.0000</td>\n",
       "      <td>8.0000</td>\n",
       "      <td>1</td>\n",
       "      <td>5</td>\n",
       "      <td>5214.7400</td>\n",
       "      <td>17.2000</td>\n",
       "      <td>6.0000</td>\n",
       "      <td>1.0000</td>\n",
       "      <td>228190.0000</td>\n",
       "      <td>416746.0000</td>\n",
       "      <td>1.0000</td>\n",
       "      <td>0.0000</td>\n",
       "    </tr>\n",
       "    <tr>\n",
       "      <th>1</th>\n",
       "      <td>23041</td>\n",
       "      <td>14688</td>\n",
       "      <td>1</td>\n",
       "      <td>262328.0000</td>\n",
       "      <td>1</td>\n",
       "      <td>1130.8306</td>\n",
       "      <td>1375894.3877</td>\n",
       "      <td>10.0000</td>\n",
       "      <td>1</td>\n",
       "      <td>3</td>\n",
       "      <td>33295.9800</td>\n",
       "      <td>21.1000</td>\n",
       "      <td>35.0000</td>\n",
       "      <td>0.0000</td>\n",
       "      <td>229976.0000</td>\n",
       "      <td>850784.0000</td>\n",
       "      <td>0.0000</td>\n",
       "      <td>0.0000</td>\n",
       "    </tr>\n",
       "    <tr>\n",
       "      <th>2</th>\n",
       "      <td>25441</td>\n",
       "      <td>30541</td>\n",
       "      <td>1</td>\n",
       "      <td>99999999.0000</td>\n",
       "      <td>1</td>\n",
       "      <td>741.0000</td>\n",
       "      <td>2231892.0000</td>\n",
       "      <td>8.0000</td>\n",
       "      <td>2</td>\n",
       "      <td>3</td>\n",
       "      <td>29200.5300</td>\n",
       "      <td>14.9000</td>\n",
       "      <td>18.0000</td>\n",
       "      <td>1.0000</td>\n",
       "      <td>297996.0000</td>\n",
       "      <td>750090.0000</td>\n",
       "      <td>0.0000</td>\n",
       "      <td>0.0000</td>\n",
       "    </tr>\n",
       "    <tr>\n",
       "      <th>3</th>\n",
       "      <td>38341</td>\n",
       "      <td>74173</td>\n",
       "      <td>1</td>\n",
       "      <td>347666.0000</td>\n",
       "      <td>0</td>\n",
       "      <td>721.0000</td>\n",
       "      <td>806949.0000</td>\n",
       "      <td>3.0000</td>\n",
       "      <td>2</td>\n",
       "      <td>3</td>\n",
       "      <td>8741.9000</td>\n",
       "      <td>12.0000</td>\n",
       "      <td>9.0000</td>\n",
       "      <td>0.0000</td>\n",
       "      <td>256329.0000</td>\n",
       "      <td>386958.0000</td>\n",
       "      <td>0.0000</td>\n",
       "      <td>0.0000</td>\n",
       "    </tr>\n",
       "    <tr>\n",
       "      <th>4</th>\n",
       "      <td>68058</td>\n",
       "      <td>41470</td>\n",
       "      <td>1</td>\n",
       "      <td>176220.0000</td>\n",
       "      <td>1</td>\n",
       "      <td>1130.8306</td>\n",
       "      <td>1375894.3877</td>\n",
       "      <td>5.0000</td>\n",
       "      <td>3</td>\n",
       "      <td>3</td>\n",
       "      <td>20639.7000</td>\n",
       "      <td>6.1000</td>\n",
       "      <td>15.0000</td>\n",
       "      <td>0.0000</td>\n",
       "      <td>253460.0000</td>\n",
       "      <td>427174.0000</td>\n",
       "      <td>0.0000</td>\n",
       "      <td>0.0000</td>\n",
       "    </tr>\n",
       "  </tbody>\n",
       "</table>\n",
       "</div>"
      ],
      "text/plain": [
       "   Loan ID  Customer ID  Loan Status  Current Loan Amount  Term  Credit Score  \\\n",
       "0     6697        48724            1          445412.0000     1      709.0000   \n",
       "1    23041        14688            1          262328.0000     1     1130.8306   \n",
       "2    25441        30541            1        99999999.0000     1      741.0000   \n",
       "3    38341        74173            1          347666.0000     0      721.0000   \n",
       "4    68058        41470            1          176220.0000     1     1130.8306   \n",
       "\n",
       "   Annual Income  Years in current job  Home Ownership  Purpose  Monthly Debt  \\\n",
       "0   1167493.0000                8.0000               1        5     5214.7400   \n",
       "1   1375894.3877               10.0000               1        3    33295.9800   \n",
       "2   2231892.0000                8.0000               2        3    29200.5300   \n",
       "3    806949.0000                3.0000               2        3     8741.9000   \n",
       "4   1375894.3877                5.0000               3        3    20639.7000   \n",
       "\n",
       "   Years of Credit History  Number of Open Accounts  \\\n",
       "0                  17.2000                   6.0000   \n",
       "1                  21.1000                  35.0000   \n",
       "2                  14.9000                  18.0000   \n",
       "3                  12.0000                   9.0000   \n",
       "4                   6.1000                  15.0000   \n",
       "\n",
       "   Number of Credit Problems  Current Credit Balance  Maximum Open Credit  \\\n",
       "0                     1.0000             228190.0000          416746.0000   \n",
       "1                     0.0000             229976.0000          850784.0000   \n",
       "2                     1.0000             297996.0000          750090.0000   \n",
       "3                     0.0000             256329.0000          386958.0000   \n",
       "4                     0.0000             253460.0000          427174.0000   \n",
       "\n",
       "   Bankruptcies  Tax Liens  \n",
       "0        1.0000     0.0000  \n",
       "1        0.0000     0.0000  \n",
       "2        0.0000     0.0000  \n",
       "3        0.0000     0.0000  \n",
       "4        0.0000     0.0000  "
      ]
     },
     "execution_count": 8,
     "metadata": {},
     "output_type": "execute_result"
    }
   ],
   "source": [
    "df.head()"
   ]
  },
  {
   "cell_type": "code",
   "execution_count": 9,
   "metadata": {},
   "outputs": [],
   "source": [
    "X = df.drop(\"Loan Status\", axis=1).drop(info_cols, axis = 1)\n",
    "y = df[\"Loan Status\"]\n",
    "\n",
    "X_train, X_test, y_train, y_test = train_test_split(X, y, test_size=0.2, random_state=42)"
   ]
  },
  {
   "attachments": {},
   "cell_type": "markdown",
   "metadata": {},
   "source": [
    "THE MODEL\n",
    "\n",
    "Here we use the logistic regression for the example but the method is model-agnostic so you can use any model"
   ]
  },
  {
   "cell_type": "code",
   "execution_count": 10,
   "metadata": {},
   "outputs": [],
   "source": [
    "\n",
    "log_reg = LogisticRegression()\n",
    "log_reg = log_reg.fit(X_train, y_train)\n",
    "log_reg_pred = log_reg.predict(X_test)\n"
   ]
  },
  {
   "attachments": {},
   "cell_type": "markdown",
   "metadata": {},
   "source": [
    "Configuration\n",
    "\n",
    "The customer is able to fix features to be fixed and features to be changed in the configuration"
   ]
  },
  {
   "cell_type": "code",
   "execution_count": 11,
   "metadata": {},
   "outputs": [],
   "source": [
    "config = {\"features_to_change\": ['Current Loan Amount', 'Term', 'Credit Score',\n",
    "                                 'Annual Income', 'Years in current job', 'Home Ownership', 'Purpose',\n",
    "                                 'Monthly Debt', 'Years of Credit History', 'Number of Open Accounts'],\n",
    "          \"increase_features\": ['Credit Score', 'Annual Income'],\n",
    "          \"categorical columns\": list(category_cols),\n",
    "          \"numerical columns\" : list(numeric_cols),\n",
    "          \"n_counerfactuals\": 1,\n",
    "          \"max_features_to_change\": 2,\n",
    "          \"ID\": 'Loan ID',\n",
    "          \"target\": 'Loan Status'}\n"
   ]
  },
  {
   "attachments": {},
   "cell_type": "markdown",
   "metadata": {},
   "source": [
    "The instance\n",
    "\n",
    "'obs' is the instance for which we find the counterfactual"
   ]
  },
  {
   "cell_type": "code",
   "execution_count": 12,
   "metadata": {},
   "outputs": [
    {
     "data": {
      "text/html": [
       "<div>\n",
       "<style scoped>\n",
       "    .dataframe tbody tr th:only-of-type {\n",
       "        vertical-align: middle;\n",
       "    }\n",
       "\n",
       "    .dataframe tbody tr th {\n",
       "        vertical-align: top;\n",
       "    }\n",
       "\n",
       "    .dataframe thead th {\n",
       "        text-align: right;\n",
       "    }\n",
       "</style>\n",
       "<table border=\"1\" class=\"dataframe\">\n",
       "  <thead>\n",
       "    <tr style=\"text-align: right;\">\n",
       "      <th></th>\n",
       "      <th>Current Loan Amount</th>\n",
       "      <th>Term</th>\n",
       "      <th>Credit Score</th>\n",
       "      <th>Annual Income</th>\n",
       "      <th>Years in current job</th>\n",
       "      <th>Home Ownership</th>\n",
       "      <th>Purpose</th>\n",
       "      <th>Monthly Debt</th>\n",
       "      <th>Years of Credit History</th>\n",
       "      <th>Number of Open Accounts</th>\n",
       "      <th>Number of Credit Problems</th>\n",
       "      <th>Current Credit Balance</th>\n",
       "      <th>Maximum Open Credit</th>\n",
       "      <th>Bankruptcies</th>\n",
       "      <th>Tax Liens</th>\n",
       "    </tr>\n",
       "  </thead>\n",
       "  <tbody>\n",
       "    <tr>\n",
       "      <th>52872</th>\n",
       "      <td>98340.0000</td>\n",
       "      <td>0</td>\n",
       "      <td>6840.0000</td>\n",
       "      <td>1222954.0000</td>\n",
       "      <td>4.0000</td>\n",
       "      <td>1</td>\n",
       "      <td>9</td>\n",
       "      <td>10619.2900</td>\n",
       "      <td>13.5000</td>\n",
       "      <td>7.0000</td>\n",
       "      <td>0.0000</td>\n",
       "      <td>523450.0000</td>\n",
       "      <td>1005158.0000</td>\n",
       "      <td>0.0000</td>\n",
       "      <td>0.0000</td>\n",
       "    </tr>\n",
       "  </tbody>\n",
       "</table>\n",
       "</div>"
      ],
      "text/plain": [
       "       Current Loan Amount  Term  Credit Score  Annual Income  \\\n",
       "52872           98340.0000     0     6840.0000   1222954.0000   \n",
       "\n",
       "       Years in current job  Home Ownership  Purpose  Monthly Debt  \\\n",
       "52872                4.0000               1        9    10619.2900   \n",
       "\n",
       "       Years of Credit History  Number of Open Accounts  \\\n",
       "52872                  13.5000                   7.0000   \n",
       "\n",
       "       Number of Credit Problems  Current Credit Balance  Maximum Open Credit  \\\n",
       "52872                     0.0000             523450.0000         1005158.0000   \n",
       "\n",
       "       Bankruptcies  Tax Liens  \n",
       "52872        0.0000     0.0000  "
      ]
     },
     "execution_count": 12,
     "metadata": {},
     "output_type": "execute_result"
    }
   ],
   "source": [
    "obs = X.loc[[52872,]]\n",
    "obs"
   ]
  },
  {
   "cell_type": "code",
   "execution_count": 13,
   "metadata": {},
   "outputs": [
    {
     "data": {
      "text/plain": [
       "52872    0\n",
       "Name: Loan Status, dtype: int8"
      ]
     },
     "execution_count": 13,
     "metadata": {},
     "output_type": "execute_result"
    }
   ],
   "source": [
    "y.loc[[52872,]]\n"
   ]
  },
  {
   "attachments": {},
   "cell_type": "markdown",
   "metadata": {},
   "source": [
    "In this notebook we demonstrate the Optika module"
   ]
  },
  {
   "cell_type": "code",
   "execution_count": 14,
   "metadata": {},
   "outputs": [],
   "source": [
    "op = Optika(pd.concat([X,y], axis = 1), log_reg, config, target_class=1)"
   ]
  },
  {
   "attachments": {},
   "cell_type": "markdown",
   "metadata": {},
   "source": [
    "STEP 1: \n",
    "\n",
    "we consider only the part of the dataset with features from the configuration that are NOT to be changed.\n",
    "\n",
    "In this case the values of these features are the same as in the instance observation."
   ]
  },
  {
   "cell_type": "code",
   "execution_count": 15,
   "metadata": {},
   "outputs": [
    {
     "data": {
      "text/plain": [
       "2000"
      ]
     },
     "execution_count": 15,
     "metadata": {},
     "output_type": "execute_result"
    }
   ],
   "source": [
    "idx_box = op.box(obs, 1000)\n",
    "len(idx_box)"
   ]
  },
  {
   "cell_type": "code",
   "execution_count": 16,
   "metadata": {},
   "outputs": [
    {
     "data": {
      "text/plain": [
       "True"
      ]
     },
     "execution_count": 16,
     "metadata": {},
     "output_type": "execute_result"
    }
   ],
   "source": [
    "52872 in idx_box"
   ]
  },
  {
   "attachments": {},
   "cell_type": "markdown",
   "metadata": {},
   "source": [
    "STEP 2: Standartize the data"
   ]
  },
  {
   "cell_type": "code",
   "execution_count": 17,
   "metadata": {},
   "outputs": [],
   "source": [
    "X_st, y, obs_st = op.pre_process(obs)"
   ]
  },
  {
   "cell_type": "code",
   "execution_count": 18,
   "metadata": {},
   "outputs": [
    {
     "data": {
      "text/plain": [
       "1    1569\n",
       "0     431\n",
       "Name: Loan Status, dtype: int64"
      ]
     },
     "execution_count": 18,
     "metadata": {},
     "output_type": "execute_result"
    }
   ],
   "source": [
    "y.value_counts()"
   ]
  },
  {
   "cell_type": "code",
   "execution_count": 19,
   "metadata": {},
   "outputs": [
    {
     "data": {
      "text/html": [
       "<div>\n",
       "<style scoped>\n",
       "    .dataframe tbody tr th:only-of-type {\n",
       "        vertical-align: middle;\n",
       "    }\n",
       "\n",
       "    .dataframe tbody tr th {\n",
       "        vertical-align: top;\n",
       "    }\n",
       "\n",
       "    .dataframe thead th {\n",
       "        text-align: right;\n",
       "    }\n",
       "</style>\n",
       "<table border=\"1\" class=\"dataframe\">\n",
       "  <thead>\n",
       "    <tr style=\"text-align: right;\">\n",
       "      <th></th>\n",
       "      <th>Current Loan Amount</th>\n",
       "      <th>Term</th>\n",
       "      <th>Credit Score</th>\n",
       "      <th>Annual Income</th>\n",
       "      <th>Years in current job</th>\n",
       "      <th>Home Ownership</th>\n",
       "      <th>Purpose</th>\n",
       "      <th>Monthly Debt</th>\n",
       "      <th>Years of Credit History</th>\n",
       "      <th>Number of Open Accounts</th>\n",
       "      <th>Number of Credit Problems</th>\n",
       "      <th>Current Credit Balance</th>\n",
       "      <th>Maximum Open Credit</th>\n",
       "      <th>Bankruptcies</th>\n",
       "      <th>Tax Liens</th>\n",
       "    </tr>\n",
       "  </thead>\n",
       "  <tbody>\n",
       "    <tr>\n",
       "      <th>52872</th>\n",
       "      <td>-0.3893</td>\n",
       "      <td>-1.6669</td>\n",
       "      <td>4.0973</td>\n",
       "      <td>-0.1561</td>\n",
       "      <td>-0.4346</td>\n",
       "      <td>-0.9774</td>\n",
       "      <td>2.3183</td>\n",
       "      <td>-0.6404</td>\n",
       "      <td>-0.6750</td>\n",
       "      <td>-0.8248</td>\n",
       "      <td>-0.3451</td>\n",
       "      <td>0.6163</td>\n",
       "      <td>0.0261</td>\n",
       "      <td>-0.3324</td>\n",
       "      <td>-0.1121</td>\n",
       "    </tr>\n",
       "  </tbody>\n",
       "</table>\n",
       "</div>"
      ],
      "text/plain": [
       "       Current Loan Amount    Term  Credit Score  Annual Income  \\\n",
       "52872              -0.3893 -1.6669        4.0973        -0.1561   \n",
       "\n",
       "       Years in current job  Home Ownership  Purpose  Monthly Debt  \\\n",
       "52872               -0.4346         -0.9774   2.3183       -0.6404   \n",
       "\n",
       "       Years of Credit History  Number of Open Accounts  \\\n",
       "52872                  -0.6750                  -0.8248   \n",
       "\n",
       "       Number of Credit Problems  Current Credit Balance  Maximum Open Credit  \\\n",
       "52872                    -0.3451                  0.6163               0.0261   \n",
       "\n",
       "       Bankruptcies  Tax Liens  \n",
       "52872       -0.3324    -0.1121  "
      ]
     },
     "execution_count": 19,
     "metadata": {},
     "output_type": "execute_result"
    }
   ],
   "source": [
    "obs_st"
   ]
  },
  {
   "cell_type": "code",
   "execution_count": 20,
   "metadata": {},
   "outputs": [
    {
     "data": {
      "text/plain": [
       "(1, 15)"
      ]
     },
     "execution_count": 20,
     "metadata": {},
     "output_type": "execute_result"
    }
   ],
   "source": [
    "obs_st.shape"
   ]
  },
  {
   "attachments": {},
   "cell_type": "markdown",
   "metadata": {},
   "source": [
    "STEP 3: \n",
    "\n",
    "Use the method for the initial estimate. \n",
    "\n",
    "This could be decision tree, regression or PCA.\n",
    "\n",
    "The main achievement of this step - to choose the features to vary from the whole list of features to be changed. \n",
    "\n",
    "Because we are interested in the solution that is restricted in the number of features to be changed. \n",
    "\n",
    "So we have to choose the most important features at this step."
   ]
  },
  {
   "attachments": {},
   "cell_type": "markdown",
   "metadata": {},
   "source": [
    "1. Decision Tree\n"
   ]
  },
  {
   "cell_type": "code",
   "execution_count": 21,
   "metadata": {},
   "outputs": [],
   "source": [
    "X_gen, y_gen = op.generate_uniform_points(obs_st, 1500, 10)"
   ]
  },
  {
   "cell_type": "code",
   "execution_count": 22,
   "metadata": {},
   "outputs": [
    {
     "data": {
      "text/plain": [
       "(['Credit Score', 'Bankruptcies'],\n",
       " Index(['Current Loan Amount', 'Term', 'Annual Income', 'Years in current job',\n",
       "        'Home Ownership', 'Purpose', 'Monthly Debt', 'Years of Credit History',\n",
       "        'Number of Open Accounts', 'Number of Credit Problems',\n",
       "        'Current Credit Balance', 'Maximum Open Credit', 'Tax Liens'],\n",
       "       dtype='object'),\n",
       " [0.011205170114408247, 9.530780792236328])"
      ]
     },
     "execution_count": 22,
     "metadata": {},
     "output_type": "execute_result"
    }
   ],
   "source": [
    "ftrs, ftrs_, thrs = op.find_feature_importance_tree(X_gen, y_gen)\n",
    "ftrs, ftrs_, thrs "
   ]
  },
  {
   "attachments": {},
   "cell_type": "markdown",
   "metadata": {},
   "source": [
    "2. Regression"
   ]
  },
  {
   "cell_type": "code",
   "execution_count": 60,
   "metadata": {},
   "outputs": [],
   "source": [
    "features_to_use = op.find_feature_importance_regression()"
   ]
  },
  {
   "cell_type": "code",
   "execution_count": 61,
   "metadata": {},
   "outputs": [
    {
     "data": {
      "text/plain": [
       "['Credit Score', 'Current Loan Amount']"
      ]
     },
     "execution_count": 61,
     "metadata": {},
     "output_type": "execute_result"
    }
   ],
   "source": [
    "op.features_to_use"
   ]
  },
  {
   "attachments": {},
   "cell_type": "markdown",
   "metadata": {},
   "source": [
    "The PICTURE "
   ]
  },
  {
   "cell_type": "code",
   "execution_count": 28,
   "metadata": {},
   "outputs": [
    {
     "data": {
      "text/plain": [
       "('Credit Score', 'Bankruptcies')"
      ]
     },
     "execution_count": 28,
     "metadata": {},
     "output_type": "execute_result"
    }
   ],
   "source": [
    "a,b = op.features_to_use[:2]\n",
    "a,b\n"
   ]
  },
  {
   "cell_type": "code",
   "execution_count": 24,
   "metadata": {},
   "outputs": [
    {
     "data": {
      "text/plain": [
       "Index(['Current Loan Amount', 'Term', 'Annual Income', 'Years in current job',\n",
       "       'Home Ownership', 'Purpose', 'Monthly Debt', 'Years of Credit History',\n",
       "       'Number of Open Accounts', 'Number of Credit Problems',\n",
       "       'Current Credit Balance', 'Maximum Open Credit', 'Tax Liens'],\n",
       "      dtype='object')"
      ]
     },
     "execution_count": 24,
     "metadata": {},
     "output_type": "execute_result"
    }
   ],
   "source": [
    "op.features_to_fix"
   ]
  },
  {
   "cell_type": "code",
   "execution_count": 29,
   "metadata": {},
   "outputs": [],
   "source": [
    "ox, oy = obs_st.loc[:,a].values[0], obs_st.loc[:,b].values[0]"
   ]
  },
  {
   "cell_type": "code",
   "execution_count": 26,
   "metadata": {},
   "outputs": [
    {
     "data": {
      "text/html": [
       "<div>\n",
       "<style scoped>\n",
       "    .dataframe tbody tr th:only-of-type {\n",
       "        vertical-align: middle;\n",
       "    }\n",
       "\n",
       "    .dataframe tbody tr th {\n",
       "        vertical-align: top;\n",
       "    }\n",
       "\n",
       "    .dataframe thead th {\n",
       "        text-align: right;\n",
       "    }\n",
       "</style>\n",
       "<table border=\"1\" class=\"dataframe\">\n",
       "  <thead>\n",
       "    <tr style=\"text-align: right;\">\n",
       "      <th></th>\n",
       "      <th>Current Loan Amount</th>\n",
       "      <th>Term</th>\n",
       "      <th>Credit Score</th>\n",
       "      <th>Annual Income</th>\n",
       "      <th>Years in current job</th>\n",
       "      <th>Home Ownership</th>\n",
       "      <th>Purpose</th>\n",
       "      <th>Monthly Debt</th>\n",
       "      <th>Years of Credit History</th>\n",
       "      <th>Number of Open Accounts</th>\n",
       "      <th>Number of Credit Problems</th>\n",
       "      <th>Current Credit Balance</th>\n",
       "      <th>Maximum Open Credit</th>\n",
       "      <th>Bankruptcies</th>\n",
       "      <th>Tax Liens</th>\n",
       "    </tr>\n",
       "  </thead>\n",
       "  <tbody>\n",
       "    <tr>\n",
       "      <th>43530</th>\n",
       "      <td>-0.3796</td>\n",
       "      <td>-1.6669</td>\n",
       "      <td>-0.3415</td>\n",
       "      <td>-0.4571</td>\n",
       "      <td>-1.5027</td>\n",
       "      <td>-0.9774</td>\n",
       "      <td>3.2079</td>\n",
       "      <td>-0.0248</td>\n",
       "      <td>-0.3623</td>\n",
       "      <td>-0.2247</td>\n",
       "      <td>-0.3451</td>\n",
       "      <td>0.9877</td>\n",
       "      <td>0.0266</td>\n",
       "      <td>-0.3324</td>\n",
       "      <td>-0.1121</td>\n",
       "    </tr>\n",
       "    <tr>\n",
       "      <th>6594</th>\n",
       "      <td>-0.3871</td>\n",
       "      <td>-1.6669</td>\n",
       "      <td>-0.2790</td>\n",
       "      <td>-0.9495</td>\n",
       "      <td>-0.7016</td>\n",
       "      <td>0.0707</td>\n",
       "      <td>1.4288</td>\n",
       "      <td>-0.7827</td>\n",
       "      <td>0.0784</td>\n",
       "      <td>-1.2249</td>\n",
       "      <td>-0.3451</td>\n",
       "      <td>0.5745</td>\n",
       "      <td>0.0287</td>\n",
       "      <td>-0.3324</td>\n",
       "      <td>-0.1121</td>\n",
       "    </tr>\n",
       "    <tr>\n",
       "      <th>65072</th>\n",
       "      <td>-0.3858</td>\n",
       "      <td>-1.6669</td>\n",
       "      <td>-0.2941</td>\n",
       "      <td>1.0716</td>\n",
       "      <td>-0.7016</td>\n",
       "      <td>-0.9774</td>\n",
       "      <td>3.2079</td>\n",
       "      <td>0.0083</td>\n",
       "      <td>-0.7461</td>\n",
       "      <td>-0.2247</td>\n",
       "      <td>-0.3451</td>\n",
       "      <td>-0.3693</td>\n",
       "      <td>0.0238</td>\n",
       "      <td>-0.3324</td>\n",
       "      <td>-0.1121</td>\n",
       "    </tr>\n",
       "    <tr>\n",
       "      <th>13001</th>\n",
       "      <td>-0.3801</td>\n",
       "      <td>-1.6669</td>\n",
       "      <td>0.0000</td>\n",
       "      <td>0.0000</td>\n",
       "      <td>-1.5027</td>\n",
       "      <td>-0.9774</td>\n",
       "      <td>0.9840</td>\n",
       "      <td>-0.3487</td>\n",
       "      <td>-0.1491</td>\n",
       "      <td>0.3754</td>\n",
       "      <td>-0.3451</td>\n",
       "      <td>0.8048</td>\n",
       "      <td>0.0274</td>\n",
       "      <td>-0.3324</td>\n",
       "      <td>-0.1121</td>\n",
       "    </tr>\n",
       "    <tr>\n",
       "      <th>26847</th>\n",
       "      <td>-0.3790</td>\n",
       "      <td>-1.6669</td>\n",
       "      <td>-0.2762</td>\n",
       "      <td>0.5498</td>\n",
       "      <td>0.0995</td>\n",
       "      <td>-0.9774</td>\n",
       "      <td>0.5392</td>\n",
       "      <td>-0.8513</td>\n",
       "      <td>-0.1917</td>\n",
       "      <td>-0.2247</td>\n",
       "      <td>-0.3451</td>\n",
       "      <td>0.0413</td>\n",
       "      <td>0.0275</td>\n",
       "      <td>-0.3324</td>\n",
       "      <td>-0.1121</td>\n",
       "    </tr>\n",
       "    <tr>\n",
       "      <th>...</th>\n",
       "      <td>...</td>\n",
       "      <td>...</td>\n",
       "      <td>...</td>\n",
       "      <td>...</td>\n",
       "      <td>...</td>\n",
       "      <td>...</td>\n",
       "      <td>...</td>\n",
       "      <td>...</td>\n",
       "      <td>...</td>\n",
       "      <td>...</td>\n",
       "      <td>...</td>\n",
       "      <td>...</td>\n",
       "      <td>...</td>\n",
       "      <td>...</td>\n",
       "      <td>...</td>\n",
       "    </tr>\n",
       "    <tr>\n",
       "      <th>17040</th>\n",
       "      <td>-0.3761</td>\n",
       "      <td>0.5999</td>\n",
       "      <td>-0.2841</td>\n",
       "      <td>0.0159</td>\n",
       "      <td>-1.5027</td>\n",
       "      <td>-0.9774</td>\n",
       "      <td>0.5392</td>\n",
       "      <td>-1.1185</td>\n",
       "      <td>-1.2152</td>\n",
       "      <td>-0.4247</td>\n",
       "      <td>-0.3451</td>\n",
       "      <td>-0.3787</td>\n",
       "      <td>0.0225</td>\n",
       "      <td>-0.3324</td>\n",
       "      <td>-0.1121</td>\n",
       "    </tr>\n",
       "    <tr>\n",
       "      <th>50295</th>\n",
       "      <td>-0.3844</td>\n",
       "      <td>0.5999</td>\n",
       "      <td>0.0000</td>\n",
       "      <td>0.0000</td>\n",
       "      <td>-0.9686</td>\n",
       "      <td>-0.9774</td>\n",
       "      <td>0.5392</td>\n",
       "      <td>-0.7360</td>\n",
       "      <td>-0.6893</td>\n",
       "      <td>-0.0247</td>\n",
       "      <td>-0.3451</td>\n",
       "      <td>-0.7739</td>\n",
       "      <td>0.0242</td>\n",
       "      <td>-0.3324</td>\n",
       "      <td>-0.1121</td>\n",
       "    </tr>\n",
       "    <tr>\n",
       "      <th>66405</th>\n",
       "      <td>-0.3899</td>\n",
       "      <td>0.5999</td>\n",
       "      <td>-0.2783</td>\n",
       "      <td>0.2788</td>\n",
       "      <td>-1.2357</td>\n",
       "      <td>-0.9774</td>\n",
       "      <td>0.5392</td>\n",
       "      <td>-0.5303</td>\n",
       "      <td>-1.0162</td>\n",
       "      <td>0.1754</td>\n",
       "      <td>-0.3451</td>\n",
       "      <td>-0.3656</td>\n",
       "      <td>0.0273</td>\n",
       "      <td>-0.3324</td>\n",
       "      <td>-0.1121</td>\n",
       "    </tr>\n",
       "    <tr>\n",
       "      <th>26311</th>\n",
       "      <td>-0.3725</td>\n",
       "      <td>-1.6669</td>\n",
       "      <td>0.0000</td>\n",
       "      <td>0.0000</td>\n",
       "      <td>1.1677</td>\n",
       "      <td>-0.9774</td>\n",
       "      <td>-0.3503</td>\n",
       "      <td>0.4257</td>\n",
       "      <td>-0.5329</td>\n",
       "      <td>-0.6248</td>\n",
       "      <td>-0.3451</td>\n",
       "      <td>1.1911</td>\n",
       "      <td>0.0264</td>\n",
       "      <td>-0.3324</td>\n",
       "      <td>-0.1121</td>\n",
       "    </tr>\n",
       "    <tr>\n",
       "      <th>90555</th>\n",
       "      <td>-0.3779</td>\n",
       "      <td>-1.6669</td>\n",
       "      <td>-0.2891</td>\n",
       "      <td>0.0282</td>\n",
       "      <td>1.1677</td>\n",
       "      <td>-0.9774</td>\n",
       "      <td>-0.3503</td>\n",
       "      <td>0.3246</td>\n",
       "      <td>-0.2344</td>\n",
       "      <td>-0.2247</td>\n",
       "      <td>-0.3451</td>\n",
       "      <td>0.9377</td>\n",
       "      <td>0.0278</td>\n",
       "      <td>-0.3324</td>\n",
       "      <td>-0.1121</td>\n",
       "    </tr>\n",
       "  </tbody>\n",
       "</table>\n",
       "<p>100 rows × 15 columns</p>\n",
       "</div>"
      ],
      "text/plain": [
       "       Current Loan Amount    Term  Credit Score  Annual Income  \\\n",
       "43530              -0.3796 -1.6669       -0.3415        -0.4571   \n",
       "6594               -0.3871 -1.6669       -0.2790        -0.9495   \n",
       "65072              -0.3858 -1.6669       -0.2941         1.0716   \n",
       "13001              -0.3801 -1.6669        0.0000         0.0000   \n",
       "26847              -0.3790 -1.6669       -0.2762         0.5498   \n",
       "...                    ...     ...           ...            ...   \n",
       "17040              -0.3761  0.5999       -0.2841         0.0159   \n",
       "50295              -0.3844  0.5999        0.0000         0.0000   \n",
       "66405              -0.3899  0.5999       -0.2783         0.2788   \n",
       "26311              -0.3725 -1.6669        0.0000         0.0000   \n",
       "90555              -0.3779 -1.6669       -0.2891         0.0282   \n",
       "\n",
       "       Years in current job  Home Ownership  Purpose  Monthly Debt  \\\n",
       "43530               -1.5027         -0.9774   3.2079       -0.0248   \n",
       "6594                -0.7016          0.0707   1.4288       -0.7827   \n",
       "65072               -0.7016         -0.9774   3.2079        0.0083   \n",
       "13001               -1.5027         -0.9774   0.9840       -0.3487   \n",
       "26847                0.0995         -0.9774   0.5392       -0.8513   \n",
       "...                     ...             ...      ...           ...   \n",
       "17040               -1.5027         -0.9774   0.5392       -1.1185   \n",
       "50295               -0.9686         -0.9774   0.5392       -0.7360   \n",
       "66405               -1.2357         -0.9774   0.5392       -0.5303   \n",
       "26311                1.1677         -0.9774  -0.3503        0.4257   \n",
       "90555                1.1677         -0.9774  -0.3503        0.3246   \n",
       "\n",
       "       Years of Credit History  Number of Open Accounts  \\\n",
       "43530                  -0.3623                  -0.2247   \n",
       "6594                    0.0784                  -1.2249   \n",
       "65072                  -0.7461                  -0.2247   \n",
       "13001                  -0.1491                   0.3754   \n",
       "26847                  -0.1917                  -0.2247   \n",
       "...                        ...                      ...   \n",
       "17040                  -1.2152                  -0.4247   \n",
       "50295                  -0.6893                  -0.0247   \n",
       "66405                  -1.0162                   0.1754   \n",
       "26311                  -0.5329                  -0.6248   \n",
       "90555                  -0.2344                  -0.2247   \n",
       "\n",
       "       Number of Credit Problems  Current Credit Balance  Maximum Open Credit  \\\n",
       "43530                    -0.3451                  0.9877               0.0266   \n",
       "6594                     -0.3451                  0.5745               0.0287   \n",
       "65072                    -0.3451                 -0.3693               0.0238   \n",
       "13001                    -0.3451                  0.8048               0.0274   \n",
       "26847                    -0.3451                  0.0413               0.0275   \n",
       "...                          ...                     ...                  ...   \n",
       "17040                    -0.3451                 -0.3787               0.0225   \n",
       "50295                    -0.3451                 -0.7739               0.0242   \n",
       "66405                    -0.3451                 -0.3656               0.0273   \n",
       "26311                    -0.3451                  1.1911               0.0264   \n",
       "90555                    -0.3451                  0.9377               0.0278   \n",
       "\n",
       "       Bankruptcies  Tax Liens  \n",
       "43530       -0.3324    -0.1121  \n",
       "6594        -0.3324    -0.1121  \n",
       "65072       -0.3324    -0.1121  \n",
       "13001       -0.3324    -0.1121  \n",
       "26847       -0.3324    -0.1121  \n",
       "...             ...        ...  \n",
       "17040       -0.3324    -0.1121  \n",
       "50295       -0.3324    -0.1121  \n",
       "66405       -0.3324    -0.1121  \n",
       "26311       -0.3324    -0.1121  \n",
       "90555       -0.3324    -0.1121  \n",
       "\n",
       "[100 rows x 15 columns]"
      ]
     },
     "execution_count": 26,
     "metadata": {},
     "output_type": "execute_result"
    }
   ],
   "source": [
    "slice1 = op.slicing(1, 100)\n",
    "slice1"
   ]
  },
  {
   "cell_type": "code",
   "execution_count": 27,
   "metadata": {},
   "outputs": [
    {
     "data": {
      "text/html": [
       "<div>\n",
       "<style scoped>\n",
       "    .dataframe tbody tr th:only-of-type {\n",
       "        vertical-align: middle;\n",
       "    }\n",
       "\n",
       "    .dataframe tbody tr th {\n",
       "        vertical-align: top;\n",
       "    }\n",
       "\n",
       "    .dataframe thead th {\n",
       "        text-align: right;\n",
       "    }\n",
       "</style>\n",
       "<table border=\"1\" class=\"dataframe\">\n",
       "  <thead>\n",
       "    <tr style=\"text-align: right;\">\n",
       "      <th></th>\n",
       "      <th>Current Loan Amount</th>\n",
       "      <th>Term</th>\n",
       "      <th>Credit Score</th>\n",
       "      <th>Annual Income</th>\n",
       "      <th>Years in current job</th>\n",
       "      <th>Home Ownership</th>\n",
       "      <th>Purpose</th>\n",
       "      <th>Monthly Debt</th>\n",
       "      <th>Years of Credit History</th>\n",
       "      <th>Number of Open Accounts</th>\n",
       "      <th>Number of Credit Problems</th>\n",
       "      <th>Current Credit Balance</th>\n",
       "      <th>Maximum Open Credit</th>\n",
       "      <th>Bankruptcies</th>\n",
       "      <th>Tax Liens</th>\n",
       "    </tr>\n",
       "  </thead>\n",
       "  <tbody>\n",
       "    <tr>\n",
       "      <th>52872</th>\n",
       "      <td>-0.3893</td>\n",
       "      <td>-1.6669</td>\n",
       "      <td>4.0973</td>\n",
       "      <td>-0.1561</td>\n",
       "      <td>-0.4346</td>\n",
       "      <td>-0.9774</td>\n",
       "      <td>2.3183</td>\n",
       "      <td>-0.6404</td>\n",
       "      <td>-0.6750</td>\n",
       "      <td>-0.8248</td>\n",
       "      <td>-0.3451</td>\n",
       "      <td>0.6163</td>\n",
       "      <td>0.0261</td>\n",
       "      <td>-0.3324</td>\n",
       "      <td>-0.1121</td>\n",
       "    </tr>\n",
       "    <tr>\n",
       "      <th>98015</th>\n",
       "      <td>-0.3777</td>\n",
       "      <td>-1.6669</td>\n",
       "      <td>3.8174</td>\n",
       "      <td>-0.2159</td>\n",
       "      <td>-1.5027</td>\n",
       "      <td>-0.9774</td>\n",
       "      <td>3.2079</td>\n",
       "      <td>-0.0448</td>\n",
       "      <td>-0.3623</td>\n",
       "      <td>1.1756</td>\n",
       "      <td>-0.3451</td>\n",
       "      <td>0.5780</td>\n",
       "      <td>0.0243</td>\n",
       "      <td>-0.3324</td>\n",
       "      <td>-0.1121</td>\n",
       "    </tr>\n",
       "    <tr>\n",
       "      <th>56980</th>\n",
       "      <td>-0.3887</td>\n",
       "      <td>-1.6669</td>\n",
       "      <td>4.2623</td>\n",
       "      <td>0.3210</td>\n",
       "      <td>-1.5027</td>\n",
       "      <td>-0.9774</td>\n",
       "      <td>3.2079</td>\n",
       "      <td>1.2921</td>\n",
       "      <td>-0.6324</td>\n",
       "      <td>-0.0247</td>\n",
       "      <td>-0.3451</td>\n",
       "      <td>1.2984</td>\n",
       "      <td>0.0276</td>\n",
       "      <td>-0.3324</td>\n",
       "      <td>-0.1121</td>\n",
       "    </tr>\n",
       "    <tr>\n",
       "      <th>51075</th>\n",
       "      <td>-0.3692</td>\n",
       "      <td>-1.6669</td>\n",
       "      <td>4.1044</td>\n",
       "      <td>-0.0482</td>\n",
       "      <td>0.6336</td>\n",
       "      <td>0.0707</td>\n",
       "      <td>-0.3503</td>\n",
       "      <td>0.1992</td>\n",
       "      <td>-0.0069</td>\n",
       "      <td>-1.2249</td>\n",
       "      <td>-0.3451</td>\n",
       "      <td>0.9121</td>\n",
       "      <td>0.0279</td>\n",
       "      <td>-0.3324</td>\n",
       "      <td>-0.1121</td>\n",
       "    </tr>\n",
       "    <tr>\n",
       "      <th>37953</th>\n",
       "      <td>-0.3720</td>\n",
       "      <td>-1.6669</td>\n",
       "      <td>4.3484</td>\n",
       "      <td>0.6624</td>\n",
       "      <td>0.0995</td>\n",
       "      <td>-0.9774</td>\n",
       "      <td>-0.3503</td>\n",
       "      <td>0.5972</td>\n",
       "      <td>0.2916</td>\n",
       "      <td>-0.6248</td>\n",
       "      <td>-0.3451</td>\n",
       "      <td>1.0923</td>\n",
       "      <td>0.0255</td>\n",
       "      <td>-0.3324</td>\n",
       "      <td>-0.1121</td>\n",
       "    </tr>\n",
       "    <tr>\n",
       "      <th>...</th>\n",
       "      <td>...</td>\n",
       "      <td>...</td>\n",
       "      <td>...</td>\n",
       "      <td>...</td>\n",
       "      <td>...</td>\n",
       "      <td>...</td>\n",
       "      <td>...</td>\n",
       "      <td>...</td>\n",
       "      <td>...</td>\n",
       "      <td>...</td>\n",
       "      <td>...</td>\n",
       "      <td>...</td>\n",
       "      <td>...</td>\n",
       "      <td>...</td>\n",
       "      <td>...</td>\n",
       "    </tr>\n",
       "    <tr>\n",
       "      <th>59829</th>\n",
       "      <td>-0.3692</td>\n",
       "      <td>-1.6669</td>\n",
       "      <td>4.2408</td>\n",
       "      <td>1.3042</td>\n",
       "      <td>1.1677</td>\n",
       "      <td>-0.9774</td>\n",
       "      <td>-0.3503</td>\n",
       "      <td>3.8570</td>\n",
       "      <td>1.0308</td>\n",
       "      <td>0.7755</td>\n",
       "      <td>-0.3451</td>\n",
       "      <td>0.6957</td>\n",
       "      <td>0.0290</td>\n",
       "      <td>-0.3324</td>\n",
       "      <td>-0.1121</td>\n",
       "    </tr>\n",
       "    <tr>\n",
       "      <th>8365</th>\n",
       "      <td>-0.3826</td>\n",
       "      <td>0.5999</td>\n",
       "      <td>4.5207</td>\n",
       "      <td>-0.6817</td>\n",
       "      <td>1.1677</td>\n",
       "      <td>1.1189</td>\n",
       "      <td>-0.3503</td>\n",
       "      <td>-0.4024</td>\n",
       "      <td>1.5852</td>\n",
       "      <td>2.7760</td>\n",
       "      <td>-0.3451</td>\n",
       "      <td>-0.0950</td>\n",
       "      <td>0.0227</td>\n",
       "      <td>-0.3324</td>\n",
       "      <td>-0.1121</td>\n",
       "    </tr>\n",
       "    <tr>\n",
       "      <th>28632</th>\n",
       "      <td>-0.3722</td>\n",
       "      <td>-1.6669</td>\n",
       "      <td>3.8174</td>\n",
       "      <td>1.7376</td>\n",
       "      <td>-0.1675</td>\n",
       "      <td>-0.9774</td>\n",
       "      <td>0.5392</td>\n",
       "      <td>3.1747</td>\n",
       "      <td>1.1019</td>\n",
       "      <td>2.9760</td>\n",
       "      <td>-0.3451</td>\n",
       "      <td>1.3583</td>\n",
       "      <td>0.0290</td>\n",
       "      <td>-0.3324</td>\n",
       "      <td>-0.1121</td>\n",
       "    </tr>\n",
       "    <tr>\n",
       "      <th>70856</th>\n",
       "      <td>-0.3859</td>\n",
       "      <td>0.5999</td>\n",
       "      <td>4.4130</td>\n",
       "      <td>-0.2398</td>\n",
       "      <td>1.1677</td>\n",
       "      <td>-0.9774</td>\n",
       "      <td>-1.6847</td>\n",
       "      <td>-0.5049</td>\n",
       "      <td>1.8980</td>\n",
       "      <td>-0.2247</td>\n",
       "      <td>1.7469</td>\n",
       "      <td>0.0783</td>\n",
       "      <td>0.0243</td>\n",
       "      <td>-0.3324</td>\n",
       "      <td>3.8080</td>\n",
       "    </tr>\n",
       "    <tr>\n",
       "      <th>27128</th>\n",
       "      <td>-0.3687</td>\n",
       "      <td>0.5999</td>\n",
       "      <td>4.3054</td>\n",
       "      <td>2.1530</td>\n",
       "      <td>-0.9686</td>\n",
       "      <td>1.1189</td>\n",
       "      <td>-0.3503</td>\n",
       "      <td>5.4928</td>\n",
       "      <td>0.6612</td>\n",
       "      <td>0.5755</td>\n",
       "      <td>-0.3451</td>\n",
       "      <td>1.2912</td>\n",
       "      <td>0.0295</td>\n",
       "      <td>-0.3324</td>\n",
       "      <td>-0.1121</td>\n",
       "    </tr>\n",
       "  </tbody>\n",
       "</table>\n",
       "<p>79 rows × 15 columns</p>\n",
       "</div>"
      ],
      "text/plain": [
       "       Current Loan Amount    Term  Credit Score  Annual Income  \\\n",
       "52872              -0.3893 -1.6669        4.0973        -0.1561   \n",
       "98015              -0.3777 -1.6669        3.8174        -0.2159   \n",
       "56980              -0.3887 -1.6669        4.2623         0.3210   \n",
       "51075              -0.3692 -1.6669        4.1044        -0.0482   \n",
       "37953              -0.3720 -1.6669        4.3484         0.6624   \n",
       "...                    ...     ...           ...            ...   \n",
       "59829              -0.3692 -1.6669        4.2408         1.3042   \n",
       "8365               -0.3826  0.5999        4.5207        -0.6817   \n",
       "28632              -0.3722 -1.6669        3.8174         1.7376   \n",
       "70856              -0.3859  0.5999        4.4130        -0.2398   \n",
       "27128              -0.3687  0.5999        4.3054         2.1530   \n",
       "\n",
       "       Years in current job  Home Ownership  Purpose  Monthly Debt  \\\n",
       "52872               -0.4346         -0.9774   2.3183       -0.6404   \n",
       "98015               -1.5027         -0.9774   3.2079       -0.0448   \n",
       "56980               -1.5027         -0.9774   3.2079        1.2921   \n",
       "51075                0.6336          0.0707  -0.3503        0.1992   \n",
       "37953                0.0995         -0.9774  -0.3503        0.5972   \n",
       "...                     ...             ...      ...           ...   \n",
       "59829                1.1677         -0.9774  -0.3503        3.8570   \n",
       "8365                 1.1677          1.1189  -0.3503       -0.4024   \n",
       "28632               -0.1675         -0.9774   0.5392        3.1747   \n",
       "70856                1.1677         -0.9774  -1.6847       -0.5049   \n",
       "27128               -0.9686          1.1189  -0.3503        5.4928   \n",
       "\n",
       "       Years of Credit History  Number of Open Accounts  \\\n",
       "52872                  -0.6750                  -0.8248   \n",
       "98015                  -0.3623                   1.1756   \n",
       "56980                  -0.6324                  -0.0247   \n",
       "51075                  -0.0069                  -1.2249   \n",
       "37953                   0.2916                  -0.6248   \n",
       "...                        ...                      ...   \n",
       "59829                   1.0308                   0.7755   \n",
       "8365                    1.5852                   2.7760   \n",
       "28632                   1.1019                   2.9760   \n",
       "70856                   1.8980                  -0.2247   \n",
       "27128                   0.6612                   0.5755   \n",
       "\n",
       "       Number of Credit Problems  Current Credit Balance  Maximum Open Credit  \\\n",
       "52872                    -0.3451                  0.6163               0.0261   \n",
       "98015                    -0.3451                  0.5780               0.0243   \n",
       "56980                    -0.3451                  1.2984               0.0276   \n",
       "51075                    -0.3451                  0.9121               0.0279   \n",
       "37953                    -0.3451                  1.0923               0.0255   \n",
       "...                          ...                     ...                  ...   \n",
       "59829                    -0.3451                  0.6957               0.0290   \n",
       "8365                     -0.3451                 -0.0950               0.0227   \n",
       "28632                    -0.3451                  1.3583               0.0290   \n",
       "70856                     1.7469                  0.0783               0.0243   \n",
       "27128                    -0.3451                  1.2912               0.0295   \n",
       "\n",
       "       Bankruptcies  Tax Liens  \n",
       "52872       -0.3324    -0.1121  \n",
       "98015       -0.3324    -0.1121  \n",
       "56980       -0.3324    -0.1121  \n",
       "51075       -0.3324    -0.1121  \n",
       "37953       -0.3324    -0.1121  \n",
       "...             ...        ...  \n",
       "59829       -0.3324    -0.1121  \n",
       "8365        -0.3324    -0.1121  \n",
       "28632       -0.3324    -0.1121  \n",
       "70856       -0.3324     3.8080  \n",
       "27128       -0.3324    -0.1121  \n",
       "\n",
       "[79 rows x 15 columns]"
      ]
     },
     "execution_count": 27,
     "metadata": {},
     "output_type": "execute_result"
    }
   ],
   "source": [
    "slice0 = op.slicing(0, 100)\n",
    "slice0\n"
   ]
  },
  {
   "cell_type": "code",
   "execution_count": 30,
   "metadata": {},
   "outputs": [
    {
     "data": {
      "image/png": "[encoded data removed]",
      "text/plain": [
       "<Figure size 640x480 with 1 Axes>"
      ]
     },
     "metadata": {},
     "output_type": "display_data"
    }
   ],
   "source": [
    "plt.figure()\n",
    "plt.scatter(x = X_st[a],y = X_st[b],  c= y, cmap = 'viridis')\n",
    "plt.scatter(x = obs_st[a], y = obs_st[b], c='red', marker='X', s = 100)\n",
    "plt.xlabel(a)\n",
    "plt.ylabel(b)\n",
    "\n",
    "#X_st.plot.scatter(x = 'Current Loan Amount',y = 'Credit Score',  c= y, cmap = 'viridis')\n",
    "#obs_st.plot.scatter(x = 'Current Loan Amount', y = 'Credit Score', c='red', marker='X', s = 100)\n",
    "plt.show()"
   ]
  },
  {
   "cell_type": "code",
   "execution_count": 31,
   "metadata": {},
   "outputs": [
    {
     "data": {
      "image/png": "[encoded data removed]",
      "text/plain": [
       "<Figure size 640x480 with 1 Axes>"
      ]
     },
     "metadata": {},
     "output_type": "display_data"
    }
   ],
   "source": [
    "plt.figure()\n",
    "plt.scatter(x = X_gen[a],y = X_gen[b],  c= y_gen, cmap = 'viridis')\n",
    "plt.scatter(x = obs_st[a], y = obs_st[b], c='red', marker='X', s = 100)\n",
    "plt.xlabel(a)\n",
    "plt.ylabel(b)\n",
    "plt.show()"
   ]
  },
  {
   "cell_type": "code",
   "execution_count": 32,
   "metadata": {},
   "outputs": [
    {
     "data": {
      "image/png": "[encoded data removed]",
      "text/plain": [
       "<Figure size 640x480 with 1 Axes>"
      ]
     },
     "metadata": {},
     "output_type": "display_data"
    }
   ],
   "source": [
    "plt.figure()\n",
    "plt.scatter(x = slice1[a],y = slice1[b],  c= log_reg.predict(slice1), cmap = 'viridis')\n",
    "plt.scatter(x = obs_st[a], y = obs_st[b], c='red', marker='X', s = 100)\n",
    "plt.xlabel(a)\n",
    "plt.ylabel(b)\n",
    "plt.show()"
   ]
  },
  {
   "cell_type": "code",
   "execution_count": 33,
   "metadata": {},
   "outputs": [
    {
     "data": {
      "image/png": "[encoded data removed]",
      "text/plain": [
       "<Figure size 640x480 with 1 Axes>"
      ]
     },
     "metadata": {},
     "output_type": "display_data"
    }
   ],
   "source": [
    "plt.figure()\n",
    "plt.scatter(x = slice0[a],y = slice0[b],  c= log_reg.predict(slice0), cmap = 'viridis')\n",
    "plt.scatter(x = obs_st[a], y = obs_st[b], c='red', marker='X', s = 100)\n",
    "plt.xlabel(a)\n",
    "plt.ylabel(b)\n",
    "plt.show()"
   ]
  },
  {
   "attachments": {},
   "cell_type": "markdown",
   "metadata": {},
   "source": [
    "STEP 4\n",
    "\n",
    "At this final step you can use various methods for search. \n",
    "\n",
    "Binary search ...\n",
    "\n",
    "Weitzfeld algorythm - minimizes the weighted sum of distances from the counterfactual to the instance and nearest datapoints in the target class. We use the second term as the proxie for density in around the counterfactual in the target class.\n",
    "\n",
    "Weber algorythm - minimizes the weighted sum of distances from the counterfactual to the instance and nearest datapoints in the target class substraced with weighted sum of distances to the nearest datapoints from the opposite class. We use the second term as the proxie for density around the counterfactual in the target class and  the third term as the proxie for density around the counterfactual in the antitarget class."
   ]
  },
  {
   "cell_type": "code",
   "execution_count": 34,
   "metadata": {},
   "outputs": [
    {
     "data": {
      "text/html": [
       "<div>\n",
       "<style scoped>\n",
       "    .dataframe tbody tr th:only-of-type {\n",
       "        vertical-align: middle;\n",
       "    }\n",
       "\n",
       "    .dataframe tbody tr th {\n",
       "        vertical-align: top;\n",
       "    }\n",
       "\n",
       "    .dataframe thead th {\n",
       "        text-align: right;\n",
       "    }\n",
       "</style>\n",
       "<table border=\"1\" class=\"dataframe\">\n",
       "  <thead>\n",
       "    <tr style=\"text-align: right;\">\n",
       "      <th></th>\n",
       "      <th>Current Loan Amount</th>\n",
       "      <th>Term</th>\n",
       "      <th>Credit Score</th>\n",
       "      <th>Annual Income</th>\n",
       "      <th>Years in current job</th>\n",
       "      <th>Home Ownership</th>\n",
       "      <th>Purpose</th>\n",
       "      <th>Monthly Debt</th>\n",
       "      <th>Years of Credit History</th>\n",
       "      <th>Number of Open Accounts</th>\n",
       "      <th>Number of Credit Problems</th>\n",
       "      <th>Current Credit Balance</th>\n",
       "      <th>Maximum Open Credit</th>\n",
       "      <th>Bankruptcies</th>\n",
       "      <th>Tax Liens</th>\n",
       "    </tr>\n",
       "  </thead>\n",
       "  <tbody>\n",
       "    <tr>\n",
       "      <th>43530</th>\n",
       "      <td>-0.3796</td>\n",
       "      <td>-1.6669</td>\n",
       "      <td>-0.3415</td>\n",
       "      <td>-0.4571</td>\n",
       "      <td>-1.5027</td>\n",
       "      <td>-0.9774</td>\n",
       "      <td>3.2079</td>\n",
       "      <td>-0.0248</td>\n",
       "      <td>-0.3623</td>\n",
       "      <td>-0.2247</td>\n",
       "      <td>-0.3451</td>\n",
       "      <td>0.9877</td>\n",
       "      <td>0.0266</td>\n",
       "      <td>-0.3324</td>\n",
       "      <td>-0.1121</td>\n",
       "    </tr>\n",
       "    <tr>\n",
       "      <th>6594</th>\n",
       "      <td>-0.3871</td>\n",
       "      <td>-1.6669</td>\n",
       "      <td>-0.2790</td>\n",
       "      <td>-0.9495</td>\n",
       "      <td>-0.7016</td>\n",
       "      <td>0.0707</td>\n",
       "      <td>1.4288</td>\n",
       "      <td>-0.7827</td>\n",
       "      <td>0.0784</td>\n",
       "      <td>-1.2249</td>\n",
       "      <td>-0.3451</td>\n",
       "      <td>0.5745</td>\n",
       "      <td>0.0287</td>\n",
       "      <td>-0.3324</td>\n",
       "      <td>-0.1121</td>\n",
       "    </tr>\n",
       "    <tr>\n",
       "      <th>65072</th>\n",
       "      <td>-0.3858</td>\n",
       "      <td>-1.6669</td>\n",
       "      <td>-0.2941</td>\n",
       "      <td>1.0716</td>\n",
       "      <td>-0.7016</td>\n",
       "      <td>-0.9774</td>\n",
       "      <td>3.2079</td>\n",
       "      <td>0.0083</td>\n",
       "      <td>-0.7461</td>\n",
       "      <td>-0.2247</td>\n",
       "      <td>-0.3451</td>\n",
       "      <td>-0.3693</td>\n",
       "      <td>0.0238</td>\n",
       "      <td>-0.3324</td>\n",
       "      <td>-0.1121</td>\n",
       "    </tr>\n",
       "    <tr>\n",
       "      <th>13001</th>\n",
       "      <td>-0.3801</td>\n",
       "      <td>-1.6669</td>\n",
       "      <td>0.0000</td>\n",
       "      <td>0.0000</td>\n",
       "      <td>-1.5027</td>\n",
       "      <td>-0.9774</td>\n",
       "      <td>0.9840</td>\n",
       "      <td>-0.3487</td>\n",
       "      <td>-0.1491</td>\n",
       "      <td>0.3754</td>\n",
       "      <td>-0.3451</td>\n",
       "      <td>0.8048</td>\n",
       "      <td>0.0274</td>\n",
       "      <td>-0.3324</td>\n",
       "      <td>-0.1121</td>\n",
       "    </tr>\n",
       "    <tr>\n",
       "      <th>26847</th>\n",
       "      <td>-0.3790</td>\n",
       "      <td>-1.6669</td>\n",
       "      <td>-0.2762</td>\n",
       "      <td>0.5498</td>\n",
       "      <td>0.0995</td>\n",
       "      <td>-0.9774</td>\n",
       "      <td>0.5392</td>\n",
       "      <td>-0.8513</td>\n",
       "      <td>-0.1917</td>\n",
       "      <td>-0.2247</td>\n",
       "      <td>-0.3451</td>\n",
       "      <td>0.0413</td>\n",
       "      <td>0.0275</td>\n",
       "      <td>-0.3324</td>\n",
       "      <td>-0.1121</td>\n",
       "    </tr>\n",
       "    <tr>\n",
       "      <th>...</th>\n",
       "      <td>...</td>\n",
       "      <td>...</td>\n",
       "      <td>...</td>\n",
       "      <td>...</td>\n",
       "      <td>...</td>\n",
       "      <td>...</td>\n",
       "      <td>...</td>\n",
       "      <td>...</td>\n",
       "      <td>...</td>\n",
       "      <td>...</td>\n",
       "      <td>...</td>\n",
       "      <td>...</td>\n",
       "      <td>...</td>\n",
       "      <td>...</td>\n",
       "      <td>...</td>\n",
       "    </tr>\n",
       "    <tr>\n",
       "      <th>17040</th>\n",
       "      <td>-0.3761</td>\n",
       "      <td>0.5999</td>\n",
       "      <td>-0.2841</td>\n",
       "      <td>0.0159</td>\n",
       "      <td>-1.5027</td>\n",
       "      <td>-0.9774</td>\n",
       "      <td>0.5392</td>\n",
       "      <td>-1.1185</td>\n",
       "      <td>-1.2152</td>\n",
       "      <td>-0.4247</td>\n",
       "      <td>-0.3451</td>\n",
       "      <td>-0.3787</td>\n",
       "      <td>0.0225</td>\n",
       "      <td>-0.3324</td>\n",
       "      <td>-0.1121</td>\n",
       "    </tr>\n",
       "    <tr>\n",
       "      <th>50295</th>\n",
       "      <td>-0.3844</td>\n",
       "      <td>0.5999</td>\n",
       "      <td>0.0000</td>\n",
       "      <td>0.0000</td>\n",
       "      <td>-0.9686</td>\n",
       "      <td>-0.9774</td>\n",
       "      <td>0.5392</td>\n",
       "      <td>-0.7360</td>\n",
       "      <td>-0.6893</td>\n",
       "      <td>-0.0247</td>\n",
       "      <td>-0.3451</td>\n",
       "      <td>-0.7739</td>\n",
       "      <td>0.0242</td>\n",
       "      <td>-0.3324</td>\n",
       "      <td>-0.1121</td>\n",
       "    </tr>\n",
       "    <tr>\n",
       "      <th>66405</th>\n",
       "      <td>-0.3899</td>\n",
       "      <td>0.5999</td>\n",
       "      <td>-0.2783</td>\n",
       "      <td>0.2788</td>\n",
       "      <td>-1.2357</td>\n",
       "      <td>-0.9774</td>\n",
       "      <td>0.5392</td>\n",
       "      <td>-0.5303</td>\n",
       "      <td>-1.0162</td>\n",
       "      <td>0.1754</td>\n",
       "      <td>-0.3451</td>\n",
       "      <td>-0.3656</td>\n",
       "      <td>0.0273</td>\n",
       "      <td>-0.3324</td>\n",
       "      <td>-0.1121</td>\n",
       "    </tr>\n",
       "    <tr>\n",
       "      <th>26311</th>\n",
       "      <td>-0.3725</td>\n",
       "      <td>-1.6669</td>\n",
       "      <td>0.0000</td>\n",
       "      <td>0.0000</td>\n",
       "      <td>1.1677</td>\n",
       "      <td>-0.9774</td>\n",
       "      <td>-0.3503</td>\n",
       "      <td>0.4257</td>\n",
       "      <td>-0.5329</td>\n",
       "      <td>-0.6248</td>\n",
       "      <td>-0.3451</td>\n",
       "      <td>1.1911</td>\n",
       "      <td>0.0264</td>\n",
       "      <td>-0.3324</td>\n",
       "      <td>-0.1121</td>\n",
       "    </tr>\n",
       "    <tr>\n",
       "      <th>90555</th>\n",
       "      <td>-0.3779</td>\n",
       "      <td>-1.6669</td>\n",
       "      <td>-0.2891</td>\n",
       "      <td>0.0282</td>\n",
       "      <td>1.1677</td>\n",
       "      <td>-0.9774</td>\n",
       "      <td>-0.3503</td>\n",
       "      <td>0.3246</td>\n",
       "      <td>-0.2344</td>\n",
       "      <td>-0.2247</td>\n",
       "      <td>-0.3451</td>\n",
       "      <td>0.9377</td>\n",
       "      <td>0.0278</td>\n",
       "      <td>-0.3324</td>\n",
       "      <td>-0.1121</td>\n",
       "    </tr>\n",
       "  </tbody>\n",
       "</table>\n",
       "<p>100 rows × 15 columns</p>\n",
       "</div>"
      ],
      "text/plain": [
       "       Current Loan Amount    Term  Credit Score  Annual Income  \\\n",
       "43530              -0.3796 -1.6669       -0.3415        -0.4571   \n",
       "6594               -0.3871 -1.6669       -0.2790        -0.9495   \n",
       "65072              -0.3858 -1.6669       -0.2941         1.0716   \n",
       "13001              -0.3801 -1.6669        0.0000         0.0000   \n",
       "26847              -0.3790 -1.6669       -0.2762         0.5498   \n",
       "...                    ...     ...           ...            ...   \n",
       "17040              -0.3761  0.5999       -0.2841         0.0159   \n",
       "50295              -0.3844  0.5999        0.0000         0.0000   \n",
       "66405              -0.3899  0.5999       -0.2783         0.2788   \n",
       "26311              -0.3725 -1.6669        0.0000         0.0000   \n",
       "90555              -0.3779 -1.6669       -0.2891         0.0282   \n",
       "\n",
       "       Years in current job  Home Ownership  Purpose  Monthly Debt  \\\n",
       "43530               -1.5027         -0.9774   3.2079       -0.0248   \n",
       "6594                -0.7016          0.0707   1.4288       -0.7827   \n",
       "65072               -0.7016         -0.9774   3.2079        0.0083   \n",
       "13001               -1.5027         -0.9774   0.9840       -0.3487   \n",
       "26847                0.0995         -0.9774   0.5392       -0.8513   \n",
       "...                     ...             ...      ...           ...   \n",
       "17040               -1.5027         -0.9774   0.5392       -1.1185   \n",
       "50295               -0.9686         -0.9774   0.5392       -0.7360   \n",
       "66405               -1.2357         -0.9774   0.5392       -0.5303   \n",
       "26311                1.1677         -0.9774  -0.3503        0.4257   \n",
       "90555                1.1677         -0.9774  -0.3503        0.3246   \n",
       "\n",
       "       Years of Credit History  Number of Open Accounts  \\\n",
       "43530                  -0.3623                  -0.2247   \n",
       "6594                    0.0784                  -1.2249   \n",
       "65072                  -0.7461                  -0.2247   \n",
       "13001                  -0.1491                   0.3754   \n",
       "26847                  -0.1917                  -0.2247   \n",
       "...                        ...                      ...   \n",
       "17040                  -1.2152                  -0.4247   \n",
       "50295                  -0.6893                  -0.0247   \n",
       "66405                  -1.0162                   0.1754   \n",
       "26311                  -0.5329                  -0.6248   \n",
       "90555                  -0.2344                  -0.2247   \n",
       "\n",
       "       Number of Credit Problems  Current Credit Balance  Maximum Open Credit  \\\n",
       "43530                    -0.3451                  0.9877               0.0266   \n",
       "6594                     -0.3451                  0.5745               0.0287   \n",
       "65072                    -0.3451                 -0.3693               0.0238   \n",
       "13001                    -0.3451                  0.8048               0.0274   \n",
       "26847                    -0.3451                  0.0413               0.0275   \n",
       "...                          ...                     ...                  ...   \n",
       "17040                    -0.3451                 -0.3787               0.0225   \n",
       "50295                    -0.3451                 -0.7739               0.0242   \n",
       "66405                    -0.3451                 -0.3656               0.0273   \n",
       "26311                    -0.3451                  1.1911               0.0264   \n",
       "90555                    -0.3451                  0.9377               0.0278   \n",
       "\n",
       "       Bankruptcies  Tax Liens  \n",
       "43530       -0.3324    -0.1121  \n",
       "6594        -0.3324    -0.1121  \n",
       "65072       -0.3324    -0.1121  \n",
       "13001       -0.3324    -0.1121  \n",
       "26847       -0.3324    -0.1121  \n",
       "...             ...        ...  \n",
       "17040       -0.3324    -0.1121  \n",
       "50295       -0.3324    -0.1121  \n",
       "66405       -0.3324    -0.1121  \n",
       "26311       -0.3324    -0.1121  \n",
       "90555       -0.3324    -0.1121  \n",
       "\n",
       "[100 rows x 15 columns]"
      ]
     },
     "execution_count": 34,
     "metadata": {},
     "output_type": "execute_result"
    }
   ],
   "source": [
    "# Slice the data - choose 100 points in the unstances's neighborhood accounting for fixed features\n",
    "\n",
    "slice = op.slicing(1,100)\n",
    "slice"
   ]
  },
  {
   "cell_type": "code",
   "execution_count": 40,
   "metadata": {},
   "outputs": [
    {
     "data": {
      "text/plain": [
       "['Credit Score', 'Bankruptcies']"
      ]
     },
     "execution_count": 40,
     "metadata": {},
     "output_type": "execute_result"
    }
   ],
   "source": [
    "op.features_to_use"
   ]
  },
  {
   "cell_type": "code",
   "execution_count": 41,
   "metadata": {},
   "outputs": [
    {
     "data": {
      "text/plain": [
       "[0.011205170114408247, 9.530780792236328]"
      ]
     },
     "execution_count": 41,
     "metadata": {},
     "output_type": "execute_result"
    }
   ],
   "source": [
    "op.thresholds"
   ]
  },
  {
   "cell_type": "code",
   "execution_count": 37,
   "metadata": {},
   "outputs": [],
   "source": [
    "w = [0.5, 0.1]  #weights for weitzfeld algorythm\n"
   ]
  },
  {
   "cell_type": "code",
   "execution_count": 38,
   "metadata": {},
   "outputs": [
    {
     "data": {
      "text/html": [
       "<div>\n",
       "<style scoped>\n",
       "    .dataframe tbody tr th:only-of-type {\n",
       "        vertical-align: middle;\n",
       "    }\n",
       "\n",
       "    .dataframe tbody tr th {\n",
       "        vertical-align: top;\n",
       "    }\n",
       "\n",
       "    .dataframe thead th {\n",
       "        text-align: right;\n",
       "    }\n",
       "</style>\n",
       "<table border=\"1\" class=\"dataframe\">\n",
       "  <thead>\n",
       "    <tr style=\"text-align: right;\">\n",
       "      <th></th>\n",
       "      <th>Current Loan Amount</th>\n",
       "      <th>Term</th>\n",
       "      <th>Credit Score</th>\n",
       "      <th>Annual Income</th>\n",
       "      <th>Years in current job</th>\n",
       "      <th>Home Ownership</th>\n",
       "      <th>Purpose</th>\n",
       "      <th>Monthly Debt</th>\n",
       "      <th>Years of Credit History</th>\n",
       "      <th>Number of Open Accounts</th>\n",
       "      <th>Number of Credit Problems</th>\n",
       "      <th>Current Credit Balance</th>\n",
       "      <th>Maximum Open Credit</th>\n",
       "      <th>Bankruptcies</th>\n",
       "      <th>Tax Liens</th>\n",
       "    </tr>\n",
       "  </thead>\n",
       "  <tbody>\n",
       "    <tr>\n",
       "      <th>52872</th>\n",
       "      <td>-0.3893</td>\n",
       "      <td>-1.6669</td>\n",
       "      <td>4.0973</td>\n",
       "      <td>-0.1561</td>\n",
       "      <td>-0.4346</td>\n",
       "      <td>-0.9774</td>\n",
       "      <td>2.3183</td>\n",
       "      <td>-0.6404</td>\n",
       "      <td>-0.6750</td>\n",
       "      <td>-0.8248</td>\n",
       "      <td>-0.3451</td>\n",
       "      <td>0.6163</td>\n",
       "      <td>0.0261</td>\n",
       "      <td>-0.3324</td>\n",
       "      <td>-0.1121</td>\n",
       "    </tr>\n",
       "  </tbody>\n",
       "</table>\n",
       "</div>"
      ],
      "text/plain": [
       "       Current Loan Amount    Term  Credit Score  Annual Income  \\\n",
       "52872              -0.3893 -1.6669        4.0973        -0.1561   \n",
       "\n",
       "       Years in current job  Home Ownership  Purpose  Monthly Debt  \\\n",
       "52872               -0.4346         -0.9774   2.3183       -0.6404   \n",
       "\n",
       "       Years of Credit History  Number of Open Accounts  \\\n",
       "52872                  -0.6750                  -0.8248   \n",
       "\n",
       "       Number of Credit Problems  Current Credit Balance  Maximum Open Credit  \\\n",
       "52872                    -0.3451                  0.6163               0.0261   \n",
       "\n",
       "       Bankruptcies  Tax Liens  \n",
       "52872       -0.3324    -0.1121  "
      ]
     },
     "execution_count": 38,
     "metadata": {},
     "output_type": "execute_result"
    }
   ],
   "source": [
    "obs_st"
   ]
  },
  {
   "attachments": {},
   "cell_type": "markdown",
   "metadata": {},
   "source": [
    "Weitzfeld algorythm"
   ]
  },
  {
   "cell_type": "code",
   "execution_count": 42,
   "metadata": {},
   "outputs": [],
   "source": [
    "# op.thresholds give us the initial position from step 3\n",
    "# 5 - the number of neighbors we account for in the target class\n",
    "\n",
    "c,d = op.weitzfeld(op.thresholds, w, 5)"
   ]
  },
  {
   "cell_type": "code",
   "execution_count": 49,
   "metadata": {},
   "outputs": [
    {
     "data": {
      "text/html": [
       "<div>\n",
       "<style scoped>\n",
       "    .dataframe tbody tr th:only-of-type {\n",
       "        vertical-align: middle;\n",
       "    }\n",
       "\n",
       "    .dataframe tbody tr th {\n",
       "        vertical-align: top;\n",
       "    }\n",
       "\n",
       "    .dataframe thead th {\n",
       "        text-align: right;\n",
       "    }\n",
       "</style>\n",
       "<table border=\"1\" class=\"dataframe\">\n",
       "  <thead>\n",
       "    <tr style=\"text-align: right;\">\n",
       "      <th></th>\n",
       "      <th>Current Loan Amount</th>\n",
       "      <th>Term</th>\n",
       "      <th>Credit Score</th>\n",
       "      <th>Annual Income</th>\n",
       "      <th>Years in current job</th>\n",
       "      <th>Home Ownership</th>\n",
       "      <th>Purpose</th>\n",
       "      <th>Monthly Debt</th>\n",
       "      <th>Years of Credit History</th>\n",
       "      <th>Number of Open Accounts</th>\n",
       "      <th>Number of Credit Problems</th>\n",
       "      <th>Current Credit Balance</th>\n",
       "      <th>Maximum Open Credit</th>\n",
       "      <th>Bankruptcies</th>\n",
       "      <th>Tax Liens</th>\n",
       "    </tr>\n",
       "  </thead>\n",
       "  <tbody>\n",
       "    <tr>\n",
       "      <th>52872</th>\n",
       "      <td>-0.3893</td>\n",
       "      <td>-1.6669</td>\n",
       "      <td>0.0112</td>\n",
       "      <td>-0.1561</td>\n",
       "      <td>-0.4346</td>\n",
       "      <td>-0.9774</td>\n",
       "      <td>2.3183</td>\n",
       "      <td>-0.6404</td>\n",
       "      <td>-0.6750</td>\n",
       "      <td>-0.8248</td>\n",
       "      <td>-0.3451</td>\n",
       "      <td>0.6163</td>\n",
       "      <td>0.0261</td>\n",
       "      <td>9.5308</td>\n",
       "      <td>-0.1121</td>\n",
       "    </tr>\n",
       "  </tbody>\n",
       "</table>\n",
       "</div>"
      ],
      "text/plain": [
       "       Current Loan Amount    Term  Credit Score  Annual Income  \\\n",
       "52872              -0.3893 -1.6669        0.0112        -0.1561   \n",
       "\n",
       "       Years in current job  Home Ownership  Purpose  Monthly Debt  \\\n",
       "52872               -0.4346         -0.9774   2.3183       -0.6404   \n",
       "\n",
       "       Years of Credit History  Number of Open Accounts  \\\n",
       "52872                  -0.6750                  -0.8248   \n",
       "\n",
       "       Number of Credit Problems  Current Credit Balance  Maximum Open Credit  \\\n",
       "52872                    -0.3451                  0.6163               0.0261   \n",
       "\n",
       "       Bankruptcies  Tax Liens  \n",
       "52872        9.5308    -0.1121  "
      ]
     },
     "execution_count": 49,
     "metadata": {},
     "output_type": "execute_result"
    }
   ],
   "source": [
    "cand_obs = obs_st.copy()\n",
    "cand_obs[op.features_to_use] = op.thresholds\n",
    "cand_obs"
   ]
  },
  {
   "cell_type": "code",
   "execution_count": 43,
   "metadata": {},
   "outputs": [
    {
     "data": {
      "text/plain": [
       "10.676072443775919"
      ]
     },
     "execution_count": 43,
     "metadata": {},
     "output_type": "execute_result"
    }
   ],
   "source": [
    "d"
   ]
  },
  {
   "cell_type": "code",
   "execution_count": 46,
   "metadata": {},
   "outputs": [
    {
     "data": {
      "text/html": [
       "<div>\n",
       "<style scoped>\n",
       "    .dataframe tbody tr th:only-of-type {\n",
       "        vertical-align: middle;\n",
       "    }\n",
       "\n",
       "    .dataframe tbody tr th {\n",
       "        vertical-align: top;\n",
       "    }\n",
       "\n",
       "    .dataframe thead th {\n",
       "        text-align: right;\n",
       "    }\n",
       "</style>\n",
       "<table border=\"1\" class=\"dataframe\">\n",
       "  <thead>\n",
       "    <tr style=\"text-align: right;\">\n",
       "      <th></th>\n",
       "      <th>Current Loan Amount</th>\n",
       "      <th>Term</th>\n",
       "      <th>Credit Score</th>\n",
       "      <th>Annual Income</th>\n",
       "      <th>Years in current job</th>\n",
       "      <th>Home Ownership</th>\n",
       "      <th>Purpose</th>\n",
       "      <th>Monthly Debt</th>\n",
       "      <th>Years of Credit History</th>\n",
       "      <th>Number of Open Accounts</th>\n",
       "      <th>Number of Credit Problems</th>\n",
       "      <th>Current Credit Balance</th>\n",
       "      <th>Maximum Open Credit</th>\n",
       "      <th>Bankruptcies</th>\n",
       "      <th>Tax Liens</th>\n",
       "    </tr>\n",
       "  </thead>\n",
       "  <tbody>\n",
       "    <tr>\n",
       "      <th>0</th>\n",
       "      <td>-0.3893</td>\n",
       "      <td>-1.6669</td>\n",
       "      <td>0.0112</td>\n",
       "      <td>-0.1561</td>\n",
       "      <td>-0.4346</td>\n",
       "      <td>-0.9774</td>\n",
       "      <td>2.3183</td>\n",
       "      <td>-0.6404</td>\n",
       "      <td>-0.6750</td>\n",
       "      <td>-0.8248</td>\n",
       "      <td>-0.3451</td>\n",
       "      <td>0.6163</td>\n",
       "      <td>0.0261</td>\n",
       "      <td>9.5308</td>\n",
       "      <td>-0.1121</td>\n",
       "    </tr>\n",
       "  </tbody>\n",
       "</table>\n",
       "</div>"
      ],
      "text/plain": [
       "   Current Loan Amount    Term  Credit Score  Annual Income  \\\n",
       "0              -0.3893 -1.6669        0.0112        -0.1561   \n",
       "\n",
       "   Years in current job  Home Ownership  Purpose  Monthly Debt  \\\n",
       "0               -0.4346         -0.9774   2.3183       -0.6404   \n",
       "\n",
       "   Years of Credit History  Number of Open Accounts  \\\n",
       "0                  -0.6750                  -0.8248   \n",
       "\n",
       "   Number of Credit Problems  Current Credit Balance  Maximum Open Credit  \\\n",
       "0                    -0.3451                  0.6163               0.0261   \n",
       "\n",
       "   Bankruptcies  Tax Liens  \n",
       "0        9.5308    -0.1121  "
      ]
     },
     "execution_count": 46,
     "metadata": {},
     "output_type": "execute_result"
    }
   ],
   "source": [
    "c"
   ]
  },
  {
   "cell_type": "code",
   "execution_count": 50,
   "metadata": {},
   "outputs": [
    {
     "data": {
      "text/plain": [
       "array([0], dtype=int8)"
      ]
     },
     "execution_count": 50,
     "metadata": {},
     "output_type": "execute_result"
    }
   ],
   "source": [
    "# check - here the search is unlucky, so it is necessary to choose another initial estimate\n",
    "log_reg.predict(cand_obs)"
   ]
  },
  {
   "attachments": {},
   "cell_type": "markdown",
   "metadata": {},
   "source": [
    "Beeswarm"
   ]
  },
  {
   "cell_type": "code",
   "execution_count": 51,
   "metadata": {},
   "outputs": [],
   "source": [
    "w = [0.7, 0.3, 0.1]  \n",
    "#0.7 - inertia weight, 0.3 the attraction weight for density in the target class, \n",
    "# 0.1 - the repulsion weight for density in the antitarget class\n"
   ]
  },
  {
   "cell_type": "code",
   "execution_count": 53,
   "metadata": {},
   "outputs": [],
   "source": [
    "# Define the number of agents and the number of dimensions\n",
    "num_agents = 3\n",
    "num_dimensions = len(op.features_to_use)\n",
    "w = [0.7, 0.2, 0.2, 0.2, -0.1, -0.1, -0.1]\n",
    "\n",
    "# Define the number of iterations and the PSO parameters\n",
    "num_iterations = 3\n",
    "inertia_weight = 0.7\n",
    "cognitive_weight = 0.2\n",
    "social_weight = 0.1"
   ]
  },
  {
   "cell_type": "code",
   "execution_count": 54,
   "metadata": {},
   "outputs": [
    {
     "data": {
      "text/html": [
       "<div>\n",
       "<style scoped>\n",
       "    .dataframe tbody tr th:only-of-type {\n",
       "        vertical-align: middle;\n",
       "    }\n",
       "\n",
       "    .dataframe tbody tr th {\n",
       "        vertical-align: top;\n",
       "    }\n",
       "\n",
       "    .dataframe thead th {\n",
       "        text-align: right;\n",
       "    }\n",
       "</style>\n",
       "<table border=\"1\" class=\"dataframe\">\n",
       "  <thead>\n",
       "    <tr style=\"text-align: right;\">\n",
       "      <th></th>\n",
       "      <th>Current Loan Amount</th>\n",
       "      <th>Term</th>\n",
       "      <th>Credit Score</th>\n",
       "      <th>Annual Income</th>\n",
       "      <th>Years in current job</th>\n",
       "      <th>Home Ownership</th>\n",
       "      <th>Purpose</th>\n",
       "      <th>Monthly Debt</th>\n",
       "      <th>Years of Credit History</th>\n",
       "      <th>Number of Open Accounts</th>\n",
       "      <th>Number of Credit Problems</th>\n",
       "      <th>Current Credit Balance</th>\n",
       "      <th>Maximum Open Credit</th>\n",
       "      <th>Bankruptcies</th>\n",
       "      <th>Tax Liens</th>\n",
       "    </tr>\n",
       "  </thead>\n",
       "  <tbody>\n",
       "    <tr>\n",
       "      <th>52872</th>\n",
       "      <td>-0.3893</td>\n",
       "      <td>-1.6669</td>\n",
       "      <td>4.0973</td>\n",
       "      <td>-0.1561</td>\n",
       "      <td>-0.4346</td>\n",
       "      <td>-0.9774</td>\n",
       "      <td>2.3183</td>\n",
       "      <td>-0.6404</td>\n",
       "      <td>-0.6750</td>\n",
       "      <td>-0.8248</td>\n",
       "      <td>-0.3451</td>\n",
       "      <td>0.6163</td>\n",
       "      <td>0.0261</td>\n",
       "      <td>-0.3324</td>\n",
       "      <td>-0.1121</td>\n",
       "    </tr>\n",
       "  </tbody>\n",
       "</table>\n",
       "</div>"
      ],
      "text/plain": [
       "       Current Loan Amount    Term  Credit Score  Annual Income  \\\n",
       "52872              -0.3893 -1.6669        4.0973        -0.1561   \n",
       "\n",
       "       Years in current job  Home Ownership  Purpose  Monthly Debt  \\\n",
       "52872               -0.4346         -0.9774   2.3183       -0.6404   \n",
       "\n",
       "       Years of Credit History  Number of Open Accounts  \\\n",
       "52872                  -0.6750                  -0.8248   \n",
       "\n",
       "       Number of Credit Problems  Current Credit Balance  Maximum Open Credit  \\\n",
       "52872                    -0.3451                  0.6163               0.0261   \n",
       "\n",
       "       Bankruptcies  Tax Liens  \n",
       "52872       -0.3324    -0.1121  "
      ]
     },
     "execution_count": 54,
     "metadata": {},
     "output_type": "execute_result"
    }
   ],
   "source": [
    "obs_st"
   ]
  },
  {
   "cell_type": "code",
   "execution_count": 55,
   "metadata": {},
   "outputs": [
    {
     "data": {
      "text/plain": [
       "[0.011205170114408247, 9.530780792236328]"
      ]
     },
     "execution_count": 55,
     "metadata": {},
     "output_type": "execute_result"
    }
   ],
   "source": [
    "op.thresholds"
   ]
  },
  {
   "cell_type": "code",
   "execution_count": 56,
   "metadata": {},
   "outputs": [
    {
     "name": "stdout",
     "output_type": "stream",
     "text": [
      "ITERATION   0\n",
      "best [-7.16630904  2.67174287]\n",
      "__________________________________________\n",
      "ITERATION   1\n",
      "best [-7.16630904  2.67174287]\n",
      "__________________________________________\n",
      "ITERATION   2\n",
      "best [-7.16630904  2.67174287]\n",
      "__________________________________________\n",
      "ITERATION   3\n",
      "best [-7.16630904  2.67174287]\n",
      "__________________________________________\n",
      "ITERATION   4\n",
      "best [-1.85790119 -1.85790119]\n",
      "__________________________________________\n"
     ]
    }
   ],
   "source": [
    "#best_obs, best_dist, glob_dist, pos = \n",
    "cfs, dist = op.beeswarm(obs_st, op.features_to_use, op.thresholds, w)"
   ]
  },
  {
   "cell_type": "code",
   "execution_count": 57,
   "metadata": {},
   "outputs": [
    {
     "data": {
      "text/plain": [
       "5.210748992959686"
      ]
     },
     "execution_count": 57,
     "metadata": {},
     "output_type": "execute_result"
    }
   ],
   "source": [
    "dist"
   ]
  },
  {
   "cell_type": "code",
   "execution_count": 58,
   "metadata": {},
   "outputs": [
    {
     "data": {
      "text/html": [
       "<div>\n",
       "<style scoped>\n",
       "    .dataframe tbody tr th:only-of-type {\n",
       "        vertical-align: middle;\n",
       "    }\n",
       "\n",
       "    .dataframe tbody tr th {\n",
       "        vertical-align: top;\n",
       "    }\n",
       "\n",
       "    .dataframe thead th {\n",
       "        text-align: right;\n",
       "    }\n",
       "</style>\n",
       "<table border=\"1\" class=\"dataframe\">\n",
       "  <thead>\n",
       "    <tr style=\"text-align: right;\">\n",
       "      <th></th>\n",
       "      <th>Current Loan Amount</th>\n",
       "      <th>Term</th>\n",
       "      <th>Credit Score</th>\n",
       "      <th>Annual Income</th>\n",
       "      <th>Years in current job</th>\n",
       "      <th>Home Ownership</th>\n",
       "      <th>Purpose</th>\n",
       "      <th>Monthly Debt</th>\n",
       "      <th>Years of Credit History</th>\n",
       "      <th>Number of Open Accounts</th>\n",
       "      <th>Number of Credit Problems</th>\n",
       "      <th>Current Credit Balance</th>\n",
       "      <th>Maximum Open Credit</th>\n",
       "      <th>Bankruptcies</th>\n",
       "      <th>Tax Liens</th>\n",
       "    </tr>\n",
       "  </thead>\n",
       "  <tbody>\n",
       "    <tr>\n",
       "      <th>52872</th>\n",
       "      <td>-0.3893</td>\n",
       "      <td>-1.6669</td>\n",
       "      <td>-1.8579</td>\n",
       "      <td>-0.1561</td>\n",
       "      <td>-0.4346</td>\n",
       "      <td>-0.9774</td>\n",
       "      <td>2.3183</td>\n",
       "      <td>-0.6404</td>\n",
       "      <td>-0.6750</td>\n",
       "      <td>-0.8248</td>\n",
       "      <td>-0.3451</td>\n",
       "      <td>0.6163</td>\n",
       "      <td>0.0261</td>\n",
       "      <td>-1.8579</td>\n",
       "      <td>-0.1121</td>\n",
       "    </tr>\n",
       "  </tbody>\n",
       "</table>\n",
       "</div>"
      ],
      "text/plain": [
       "       Current Loan Amount    Term  Credit Score  Annual Income  \\\n",
       "52872              -0.3893 -1.6669       -1.8579        -0.1561   \n",
       "\n",
       "       Years in current job  Home Ownership  Purpose  Monthly Debt  \\\n",
       "52872               -0.4346         -0.9774   2.3183       -0.6404   \n",
       "\n",
       "       Years of Credit History  Number of Open Accounts  \\\n",
       "52872                  -0.6750                  -0.8248   \n",
       "\n",
       "       Number of Credit Problems  Current Credit Balance  Maximum Open Credit  \\\n",
       "52872                    -0.3451                  0.6163               0.0261   \n",
       "\n",
       "       Bankruptcies  Tax Liens  \n",
       "52872       -1.8579    -0.1121  "
      ]
     },
     "execution_count": 58,
     "metadata": {},
     "output_type": "execute_result"
    }
   ],
   "source": [
    "cfs"
   ]
  },
  {
   "cell_type": "code",
   "execution_count": 59,
   "metadata": {},
   "outputs": [
    {
     "data": {
      "text/plain": [
       "array([1], dtype=int8)"
      ]
     },
     "execution_count": 59,
     "metadata": {},
     "output_type": "execute_result"
    }
   ],
   "source": [
    "log_reg.predict(cfs)"
   ]
  },
  {
   "cell_type": "code",
   "execution_count": 62,
   "metadata": {},
   "outputs": [
    {
     "name": "stderr",
     "output_type": "stream",
     "text": [
      "UsageError: %%time is a cell magic, but the cell body is empty. Did you mean the line magic %time (single %)?\n"
     ]
    }
   ],
   "source": [
    "%%time\n"
   ]
  },
  {
   "cell_type": "code",
   "execution_count": null,
   "metadata": {},
   "outputs": [],
   "source": []
  },
  {
   "attachments": {},
   "cell_type": "markdown",
   "metadata": {},
   "source": [
    "DISTANCE"
   ]
  },
  {
   "cell_type": "code",
   "execution_count": 63,
   "metadata": {},
   "outputs": [],
   "source": [
    "\n",
    "a = obs_st.copy().reset_index(drop = True)\n",
    "\n",
    "\n"
   ]
  },
  {
   "cell_type": "code",
   "execution_count": 64,
   "metadata": {},
   "outputs": [],
   "source": [
    "dist_obs = euclidean_distances(obs_st, a)"
   ]
  },
  {
   "cell_type": "code",
   "execution_count": 65,
   "metadata": {},
   "outputs": [],
   "source": [
    "nbrs = NearestNeighbors(n_neighbors=5, algorithm='ball_tree').fit(X_st)\n"
   ]
  },
  {
   "cell_type": "code",
   "execution_count": 66,
   "metadata": {},
   "outputs": [],
   "source": [
    "radius = nbrs.kneighbors(a, return_distance = True)[0][0]\n",
    "centers = nbrs.kneighbors(a, return_distance = True)[1][0]"
   ]
  },
  {
   "cell_type": "code",
   "execution_count": 151,
   "metadata": {},
   "outputs": [
    {
     "data": {
      "text/plain": [
       "array([1.76554572, 1.84949056, 2.05334973, 2.18717947, 2.2352472 ])"
      ]
     },
     "execution_count": 151,
     "metadata": {},
     "output_type": "execute_result"
    }
   ],
   "source": [
    "radius"
   ]
  },
  {
   "cell_type": "code",
   "execution_count": 156,
   "metadata": {},
   "outputs": [
    {
     "data": {
      "text/plain": [
       "[658, 1622, 1907, 1217, 583]"
      ]
     },
     "execution_count": 156,
     "metadata": {},
     "output_type": "execute_result"
    }
   ],
   "source": [
    "centers.tolist()"
   ]
  },
  {
   "cell_type": "code",
   "execution_count": 164,
   "metadata": {},
   "outputs": [
    {
     "data": {
      "text/html": [
       "<div>\n",
       "<style scoped>\n",
       "    .dataframe tbody tr th:only-of-type {\n",
       "        vertical-align: middle;\n",
       "    }\n",
       "\n",
       "    .dataframe tbody tr th {\n",
       "        vertical-align: top;\n",
       "    }\n",
       "\n",
       "    .dataframe thead th {\n",
       "        text-align: right;\n",
       "    }\n",
       "</style>\n",
       "<table border=\"1\" class=\"dataframe\">\n",
       "  <thead>\n",
       "    <tr style=\"text-align: right;\">\n",
       "      <th></th>\n",
       "      <th>Current Loan Amount</th>\n",
       "      <th>Term</th>\n",
       "      <th>Credit Score</th>\n",
       "      <th>Annual Income</th>\n",
       "      <th>Years in current job</th>\n",
       "      <th>Home Ownership</th>\n",
       "      <th>Purpose</th>\n",
       "      <th>Monthly Debt</th>\n",
       "      <th>Years of Credit History</th>\n",
       "      <th>Number of Open Accounts</th>\n",
       "      <th>Number of Credit Problems</th>\n",
       "      <th>Current Credit Balance</th>\n",
       "      <th>Maximum Open Credit</th>\n",
       "      <th>Bankruptcies</th>\n",
       "      <th>Tax Liens</th>\n",
       "    </tr>\n",
       "  </thead>\n",
       "  <tbody>\n",
       "    <tr>\n",
       "      <th>43530</th>\n",
       "      <td>-0.38</td>\n",
       "      <td>-1.67</td>\n",
       "      <td>-0.34</td>\n",
       "      <td>-0.46</td>\n",
       "      <td>-1.50</td>\n",
       "      <td>-0.98</td>\n",
       "      <td>3.21</td>\n",
       "      <td>-0.02</td>\n",
       "      <td>-0.36</td>\n",
       "      <td>-0.22</td>\n",
       "      <td>-0.35</td>\n",
       "      <td>0.99</td>\n",
       "      <td>0.03</td>\n",
       "      <td>-0.33</td>\n",
       "      <td>-0.11</td>\n",
       "    </tr>\n",
       "    <tr>\n",
       "      <th>6594</th>\n",
       "      <td>-0.39</td>\n",
       "      <td>-1.67</td>\n",
       "      <td>-0.28</td>\n",
       "      <td>-0.95</td>\n",
       "      <td>-0.70</td>\n",
       "      <td>0.07</td>\n",
       "      <td>1.43</td>\n",
       "      <td>-0.78</td>\n",
       "      <td>0.08</td>\n",
       "      <td>-1.22</td>\n",
       "      <td>-0.35</td>\n",
       "      <td>0.57</td>\n",
       "      <td>0.03</td>\n",
       "      <td>-0.33</td>\n",
       "      <td>-0.11</td>\n",
       "    </tr>\n",
       "    <tr>\n",
       "      <th>65072</th>\n",
       "      <td>-0.39</td>\n",
       "      <td>-1.67</td>\n",
       "      <td>-0.29</td>\n",
       "      <td>1.07</td>\n",
       "      <td>-0.70</td>\n",
       "      <td>-0.98</td>\n",
       "      <td>3.21</td>\n",
       "      <td>0.01</td>\n",
       "      <td>-0.75</td>\n",
       "      <td>-0.22</td>\n",
       "      <td>-0.35</td>\n",
       "      <td>-0.37</td>\n",
       "      <td>0.02</td>\n",
       "      <td>-0.33</td>\n",
       "      <td>-0.11</td>\n",
       "    </tr>\n",
       "    <tr>\n",
       "      <th>13001</th>\n",
       "      <td>-0.38</td>\n",
       "      <td>-1.67</td>\n",
       "      <td>0.00</td>\n",
       "      <td>0.00</td>\n",
       "      <td>-1.50</td>\n",
       "      <td>-0.98</td>\n",
       "      <td>0.98</td>\n",
       "      <td>-0.35</td>\n",
       "      <td>-0.15</td>\n",
       "      <td>0.38</td>\n",
       "      <td>-0.35</td>\n",
       "      <td>0.80</td>\n",
       "      <td>0.03</td>\n",
       "      <td>-0.33</td>\n",
       "      <td>-0.11</td>\n",
       "    </tr>\n",
       "    <tr>\n",
       "      <th>26847</th>\n",
       "      <td>-0.38</td>\n",
       "      <td>-1.67</td>\n",
       "      <td>-0.28</td>\n",
       "      <td>0.55</td>\n",
       "      <td>0.10</td>\n",
       "      <td>-0.98</td>\n",
       "      <td>0.54</td>\n",
       "      <td>-0.85</td>\n",
       "      <td>-0.19</td>\n",
       "      <td>-0.22</td>\n",
       "      <td>-0.35</td>\n",
       "      <td>0.04</td>\n",
       "      <td>0.03</td>\n",
       "      <td>-0.33</td>\n",
       "      <td>-0.11</td>\n",
       "    </tr>\n",
       "  </tbody>\n",
       "</table>\n",
       "</div>"
      ],
      "text/plain": [
       "       Current Loan Amount  Term  Credit Score  Annual Income  \\\n",
       "43530                -0.38 -1.67         -0.34          -0.46   \n",
       "6594                 -0.39 -1.67         -0.28          -0.95   \n",
       "65072                -0.39 -1.67         -0.29           1.07   \n",
       "13001                -0.38 -1.67          0.00           0.00   \n",
       "26847                -0.38 -1.67         -0.28           0.55   \n",
       "\n",
       "       Years in current job  Home Ownership  Purpose  Monthly Debt  \\\n",
       "43530                 -1.50           -0.98     3.21         -0.02   \n",
       "6594                  -0.70            0.07     1.43         -0.78   \n",
       "65072                 -0.70           -0.98     3.21          0.01   \n",
       "13001                 -1.50           -0.98     0.98         -0.35   \n",
       "26847                  0.10           -0.98     0.54         -0.85   \n",
       "\n",
       "       Years of Credit History  Number of Open Accounts  \\\n",
       "43530                    -0.36                    -0.22   \n",
       "6594                      0.08                    -1.22   \n",
       "65072                    -0.75                    -0.22   \n",
       "13001                    -0.15                     0.38   \n",
       "26847                    -0.19                    -0.22   \n",
       "\n",
       "       Number of Credit Problems  Current Credit Balance  Maximum Open Credit  \\\n",
       "43530                      -0.35                    0.99                 0.03   \n",
       "6594                       -0.35                    0.57                 0.03   \n",
       "65072                      -0.35                   -0.37                 0.02   \n",
       "13001                      -0.35                    0.80                 0.03   \n",
       "26847                      -0.35                    0.04                 0.03   \n",
       "\n",
       "       Bankruptcies  Tax Liens  \n",
       "43530         -0.33      -0.11  \n",
       "6594          -0.33      -0.11  \n",
       "65072         -0.33      -0.11  \n",
       "13001         -0.33      -0.11  \n",
       "26847         -0.33      -0.11  "
      ]
     },
     "execution_count": 164,
     "metadata": {},
     "output_type": "execute_result"
    }
   ],
   "source": [
    "X_st.iloc[centers]"
   ]
  },
  {
   "cell_type": "code",
   "execution_count": 98,
   "metadata": {},
   "outputs": [
    {
     "data": {
      "text/html": [
       "<div>\n",
       "<style scoped>\n",
       "    .dataframe tbody tr th:only-of-type {\n",
       "        vertical-align: middle;\n",
       "    }\n",
       "\n",
       "    .dataframe tbody tr th {\n",
       "        vertical-align: top;\n",
       "    }\n",
       "\n",
       "    .dataframe thead th {\n",
       "        text-align: right;\n",
       "    }\n",
       "</style>\n",
       "<table border=\"1\" class=\"dataframe\">\n",
       "  <thead>\n",
       "    <tr style=\"text-align: right;\">\n",
       "      <th></th>\n",
       "      <th>Current Loan Amount</th>\n",
       "      <th>Term</th>\n",
       "      <th>Credit Score</th>\n",
       "      <th>Annual Income</th>\n",
       "      <th>Years in current job</th>\n",
       "      <th>Home Ownership</th>\n",
       "      <th>Purpose</th>\n",
       "      <th>Monthly Debt</th>\n",
       "      <th>Years of Credit History</th>\n",
       "      <th>Number of Open Accounts</th>\n",
       "      <th>Number of Credit Problems</th>\n",
       "      <th>Current Credit Balance</th>\n",
       "      <th>Maximum Open Credit</th>\n",
       "      <th>Bankruptcies</th>\n",
       "      <th>Tax Liens</th>\n",
       "    </tr>\n",
       "  </thead>\n",
       "  <tbody>\n",
       "    <tr>\n",
       "      <th>0</th>\n",
       "      <td>-0.3893</td>\n",
       "      <td>-1.6669</td>\n",
       "      <td>4.0973</td>\n",
       "      <td>-0.1561</td>\n",
       "      <td>-0.4346</td>\n",
       "      <td>-0.9774</td>\n",
       "      <td>2.3183</td>\n",
       "      <td>-0.6404</td>\n",
       "      <td>-0.6750</td>\n",
       "      <td>-0.8248</td>\n",
       "      <td>-0.3451</td>\n",
       "      <td>0.6163</td>\n",
       "      <td>0.0261</td>\n",
       "      <td>-0.3324</td>\n",
       "      <td>-0.1121</td>\n",
       "    </tr>\n",
       "  </tbody>\n",
       "</table>\n",
       "</div>"
      ],
      "text/plain": [
       "   Current Loan Amount    Term  Credit Score  Annual Income  \\\n",
       "0              -0.3893 -1.6669        4.0973        -0.1561   \n",
       "\n",
       "   Years in current job  Home Ownership  Purpose  Monthly Debt  \\\n",
       "0               -0.4346         -0.9774   2.3183       -0.6404   \n",
       "\n",
       "   Years of Credit History  Number of Open Accounts  \\\n",
       "0                  -0.6750                  -0.8248   \n",
       "\n",
       "   Number of Credit Problems  Current Credit Balance  Maximum Open Credit  \\\n",
       "0                    -0.3451                  0.6163               0.0261   \n",
       "\n",
       "   Bankruptcies  Tax Liens  \n",
       "0       -0.3324    -0.1121  "
      ]
     },
     "execution_count": 98,
     "metadata": {},
     "output_type": "execute_result"
    }
   ],
   "source": [
    "a"
   ]
  },
  {
   "cell_type": "code",
   "execution_count": 168,
   "metadata": {},
   "outputs": [],
   "source": [
    "dist_set = euclidean_distances(a, X_st.iloc[centers])"
   ]
  },
  {
   "attachments": {},
   "cell_type": "markdown",
   "metadata": {},
   "source": [
    "DICE\n",
    "\n",
    "Compare with Dice"
   ]
  },
  {
   "cell_type": "code",
   "execution_count": 84,
   "metadata": {},
   "outputs": [
    {
     "data": {
      "text/plain": [
       "(2000, 15)"
      ]
     },
     "execution_count": 84,
     "metadata": {},
     "output_type": "execute_result"
    }
   ],
   "source": [
    "dice_df = X_st.copy()\n",
    "dice_df.shape"
   ]
  },
  {
   "cell_type": "code",
   "execution_count": 85,
   "metadata": {},
   "outputs": [],
   "source": [
    "continuous_features = ['Current Loan Amount', 'Term', 'Credit Score',\n",
    "       'Annual Income', 'Years in current job', 'Home Ownership', 'Purpose',\n",
    "       'Monthly Debt', 'Years of Credit History', 'Number of Open Accounts',\n",
    "       'Number of Credit Problems', 'Current Credit Balance',\n",
    "       'Maximum Open Credit', 'Bankruptcies', 'Tax Liens']"
   ]
  },
  {
   "cell_type": "code",
   "execution_count": 71,
   "metadata": {},
   "outputs": [
    {
     "data": {
      "text/plain": [
       "0        1\n",
       "1        1\n",
       "2        1\n",
       "3        1\n",
       "4        1\n",
       "        ..\n",
       "99994    1\n",
       "99996    1\n",
       "99997    1\n",
       "99998    1\n",
       "99999    1\n",
       "Name: Loan Status, Length: 89785, dtype: int8"
      ]
     },
     "execution_count": 71,
     "metadata": {},
     "output_type": "execute_result"
    }
   ],
   "source": [
    "y = df[\"Loan Status\"]\n",
    "y"
   ]
  },
  {
   "cell_type": "code",
   "execution_count": 94,
   "metadata": {},
   "outputs": [],
   "source": [
    "import dice_ml\n",
    "\n",
    "from dice_ml.utils import helpers # helper functions \n",
    "\n",
    " #Change only the features to change \n",
    "config_dice = {\"features_to_change\": ['Credit Score', 'Bankruptcies'],\n",
    "             \"n_counerfactuals\": 1,  \n",
    "             \"target\": 'Loan Status'}\n",
    "m = dice_ml.Model(model=log_reg, backend='sklearn')\n",
    "d = dice_ml.Data(dataframe=pd.concat([dice_df,y], axis = 1), continuous_features=list(numeric_cols), outcome_name='Loan Status', m = m)\n",
    "exp = dice_ml.Dice(d, m, method='random') "
   ]
  },
  {
   "cell_type": "code",
   "execution_count": null,
   "metadata": {},
   "outputs": [],
   "source": [
    "import time\n",
    "# Start time\n",
    "start_time = time.time()\n",
    "e = exp.generate_counterfactuals(dice_df, total_CFs=1, desired_class=\"opposite\", features_to_vary=config_dice[\"features_to_change\"])\n",
    "\n",
    "# End time\n",
    "end_time = time.time()\n",
    "# Elapsed time\n",
    "elapsed_time_dice = end_time - start_time\n",
    "print(\"Time taken:\", elapsed_time_dice, \"seconds\")\n"
   ]
  },
  {
   "cell_type": "code",
   "execution_count": 95,
   "metadata": {},
   "outputs": [
    {
     "name": "stderr",
     "output_type": "stream",
     "text": [
      "100%|██████████| 1/1 [00:00<00:00,  1.76it/s]\n"
     ]
    }
   ],
   "source": [
    "e = exp.generate_counterfactuals(obs_st, total_CFs=1, desired_class=\"opposite\", features_to_vary=config_dice[\"features_to_change\"])\n"
   ]
  },
  {
   "cell_type": "code",
   "execution_count": 96,
   "metadata": {},
   "outputs": [],
   "source": [
    "cf = e.cf_examples_list[0].final_cfs_df"
   ]
  },
  {
   "cell_type": "code",
   "execution_count": 97,
   "metadata": {},
   "outputs": [
    {
     "data": {
      "text/html": [
       "<div>\n",
       "<style scoped>\n",
       "    .dataframe tbody tr th:only-of-type {\n",
       "        vertical-align: middle;\n",
       "    }\n",
       "\n",
       "    .dataframe tbody tr th {\n",
       "        vertical-align: top;\n",
       "    }\n",
       "\n",
       "    .dataframe thead th {\n",
       "        text-align: right;\n",
       "    }\n",
       "</style>\n",
       "<table border=\"1\" class=\"dataframe\">\n",
       "  <thead>\n",
       "    <tr style=\"text-align: right;\">\n",
       "      <th></th>\n",
       "      <th>Current Loan Amount</th>\n",
       "      <th>Term</th>\n",
       "      <th>Credit Score</th>\n",
       "      <th>Annual Income</th>\n",
       "      <th>Years in current job</th>\n",
       "      <th>Home Ownership</th>\n",
       "      <th>Purpose</th>\n",
       "      <th>Monthly Debt</th>\n",
       "      <th>Years of Credit History</th>\n",
       "      <th>Number of Open Accounts</th>\n",
       "      <th>Number of Credit Problems</th>\n",
       "      <th>Current Credit Balance</th>\n",
       "      <th>Maximum Open Credit</th>\n",
       "      <th>Bankruptcies</th>\n",
       "      <th>Tax Liens</th>\n",
       "      <th>Loan Status</th>\n",
       "    </tr>\n",
       "  </thead>\n",
       "  <tbody>\n",
       "    <tr>\n",
       "      <th>0</th>\n",
       "      <td>-0.3893</td>\n",
       "      <td>-1.6669</td>\n",
       "      <td>-0.0000</td>\n",
       "      <td>-0.1561</td>\n",
       "      <td>-0.4346</td>\n",
       "      <td>-0.9774</td>\n",
       "      <td>2.3183</td>\n",
       "      <td>-0.6404</td>\n",
       "      <td>-0.6750</td>\n",
       "      <td>-0.8248</td>\n",
       "      <td>-0.3451</td>\n",
       "      <td>0.6163</td>\n",
       "      <td>0.0261</td>\n",
       "      <td>1.1709</td>\n",
       "      <td>-0.1121</td>\n",
       "      <td>1</td>\n",
       "    </tr>\n",
       "  </tbody>\n",
       "</table>\n",
       "</div>"
      ],
      "text/plain": [
       "   Current Loan Amount    Term  Credit Score  Annual Income  \\\n",
       "0              -0.3893 -1.6669       -0.0000        -0.1561   \n",
       "\n",
       "   Years in current job  Home Ownership  Purpose  Monthly Debt  \\\n",
       "0               -0.4346         -0.9774   2.3183       -0.6404   \n",
       "\n",
       "   Years of Credit History  Number of Open Accounts  \\\n",
       "0                  -0.6750                  -0.8248   \n",
       "\n",
       "   Number of Credit Problems  Current Credit Balance  Maximum Open Credit  \\\n",
       "0                    -0.3451                  0.6163               0.0261   \n",
       "\n",
       "   Bankruptcies  Tax Liens  Loan Status  \n",
       "0        1.1709    -0.1121            1  "
      ]
     },
     "execution_count": 97,
     "metadata": {},
     "output_type": "execute_result"
    }
   ],
   "source": [
    "cf"
   ]
  },
  {
   "cell_type": "code",
   "execution_count": 72,
   "metadata": {},
   "outputs": [],
   "source": [
    "X_st = StandardScaler().fit_transform(X)\n"
   ]
  },
  {
   "cell_type": "code",
   "execution_count": null,
   "metadata": {},
   "outputs": [],
   "source": []
  },
  {
   "cell_type": "code",
   "execution_count": 63,
   "metadata": {},
   "outputs": [
    {
     "data": {
      "text/plain": [
       "Index(['Current Loan Amount', 'Credit Score', 'Annual Income',\n",
       "       'Years in current job', 'Monthly Debt', 'Years of Credit History',\n",
       "       'Number of Open Accounts', 'Number of Credit Problems',\n",
       "       'Current Credit Balance', 'Maximum Open Credit', 'Bankruptcies',\n",
       "       'Tax Liens'],\n",
       "      dtype='object')"
      ]
     },
     "execution_count": 63,
     "metadata": {},
     "output_type": "execute_result"
    }
   ],
   "source": [
    "cf_st_dice = StandardScaler().transform(cf)\n",
    "\n",
    "\n",
    "dist_dice = euclidean_distances(obs_st, cf_st_dice)\n",
    "dist_dice"
   ]
  }
 ],
 "metadata": {
  "kernelspec": {
   "display_name": "Python 3",
   "language": "python",
   "name": "python3"
  },
  "language_info": {
   "codemirror_mode": {
    "name": "ipython",
    "version": 3
   },
   "file_extension": ".py",
   "mimetype": "text/x-python",
   "name": "python",
   "nbconvert_exporter": "python",
   "pygments_lexer": "ipython3",
   "version": "3.10.11"
  },
  "orig_nbformat": 4
 },
 "nbformat": 4,
 "nbformat_minor": 2
}
